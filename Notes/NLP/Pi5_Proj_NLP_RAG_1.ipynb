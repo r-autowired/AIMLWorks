{
  "cells": [
    {
      "cell_type": "markdown",
      "metadata": {
        "id": "view-in-github",
        "colab_type": "text"
      },
      "source": [
        "<a href=\"https://colab.research.google.com/github/r-autowired/AIMLWorks/blob/main/Notes/NLP/Pi5_Proj_NLP_RAG_1.ipynb\" target=\"_parent\"><img src=\"https://colab.research.google.com/assets/colab-badge.svg\" alt=\"Open In Colab\"/></a>"
      ]
    },
    {
      "cell_type": "markdown",
      "metadata": {
        "id": "3CNz35ia6Bz3"
      },
      "source": [
        "## Problem Statement"
      ]
    },
    {
      "cell_type": "markdown",
      "metadata": {
        "id": "CkRbhMJH6Bz3"
      },
      "source": [
        "### Business Context"
      ]
    },
    {
      "cell_type": "markdown",
      "metadata": {
        "id": "3PBm5xaj6Bz3"
      },
      "source": [
        "The healthcare industry is rapidly evolving, with professionals facing increasing challenges in managing vast volumes of medical data while delivering accurate and timely diagnoses. The need for quick access to comprehensive, reliable, and up-to-date medical knowledge is critical for improving patient outcomes and ensuring informed decision-making in a fast-paced environment.\n",
        "\n",
        "Healthcare professionals often encounter information overload, struggling to sift through extensive research and data to create accurate diagnoses and treatment plans. This challenge is amplified by the need for efficiency, particularly in emergencies, where time-sensitive decisions are vital. Furthermore, access to trusted, current medical information from renowned manuals and research papers is essential for maintaining high standards of care.\n",
        "\n",
        "To address these challenges, healthcare centers can focus on integrating systems that streamline access to medical knowledge, provide tools to support quick decision-making, and enhance efficiency. Leveraging centralized knowledge platforms and ensuring healthcare providers have continuous access to reliable resources can significantly improve patient care and operational effectiveness."
      ]
    },
    {
      "cell_type": "markdown",
      "metadata": {
        "id": "1xDPsqvO6Bz5"
      },
      "source": [
        "**Common Questions to Answer**\n",
        "\n",
        "**1. Diagnostic Assistance**: \"What are the common symptoms and treatments for pulmonary embolism?\"\n",
        "\n",
        "**2. Drug Information**: \"Can you provide the trade names of medications used for treating hypertension?\"\n",
        "\n",
        "**3. Treatment Plans**: \"What are the first-line options and alternatives for managing rheumatoid arthritis?\"\n",
        "\n",
        "**4. Specialty Knowledge**: \"What are the diagnostic steps for suspected endocrine disorders?\"\n",
        "\n",
        "**5. Critical Care Protocols**: \"What is the protocol for managing sepsis in a critical care unit?\""
      ]
    },
    {
      "cell_type": "markdown",
      "metadata": {
        "id": "CARPKFwm6Bz4"
      },
      "source": [
        "### Objective"
      ]
    },
    {
      "cell_type": "markdown",
      "metadata": {
        "id": "dOElOEXq6Bz4"
      },
      "source": [
        "As an AI specialist, your task is to develop a RAG-based AI solution using renowned medical manuals to address healthcare challenges. The objective is to **understand** issues like information overload, **apply** AI techniques to streamline decision-making, **analyze** its impact on diagnostics and patient outcomes, **evaluate** its potential to standardize care practices, and **create** a functional prototype demonstrating its feasibility and effectiveness."
      ]
    },
    {
      "cell_type": "markdown",
      "metadata": {
        "id": "by9EvAnkSpZf"
      },
      "source": [
        "### Data Description"
      ]
    },
    {
      "cell_type": "markdown",
      "metadata": {
        "id": "Jw5LievCSru2"
      },
      "source": [
        "The **Merck Manuals** are medical references published by the American pharmaceutical company Merck & Co., that cover a wide range of medical topics, including disorders, tests, diagnoses, and drugs. The manuals have been published since 1899, when Merck & Co. was still a subsidiary of the German company Merck.\n",
        "\n",
        "The manual is provided as a PDF with over 4,000 pages divided into 23 sections."
      ]
    },
    {
      "cell_type": "markdown",
      "metadata": {
        "id": "lnwETBOE6Bz5"
      },
      "source": [
        "## Installing and Importing Necessary Libraries and Dependencies"
      ]
    },
    {
      "cell_type": "code",
      "source": [
        "# 1. Check current CUDA version on the A100 VM\n",
        "print(\"Checking CUDA version...\")\n",
        "!nvcc --version"
      ],
      "metadata": {
        "colab": {
          "base_uri": "https://localhost:8080/"
        },
        "id": "04BI1bnY3-o3",
        "outputId": "77909ce1-4ae4-4a47-d62b-bf6d030693f6"
      },
      "execution_count": null,
      "outputs": [
        {
          "output_type": "stream",
          "name": "stdout",
          "text": [
            "Checking CUDA version...\n",
            "nvcc: NVIDIA (R) Cuda compiler driver\n",
            "Copyright (c) 2005-2024 NVIDIA Corporation\n",
            "Built on Thu_Jun__6_02:18:23_PDT_2024\n",
            "Cuda compilation tools, release 12.5, V12.5.82\n",
            "Build cuda_12.5.r12.5/compiler.34385749_0\n"
          ]
        }
      ]
    },
    {
      "cell_type": "code",
      "execution_count": null,
      "metadata": {
        "colab": {
          "base_uri": "https://localhost:8080/"
        },
        "id": "q4GgLhZhUM4V",
        "outputId": "0d8c743a-2289-44b2-b0ed-2ffc5949ca6c"
      },
      "outputs": [
        {
          "output_type": "stream",
          "name": "stdout",
          "text": [
            "\u001b[?25l     \u001b[90m━━━━━━━━━━━━━━━━━━━━━━━━━━━━━━━━━━━━━━━━\u001b[0m \u001b[32m0.0/1.8 MB\u001b[0m \u001b[31m?\u001b[0m eta \u001b[36m-:--:--\u001b[0m\r\u001b[2K     \u001b[90m━━━━━━━━━━━━━━━━━━━━━━━━━━━━━━━━━━━━━━━━\u001b[0m \u001b[32m1.8/1.8 MB\u001b[0m \u001b[31m72.7 MB/s\u001b[0m eta \u001b[36m0:00:00\u001b[0m\n",
            "\u001b[?25h  Installing build dependencies ... \u001b[?25l\u001b[?25hdone\n",
            "  Getting requirements to build wheel ... \u001b[?25l\u001b[?25hdone\n",
            "  Preparing metadata (pyproject.toml) ... \u001b[?25l\u001b[?25hdone\n",
            "\u001b[2K     \u001b[90m━━━━━━━━━━━━━━━━━━━━━━━━━━━━━━━━━━━━━━━\u001b[0m \u001b[32m62.1/62.1 kB\u001b[0m \u001b[31m174.0 MB/s\u001b[0m eta \u001b[36m0:00:00\u001b[0m\n",
            "\u001b[2K   \u001b[90m━━━━━━━━━━━━━━━━━━━━━━━━━━━━━━━━━━━━━━━━\u001b[0m \u001b[32m45.5/45.5 kB\u001b[0m \u001b[31m247.0 MB/s\u001b[0m eta \u001b[36m0:00:00\u001b[0m\n",
            "\u001b[2K   \u001b[90m━━━━━━━━━━━━━━━━━━━━━━━━━━━━━━━━━━━━━━━━\u001b[0m \u001b[32m16.9/16.9 MB\u001b[0m \u001b[31m122.7 MB/s\u001b[0m eta \u001b[36m0:00:00\u001b[0m\n",
            "\u001b[2K   \u001b[90m━━━━━━━━━━━━━━━━━━━━━━━━━━━━━━━━━━━━━━━━\u001b[0m \u001b[32m43.8/43.8 kB\u001b[0m \u001b[31m252.2 MB/s\u001b[0m eta \u001b[36m0:00:00\u001b[0m\n",
            "\u001b[?25h  Building wheel for llama-cpp-python (pyproject.toml) ... \u001b[?25l\u001b[?25hdone\n",
            "\u001b[31mERROR: pip's dependency resolver does not currently take into account all the packages that are installed. This behaviour is the source of the following dependency conflicts.\n",
            "gensim 4.3.3 requires numpy<2.0,>=1.18.5, but you have numpy 2.3.1 which is incompatible.\n",
            "scipy 1.13.1 requires numpy<2.3,>=1.22.4, but you have numpy 2.3.1 which is incompatible.\n",
            "cupy-cuda12x 13.3.0 requires numpy<2.3,>=1.22, but you have numpy 2.3.1 which is incompatible.\n",
            "tensorflow 2.18.0 requires numpy<2.1.0,>=1.26.0, but you have numpy 2.3.1 which is incompatible.\n",
            "numba 0.60.0 requires numpy<2.1,>=1.22, but you have numpy 2.3.1 which is incompatible.\u001b[0m\u001b[31m\n",
            "\u001b[0m"
          ]
        }
      ],
      "source": [
        "# Installation for GPU llama-cpp-python\n",
        "# uncomment and run the following code in case GPU is being used\n",
        "!CMAKE_ARGS=\"-DLLAMA_CUBLAS=on -DCMAKE_CUDA_ARCHITECTURES=all-major\" FORCE_CMAKE=1 pip install llama-cpp-python==0.1.85 --force-reinstall --no-cache-dir -q\n",
        "#!CMAKE_ARGS=\"-DLLAMA_CUBLAS=on -DCMAKE_CUDA_ARCHITECTURES=all-major\" FORCE_CMAKE=1 pip install llama-cpp-python --no-cache-dir --verbose\n",
        "\n",
        "# Installation for CPU llama-cpp-python\n",
        "# uncomment and run the following code in case GPU is not being used\n",
        "# !CMAKE_ARGS=\"-DLLAMA_CUBLAS=off\" FORCE_CMAKE=1 pip install llama-cpp-python==0.1.85 --force-reinstall --no-cache-dir -q"
      ]
    },
    {
      "cell_type": "code",
      "execution_count": null,
      "metadata": {
        "id": "0VOckDVkWGei",
        "colab": {
          "base_uri": "https://localhost:8080/"
        },
        "outputId": "5fe13330-0687-4b92-a9d4-480138d3e333"
      },
      "outputs": [
        {
          "output_type": "stream",
          "name": "stdout",
          "text": [
            "\u001b[2K     \u001b[90m━━━━━━━━━━━━━━━━━━━━━━━━━━━━━━━━━━━━━━━━\u001b[0m \u001b[32m62.0/62.0 kB\u001b[0m \u001b[31m3.8 MB/s\u001b[0m eta \u001b[36m0:00:00\u001b[0m\n",
            "\u001b[2K   \u001b[90m━━━━━━━━━━━━━━━━━━━━━━━━━━━━━━━━━━━━━━━━\u001b[0m \u001b[32m16.8/16.8 MB\u001b[0m \u001b[31m47.1 MB/s\u001b[0m eta \u001b[36m0:00:00\u001b[0m\n",
            "\u001b[?25h\u001b[31mERROR: pip's dependency resolver does not currently take into account all the packages that are installed. This behaviour is the source of the following dependency conflicts.\n",
            "gensim 4.3.3 requires numpy<2.0,>=1.18.5, but you have numpy 2.2.6 which is incompatible.\n",
            "tensorflow 2.18.0 requires numpy<2.1.0,>=1.26.0, but you have numpy 2.2.6 which is incompatible.\n",
            "numba 0.60.0 requires numpy<2.1,>=1.22, but you have numpy 2.2.6 which is incompatible.\u001b[0m\u001b[31m\n",
            "\u001b[0m"
          ]
        }
      ],
      "source": [
        "# For installing the libraries & downloading models from HF Hub\n",
        "!pip install huggingface_hub pandas tiktoken pymupdf langchain langchain-community chromadb sentence-transformers numpy -q"
      ]
    },
    {
      "cell_type": "code",
      "source": [
        "!pip uninstall numpy scipy tsfresh -y\n",
        "!pip install numpy==1.26.4 scipy==1.13.1 gensim==4.3.3\n"
      ],
      "metadata": {
        "id": "H8pzAlBjUmyo",
        "colab": {
          "base_uri": "https://localhost:8080/",
          "height": 480
        },
        "outputId": "be5ecebb-c38a-4d96-bf9c-9afda30ceea0"
      },
      "execution_count": null,
      "outputs": [
        {
          "output_type": "stream",
          "name": "stdout",
          "text": [
            "Found existing installation: numpy 2.2.6\n",
            "Uninstalling numpy-2.2.6:\n",
            "  Successfully uninstalled numpy-2.2.6\n",
            "Found existing installation: scipy 1.13.1\n",
            "Uninstalling scipy-1.13.1:\n",
            "  Successfully uninstalled scipy-1.13.1\n",
            "\u001b[33mWARNING: Skipping tsfresh as it is not installed.\u001b[0m\u001b[33m\n",
            "\u001b[0mCollecting numpy==1.26.4\n",
            "  Using cached numpy-1.26.4-cp311-cp311-manylinux_2_17_x86_64.manylinux2014_x86_64.whl.metadata (61 kB)\n",
            "Collecting scipy==1.13.1\n",
            "  Using cached scipy-1.13.1-cp311-cp311-manylinux_2_17_x86_64.manylinux2014_x86_64.whl.metadata (60 kB)\n",
            "Requirement already satisfied: gensim==4.3.3 in /usr/local/lib/python3.11/dist-packages (4.3.3)\n",
            "Requirement already satisfied: smart-open>=1.8.1 in /usr/local/lib/python3.11/dist-packages (from gensim==4.3.3) (7.1.0)\n",
            "Requirement already satisfied: wrapt in /usr/local/lib/python3.11/dist-packages (from smart-open>=1.8.1->gensim==4.3.3) (1.17.2)\n",
            "Using cached numpy-1.26.4-cp311-cp311-manylinux_2_17_x86_64.manylinux2014_x86_64.whl (18.3 MB)\n",
            "Using cached scipy-1.13.1-cp311-cp311-manylinux_2_17_x86_64.manylinux2014_x86_64.whl (38.6 MB)\n",
            "Installing collected packages: numpy, scipy\n",
            "\u001b[31mERROR: pip's dependency resolver does not currently take into account all the packages that are installed. This behaviour is the source of the following dependency conflicts.\n",
            "thinc 8.3.6 requires numpy<3.0.0,>=2.0.0, but you have numpy 1.26.4 which is incompatible.\u001b[0m\u001b[31m\n",
            "\u001b[0mSuccessfully installed numpy-1.26.4 scipy-1.13.1\n"
          ]
        },
        {
          "output_type": "display_data",
          "data": {
            "application/vnd.colab-display-data+json": {
              "pip_warning": {
                "packages": [
                  "numpy",
                  "scipy"
                ]
              },
              "id": "f134f7698a974773a5e6693d49297a31"
            }
          },
          "metadata": {}
        }
      ]
    },
    {
      "cell_type": "code",
      "execution_count": null,
      "metadata": {
        "id": "RTY9GN4oWK3g"
      },
      "outputs": [],
      "source": [
        "#Libraries for processing dataframes,text\n",
        "import json,os\n",
        "import tiktoken\n",
        "import pandas as pd\n",
        "\n",
        "#Libraries for Loading Data, Chunking, Embedding, and Vector Databases\n",
        "from langchain.text_splitter import RecursiveCharacterTextSplitter\n",
        "from langchain_community.document_loaders import PyMuPDFLoader\n",
        "from langchain_community.embeddings.sentence_transformer import SentenceTransformerEmbeddings\n",
        "from langchain_community.vectorstores import Chroma\n",
        "\n"
      ]
    },
    {
      "cell_type": "code",
      "source": [
        "#Libraries for downloading and loading the llm\n",
        "from huggingface_hub import hf_hub_download\n",
        "from llama_cpp import Llama"
      ],
      "metadata": {
        "id": "6S7VoYopLhw4"
      },
      "execution_count": null,
      "outputs": []
    },
    {
      "cell_type": "markdown",
      "metadata": {
        "id": "TtZWqj0wFTS1"
      },
      "source": [
        "## Question Answering using LLM"
      ]
    },
    {
      "cell_type": "markdown",
      "metadata": {
        "id": "Uq1lhM4WFTS2"
      },
      "source": [
        "#### Downloading and Loading the model"
      ]
    },
    {
      "cell_type": "code",
      "source": [
        "## Model configuration\n",
        "model_name_or_path = \"TheBloke/Llama-2-13B-chat-GGUF\"\n",
        "model_basename = \"llama-2-13b-chat.Q5_K_M.gguf\"\n",
        "model_path = hf_hub_download(\n",
        "    repo_id=model_name_or_path,\n",
        "    filename=model_basename\n",
        "    )"
      ],
      "metadata": {
        "id": "dA3XQMWmQLJp",
        "colab": {
          "base_uri": "https://localhost:8080/"
        },
        "outputId": "26f8d4f5-77e9-4b0d-8f2b-f11ba4bbe493"
      },
      "execution_count": null,
      "outputs": [
        {
          "output_type": "stream",
          "name": "stderr",
          "text": [
            "/usr/local/lib/python3.11/dist-packages/huggingface_hub/utils/_token.py:89: UserWarning: \n",
            "The secret `HF_TOKEN` does not exist in your Colab secrets.\n",
            "To authenticate with the Hugging Face Hub, create a token in your settings tab (https://huggingface.co/settings/tokens), set it as secret in your Google Colab and restart your session.\n",
            "You will be able to reuse this secret in all of your notebooks.\n",
            "Please note that authentication is recommended but still optional to access public models or datasets.\n",
            "  warnings.warn(\n"
          ]
        }
      ]
    },
    {
      "cell_type": "markdown",
      "source": [
        "Observation\n",
        "- Downloaind the Llama model from Hugging Face"
      ],
      "metadata": {
        "id": "czxm9idKC11R"
      }
    },
    {
      "cell_type": "code",
      "source": [
        "import torch\n",
        "\n",
        "if torch.cuda.is_available():\n",
        "    gpu_count = torch.cuda.device_count()\n",
        "    print(f\"Number of GPUs available: {gpu_count}\")\n",
        "    for i in range(gpu_count):\n",
        "        print(f\"GPU {i}: {torch.cuda.get_device_name(i)}\")\n",
        "        total_memory = torch.cuda.get_device_properties(i).total_memory\n",
        "        print(f\"Total memory: {total_memory / (1024**3):.2f} GB\") # Convert bytes to GB\n",
        "else:\n",
        "    print(\"No CUDA-enabled GPU found.\")"
      ],
      "metadata": {
        "colab": {
          "base_uri": "https://localhost:8080/"
        },
        "id": "UNY4hMufuaWx",
        "outputId": "286cdf5b-7e73-4288-c9fd-fcffc23b7eb1"
      },
      "execution_count": null,
      "outputs": [
        {
          "output_type": "stream",
          "name": "stdout",
          "text": [
            "No CUDA-enabled GPU found.\n"
          ]
        }
      ]
    },
    {
      "cell_type": "markdown",
      "source": [
        "Observation\n",
        "- I am getting out of memory error when using GPU and trying to see if GPU enabled\n",
        "- This is weired and in the middle of programing executions it **crashes and restarts session** and this is pain in neck for me to execute everything from scratch\n",
        "- I ran on CPU most of my commands and had to spend tons of time waiting for it to complete"
      ],
      "metadata": {
        "id": "rw1rlLe7DJJi"
      }
    },
    {
      "cell_type": "code",
      "source": [
        "lcpp_llm = Llama(\n",
        "    model_path=model_path,\n",
        "    n_threads=2,  # CPU cores\n",
        "    n_batch=512,  # Should be between 1 and n_ctx, consider the amount of VRAM in your GPU.\n",
        "    n_gpu_layers=43,  # Change this value based on your model and your GPU VRAM pool.\n",
        "    n_ctx=4096,  # Context window\n",
        ")"
      ],
      "metadata": {
        "colab": {
          "base_uri": "https://localhost:8080/"
        },
        "id": "QxW9-TmzueTl",
        "outputId": "68bd2a88-8a74-46a0-f384-d8ad7ef05d2c"
      },
      "execution_count": null,
      "outputs": [
        {
          "output_type": "stream",
          "name": "stderr",
          "text": [
            "AVX = 1 | AVX2 = 1 | AVX512 = 0 | AVX512_VBMI = 0 | AVX512_VNNI = 0 | FMA = 1 | NEON = 0 | ARM_FMA = 0 | F16C = 1 | FP16_VA = 0 | WASM_SIMD = 0 | BLAS = 1 | SSE3 = 1 | SSSE3 = 1 | VSX = 0 | \n"
          ]
        }
      ]
    },
    {
      "cell_type": "markdown",
      "source": [
        "Observation\n",
        "- n_therads is set to 2 as running this code on my laptop where number of CPU Cores are minimal (my laptop has only 4 cores)\n",
        "- n_batch is 512 and this refers to the number of input prompts processed together in a single step. Higher the numbers - speed up training\n",
        "- n_gpu_layers  will transfer the number of process to GPU and remaning will be on CPU. Though i had memory issues i still had 43 for my gpu_layer\n",
        "- n_ctx refers to context of length which determines the conversation history the model can **remmeber** and that is why n_batch is dependent on this variable. Larger the value more coherence and relevance to the input."
      ],
      "metadata": {
        "id": "Xl0Qkx_mDWE3"
      }
    },
    {
      "cell_type": "markdown",
      "metadata": {
        "id": "EzzkvIXvFTS4"
      },
      "source": [
        "#### Response"
      ]
    },
    {
      "cell_type": "code",
      "source": [
        "def response(query,max_tokens=128,temperature=0,top_p=0.95,top_k=50):\n",
        "    # System message\n",
        "    system_message = \"\"\"\n",
        "    [INST]<> Respond to the user question based on the user prompt<>[/INST]\n",
        "    \"\"\"\n",
        "\n",
        "    # Combine user_prompt and system_message to create the prompt\n",
        "    prompt = f\"{user_prompt}\\n{system_message}\"\n",
        "\n",
        "\n",
        "    model_output = lcpp_llm(\n",
        "      prompt=query,\n",
        "      max_tokens=max_tokens,\n",
        "      temperature=temperature,\n",
        "      top_p=top_p,\n",
        "      top_k=top_k\n",
        "    )\n",
        "\n",
        "    return model_output['choices'][0]['text']"
      ],
      "metadata": {
        "id": "-f1-9ZA70eGG"
      },
      "execution_count": null,
      "outputs": []
    },
    {
      "cell_type": "markdown",
      "source": [
        "#####Observation\n",
        "- max_tokens - this variable determines how much input/output tokens can be used for prompting\n",
        "- temperature - this variable controls the randomness of the generated response. Lower the value result in more predictable response and 0 is the lowest\n",
        "- top_p controls the diversity of the generated response by establishing a cumulative probablity cutoff for token selection. Higher the value will result in more diverse response\n",
        "- top_k is the parameter controls the max number of most likely next tokens to consider"
      ],
      "metadata": {
        "id": "fGUss3bbHdKA"
      }
    },
    {
      "cell_type": "markdown",
      "metadata": {
        "id": "K8YgK91SFjVY"
      },
      "source": [
        "### Query 1: What is the protocol for managing sepsis in a critical care unit?"
      ]
    },
    {
      "cell_type": "code",
      "source": [
        "resp = response(\"What is the protocol for managing sepsis in a critical care unit?\")\n",
        "print(resp)"
      ],
      "metadata": {
        "id": "-JLIVmpPQH0f",
        "colab": {
          "base_uri": "https://localhost:8080/"
        },
        "outputId": "d08bc608-f405-4fca-a8af-007ee6c865e0"
      },
      "execution_count": null,
      "outputs": [
        {
          "output_type": "stream",
          "name": "stdout",
          "text": [
            " Sepsis is a life-threatening condition that can arise from an infection, and it is a medical emergency. The protocol for managing sepsis in a critical care unit typically includes the following steps:\n",
            "\n",
            "1. Early recognition and diagnosis: Healthcare providers should be vigilant in identifying patients who are at risk of developing sepsis, such as those with severe infections, and monitor them closely for signs of sepsis.\n",
            "\n",
            "2. Rapid administration of antibiotics: Once sepsis is suspected, antibiotics should be admin\n"
          ]
        }
      ]
    },
    {
      "cell_type": "markdown",
      "metadata": {
        "id": "J6yxICeVFjVc"
      },
      "source": [
        "### Query 2: What are the common symptoms for appendicitis, and can it be cured via medicine? If not, what surgical procedure should be followed to treat it?"
      ]
    },
    {
      "cell_type": "code",
      "source": [
        "resp = response(\"What are the common symptoms for appendicitis, and can it be cured via medicine? If not, what surgical procedure should be followed to treat it?\")\n",
        "print(resp)"
      ],
      "metadata": {
        "id": "BdiHRgEqQIP9",
        "colab": {
          "base_uri": "https://localhost:8080/"
        },
        "outputId": "e97bdd3e-e071-4e6a-8399-36657db8c07a"
      },
      "execution_count": null,
      "outputs": [
        {
          "output_type": "stream",
          "name": "stderr",
          "text": [
            "Llama.generate: prefix-match hit\n"
          ]
        },
        {
          "output_type": "stream",
          "name": "stdout",
          "text": [
            " Appendicitis is a medical emergency that requires immediate attention. The symptoms of appendicitis can vary from person to person, but common signs include:\n",
            "\n",
            "1. Severe pain in the abdomen, usually starting near the belly button and then moving to the lower right side of the abdomen.\n",
            "2. Nausea and vomiting.\n",
            "3. Loss of appetite.\n",
            "4. Fever.\n",
            "5. Abdominal tenderness and guarding (muscle tension).\n",
            "6. Abdominal swelling.\n",
            "7. Diarrhea or const\n"
          ]
        }
      ]
    },
    {
      "cell_type": "markdown",
      "metadata": {
        "id": "oflaoOGiFjVd"
      },
      "source": [
        "### Query 3: What are the effective treatments or solutions for addressing sudden patchy hair loss, commonly seen as localized bald spots on the scalp, and what could be the possible causes behind it?"
      ]
    },
    {
      "cell_type": "code",
      "source": [
        "resp = response(\"What are the effective treatments or solutions for addressing sudden patchy hair loss, commonly seen as localized bald spots on the scalp, and what could be the possible causes behind it?\")\n",
        "print(resp)"
      ],
      "metadata": {
        "id": "N-mx9yboQIt-",
        "colab": {
          "base_uri": "https://localhost:8080/"
        },
        "outputId": "3bf75c67-5656-4971-9ed9-ea1051bf6152"
      },
      "execution_count": null,
      "outputs": [
        {
          "output_type": "stream",
          "name": "stderr",
          "text": [
            "Llama.generate: prefix-match hit\n"
          ]
        },
        {
          "output_type": "stream",
          "name": "stdout",
          "text": [
            " Sudden patchy hair loss, also known as alopecia areata, is a common condition that can cause localized bald spots on the scalp. There are several effective treatments and solutions for addressing this condition, and the possible causes vary depending on the individual case. Here are some of the most common causes and treatment options:\n",
            "\n",
            "1. Autoimmune disorders: Alopecia areata is often associated with autoimmune disorders, where the body's immune system mistakenly attacks healthy hair follicles, leading to hair loss. Treatment options for autoimmune-related\n"
          ]
        }
      ]
    },
    {
      "cell_type": "markdown",
      "metadata": {
        "id": "WUUqY4FbFjVe"
      },
      "source": [
        "### Query 4:  What treatments are recommended for a person who has sustained a physical injury to brain tissue, resulting in temporary or permanent impairment of brain function?"
      ]
    },
    {
      "cell_type": "code",
      "source": [
        "resp = response(\"What treatments are recommended for a person who has sustained a physical injury to brain tissue, resulting in temporary or permanent impairment of brain function?\")\n",
        "print(resp)"
      ],
      "metadata": {
        "id": "TEsVMaKaQJzh",
        "colab": {
          "base_uri": "https://localhost:8080/"
        },
        "outputId": "fc85abbb-b9c7-4089-d4a5-d27ac5321ff4"
      },
      "execution_count": null,
      "outputs": [
        {
          "output_type": "stream",
          "name": "stderr",
          "text": [
            "Llama.generate: prefix-match hit\n"
          ]
        },
        {
          "output_type": "stream",
          "name": "stdout",
          "text": [
            " Treatments for a person who has sustained a physical injury to brain tissue and experienced temporary or permanent impairment of brain function depend on the severity and location of the injury, as well as the individual's overall health and medical history. Here are some possible treatment options:\n",
            "\n",
            "1. Medications: To manage symptoms such as pain, inflammation, and anxiety, medications like analgesics, anti-inflammatory drugs, and antidepressants may be prescribed.\n",
            "2. Rehabilitation therapy: Physical, occupational, and speech therapy\n"
          ]
        }
      ]
    },
    {
      "cell_type": "markdown",
      "metadata": {
        "id": "5laPFTHrFjVf"
      },
      "source": [
        "### Query 5: What are the necessary precautions and treatment steps for a person who has fractured their leg during a hiking trip, and what should be considered for their care and recovery?"
      ]
    },
    {
      "cell_type": "code",
      "source": [
        "resp = response(\"What are the necessary precautions and treatment steps for a person who has fractured their leg during a hiking trip, and what should be considered for their care and recovery?\")\n",
        "print(resp)"
      ],
      "metadata": {
        "id": "VfrlmrP5QKJz",
        "colab": {
          "base_uri": "https://localhost:8080/"
        },
        "outputId": "d4129345-60aa-46d0-9b6b-0746b0478aa0"
      },
      "execution_count": null,
      "outputs": [
        {
          "output_type": "stream",
          "name": "stderr",
          "text": [
            "Llama.generate: prefix-match hit\n"
          ]
        },
        {
          "output_type": "stream",
          "name": "stdout",
          "text": [
            " Sure, I'd be happy to help! If someone has fractured their leg while hiking, it is essential to take immediate action to provide proper care and prevent further complications. Here are some necessary precautions and treatment steps that should be considered:\n",
            "\n",
            "1. Stop activity: The first step is to stop any physical activity and rest the affected leg immediately. This will help prevent further damage or injury to the fractured bone.\n",
            "\n",
            "2. Assess the severity of the injury: Evaluate the extent of the fracture by checking for signs such as swelling, deform\n"
          ]
        }
      ]
    },
    {
      "cell_type": "markdown",
      "source": [
        "Observation\n",
        "- Most of the response generated has max_token of 128\n",
        "\n",
        "Clarification\n",
        "- It was asking only for response from llm and i am not expermenting with various parameter and experimenting with various parameters in the next session."
      ],
      "metadata": {
        "id": "ISXfATA7I3HX"
      }
    },
    {
      "cell_type": "markdown",
      "metadata": {
        "id": "g5myZ5dOOefc"
      },
      "source": [
        "## Question Answering using LLM with Prompt Engineering\n",
        "- Prompt for individual questions is done and not common template used for Prompting"
      ]
    },
    {
      "cell_type": "markdown",
      "metadata": {
        "id": "9Jg3r_LWOeff"
      },
      "source": [
        "### Query 1: What is the protocol for managing sepsis in a critical care unit?"
      ]
    },
    {
      "cell_type": "code",
      "source": [
        "user_prompt = ''' As a clinician seeking information for a patient, please provide a concise summary of the diagnosis and management protocol for sepsis in a critical care unit ?'''\n",
        "resp = response(user_prompt, max_tokens=1024)\n",
        "print(resp)"
      ],
      "metadata": {
        "colab": {
          "base_uri": "https://localhost:8080/"
        },
        "id": "LXt9FreMznyU",
        "outputId": "494bdade-9763-4d27-88a3-083937fada15"
      },
      "execution_count": null,
      "outputs": [
        {
          "output_type": "stream",
          "name": "stderr",
          "text": [
            "Llama.generate: prefix-match hit\n"
          ]
        },
        {
          "output_type": "stream",
          "name": "stdout",
          "text": [
            "\n",
            "\n",
            "As a clinician seeking information for a patient, I would like to know the following:\n",
            "\n",
            "1. Definition and criteria for sepsis: What are the specific signs and symptoms that indicate sepsis has developed?\n",
            "2. Diagnostic tests: Which laboratory and imaging studies are used to confirm the diagnosis of sepsis?\n",
            "3. Management protocol: What are the general principles of management for sepsis in a critical care unit, including fluid resuscitation, antibiotics, and vasopressors?\n",
            "4. Monitoring and follow-up: How is the patient's response to treatment monitored, and what are the criteria for escalation of care or transfer to a higher level of care?\n",
            "5. Complications and sequelae: What are the potential complications and long-term sequelae of sepsis, and how can they be prevented or managed?\n",
            "6. Prognosis and mortality: What is the typical prognosis for patients with sepsis, and what factors influence mortality?\n",
            "7. Prevention: What strategies can be implemented to prevent sepsis from developing in high-risk patients, such as those with compromised immune systems or chronic medical conditions?\n",
            "8. Recovery and rehabilitation: What is the typical recovery process for patients who have survived sepsis, and what types of rehabilitation may be necessary to address any lingering effects of the illness?\n",
            "\n",
            "As a clinician seeking information for a patient, I would appreciate a concise summary of the diagnosis and management protocol for sepsis in a critical care unit that includes the following key points:\n",
            "\n",
            "1. Definition and criteria for sepsis: Sepsis is a systemic inflammatory response to an infection, with signs of organ dysfunction (e.g., altered mental status, respiratory failure, hypotension). Criteria for diagnosis include suspected or confirmed infection, signs of organ dysfunction, and laboratory evidence of systemic inflammation (e.g., elevated white blood cell count, elevated serum lactate).\n",
            "2. Diagnostic tests: Laboratory studies may include complete blood counts, blood cultures, and serum biomarkers (e.g., procalcitonin, lactate). Imaging studies such as chest X-rays or CT scans may be used to evaluate the extent of infection and organ dysfunction.\n",
            "3. Management protocol: The general principles of management for sepsis include early recognition, prompt administration of antibiotics and fluid resuscitation, and close monitoring of vital signs and laboratory values. Vasopressors may be used to maintain mean arterial pressure ≥65 mmHg.\n",
            "4. Monitoring and follow-up: Patients with sepsis should be closely monitored for signs of deterioration or improvement, including changes in vital signs, laboratory values, and clinical status. Escalation of care may be necessary if there is no improvement within 24-48 hours of initiating treatment.\n",
            "5. Complications and sequelae: Potential complications of sepsis include acute respiratory distress syndrome, acute kidney injury, and cardiovascular dysfunction. Long-term sequelae may include cognitive impairment, muscle wasting, and decreased immune function.\n",
            "6. Prognosis and mortality: The prognosis for sepsis varies depending on the underlying cause of the infection, the severity of organ dysfunction, and other individual factors. Mortality rates for sepsis are high, with an estimated 20-30% mortality rate in severe cases.\n",
            "7. Prevention: Strategies to prevent sepsis include early recognition and treatment of infections, prompt administration of antibiotics, proper hand hygiene, and vaccination against infections such as pneumococcal pneumonia.\n",
            "8. Recovery and rehabilitation: The recovery process for patients who have survived sepsis may involve intensive care unit (ICU) stay, mechanical ventilation, and physical therapy to address any lingering effects of the illness. Rehabilitation may include physical therapy, occupational therapy, and speech therapy as needed.\n",
            "\n",
            "As a clinician seeking information for a patient, I would appreciate a concise summary of the diagnosis and management protocol for sepsis in a critical care unit that includes these key points to ensure the best possible outcomes for my patient.\n"
          ]
        }
      ]
    },
    {
      "cell_type": "markdown",
      "source": [
        "Observation\n",
        "- max_tokens is 1024 and we could see the response has more text lines than the previous"
      ],
      "metadata": {
        "id": "prVb5BZ9KM3T"
      }
    },
    {
      "cell_type": "markdown",
      "metadata": {
        "id": "iYpyw4HjOeff"
      },
      "source": [
        "### Query 2: What are the common symptoms for appendicitis, and can it be cured via medicine? If not, what surgical procedure should be followed to treat it?"
      ]
    },
    {
      "cell_type": "code",
      "source": [
        "user_prompt = ''' As a clinician seeking information for a patient, please provide a concise summary of common symptoms for appendicitis, and can it be cured via medicine? If not, what surgical procedure should be followed to treat it ?\n",
        "Please provide clear and easy-to-understand answers, and include links to resources for additional information.\"\n",
        "'''\n",
        "resp = response(user_prompt, 1024)\n",
        "print(resp)"
      ],
      "metadata": {
        "id": "GXl09pFfRPBr",
        "colab": {
          "base_uri": "https://localhost:8080/"
        },
        "outputId": "42d83db0-c5dd-4137-91bd-192fd7490209"
      },
      "execution_count": null,
      "outputs": [
        {
          "output_type": "stream",
          "name": "stderr",
          "text": [
            "Llama.generate: prefix-match hit\n"
          ]
        },
        {
          "output_type": "stream",
          "name": "stdout",
          "text": [
            "\n",
            "As a clinician seeking information for a patient, here is a concise summary of common symptoms for appendicitis:\n",
            "\n",
            "Common Symptoms of Appendicitis:\n",
            "\n",
            "1. Severe pain in the abdomen, usually starting near the belly button and then moving to the lower right side of the abdomen.\n",
            "2. Nausea and vomiting.\n",
            "3. Loss of appetite.\n",
            "4. Fever.\n",
            "5. Abdominal tenderness and guarding (muscle tension) in the affected area.\n",
            "6. Abdominal swelling or bloating.\n",
            "7. Diarrhea or constipation.\n",
            "8. Inability to pass gas.\n",
            "\n",
            "It is important to note that not everyone with appendicitis will experience all of these symptoms, and some people may have different symptoms altogether. If you suspect that your patient has appendicitis, it is essential to seek medical attention immediately.\n",
            "\n",
            "Can Appendicitis be Cured via Medicine?\n",
            "\n",
            "No, appendicitis cannot be cured via medicine. Appendicitis is a surgical condition that requires prompt surgical intervention to remove the inflamed appendix. Delaying surgery can lead to complications such as the appendix rupturing, which can cause potentially life-threatening infections.\n",
            "\n",
            "Surgical Procedure for Treating Appendicitis:\n",
            "\n",
            "The standard surgical procedure for treating appendicitis is an appendectomy, which involves removing the inflamed appendix. There are two types of appendectomies: open and laparoscopic.\n",
            "\n",
            "1. Open Appendectomy: This is the traditional method of removing the appendix, where a single incision is made in the lower right abdomen to access the appendix. The inflamed appendix is then removed, and the incision is closed with sutures or staples.\n",
            "2. Laparoscopic Appendectomy: This is a minimally invasive surgical procedure where several small incisions are made in the abdomen, and a laparoscope (a thin tube with a camera and light) is inserted to visualize the appendix. The inflamed appendix is then removed through one of the small incisions.\n",
            "\n",
            "Both procedures are effective in treating appendicitis, and the choice between them depends on the patient's age, overall health, and the surgeon's preference.\n",
            "\n",
            "Additional Resources:\n",
            "\n",
            "* American College of Surgeons (ACS) Guidelines for Appendicitis: <https://www.facs.org/~/media/files/quality%20programs/trauma/appendectomy.ashx>\n",
            "* Mayo Clinic: Appendicitis: Symptoms and Causes: <https://www.mayoclinic.org/diseases-conditions/appendicitis/symptoms-causes/syc-20372698>\n",
            "* MedlinePlus: Appendicitis: <https://medlineplus.gov/ency/article/000041.htm>\n"
          ]
        }
      ]
    },
    {
      "cell_type": "markdown",
      "source": [
        "Observation\n",
        "- Prompted the llm to generate additional resources\n",
        "- max_toekns is 1024"
      ],
      "metadata": {
        "id": "n-YhPvA5LA0y"
      }
    },
    {
      "cell_type": "markdown",
      "metadata": {
        "id": "dRp92JQZOeff"
      },
      "source": [
        "### Query 3: What are the effective treatments or solutions for addressing sudden patchy hair loss, commonly seen as localized bald spots on the scalp, and what could be the possible causes behind it?"
      ]
    },
    {
      "cell_type": "code",
      "source": [
        "user_prompt = ''' As a Dermatologist looking for information about effective treatments or solutions for addressing sudden patchy hair loss, commonly seen as localized bald spots on the scalp for a patient,\n",
        "please provide a concise summary of what could be the possible causes behind it?\n",
        "'''\n",
        "resp = response(user_prompt, 2048)\n",
        "print(resp)"
      ],
      "metadata": {
        "id": "JOgATEpMRPve",
        "colab": {
          "base_uri": "https://localhost:8080/"
        },
        "outputId": "17449a5b-f36d-4b11-a1fa-6330f2f640cc"
      },
      "execution_count": null,
      "outputs": [
        {
          "output_type": "stream",
          "name": "stderr",
          "text": [
            "Llama.generate: prefix-match hit\n"
          ]
        },
        {
          "output_type": "stream",
          "name": "stdout",
          "text": [
            "\n",
            "As a dermatologist, I would consider the following possible causes of sudden patchy hair loss, also known as alopecia areata:\n",
            "\n",
            "1. Autoimmune disorder: Alopecia areata is an autoimmune condition where the immune system mistakenly attacks healthy hair follicles, leading to hair loss.\n",
            "2. Hormonal imbalance: Hormonal changes, such as those that occur during pregnancy or menopause, can cause hair loss in patches.\n",
            "3. Skin conditions: Certain skin conditions like eczema, psoriasis, and folliculitis can cause inflammation and lead to hair loss.\n",
            "4. Infections: Fungal or bacterial infections can cause hair loss by damaging the hair follicles.\n",
            "5. Traction alopecia: Prolonged use of tight hairstyles like braids, ponytails, or cornrows can cause hair loss due to traction on the scalp.\n",
            "6. Telogen effluvium: This is a condition where there is an increase in the number of hair follicles that stop growing and enter the resting phase, leading to excessive hair shedding.\n",
            "7. Medications: Certain medications like chemotherapy drugs, blood thinners, and birth control pills can cause hair loss as a side effect.\n",
            "8. Nutritional deficiencies: Deficiencies in essential nutrients like iron, zinc, or biotin can contribute to hair loss.\n",
            "9. Stress: Physical or emotional stress can cause hair loss in some individuals.\n",
            "10. Genetics: Inheritance plays a role in the development of alopecia areata, and some people may be more prone to hair loss due to their genetic makeup.\n",
            "\n",
            "It's important to note that these causes are not mutually exclusive, and hair loss can result from a combination of factors. A thorough examination and medical history will help determine the underlying cause of patchy hair loss, and appropriate treatment can then be recommended.\n"
          ]
        }
      ]
    },
    {
      "cell_type": "markdown",
      "source": [
        "Observation\n",
        "- max_token is 2048"
      ],
      "metadata": {
        "id": "_KrXEaM2LPIU"
      }
    },
    {
      "cell_type": "markdown",
      "metadata": {
        "id": "AA45zwyUOefg"
      },
      "source": [
        "### Query 4:  What treatments are recommended for a person who has sustained a physical injury to brain tissue, resulting in temporary or permanent impairment of brain function?"
      ]
    },
    {
      "cell_type": "code",
      "source": [
        "user_prompt = ''' As a caregiver looking for information about What treatments are recommended for a person who has sustained a physical injury to brain tissue, resulting in temporary or permanent impairment of brain function?\n",
        "Provide response that is coming from a senior medical expert and also make it clear to understand for the patient.\n",
        "'''\n",
        "resp = response(user_prompt, 1024, temperature=0.01)\n",
        "print(resp)"
      ],
      "metadata": {
        "id": "VA7G8FOnRQZY",
        "colab": {
          "base_uri": "https://localhost:8080/"
        },
        "outputId": "70156ca2-8c62-4386-80a2-03bb77351d78"
      },
      "execution_count": null,
      "outputs": [
        {
          "output_type": "stream",
          "name": "stderr",
          "text": [
            "Llama.generate: prefix-match hit\n"
          ]
        },
        {
          "output_type": "stream",
          "name": "stdout",
          "text": [
            "\n",
            "Answer:\n",
            "\n",
            "As a senior medical expert, I understand the concern and complexity of treating a person who has sustained a physical injury to brain tissue, resulting in temporary or permanent impairment of brain function. The treatment approach will depend on the severity and location of the injury, as well as the individual's overall health and medical history.\n",
            "\n",
            "Here are some common treatments that may be recommended for a person with a brain injury:\n",
            "\n",
            "1. Medications: To manage symptoms such as pain, anxiety, or depression, and to prevent seizures or further damage to the brain.\n",
            "2. Rehabilitation therapy: To help regain lost function and improve cognitive, physical, and emotional abilities. This may include physical therapy, occupational therapy, speech therapy, and cognitive therapy.\n",
            "3. Surgery: In some cases, surgery may be necessary to relieve pressure on the brain, repair damaged blood vessels, or remove a tumor.\n",
            "4. Lifestyle changes: To help manage symptoms and improve overall health, such as avoiding activities that exacerbate the injury, getting regular exercise, and making dietary changes.\n",
            "5. Cognitive and behavioral therapy: To help the individual and their family cope with the emotional and cognitive challenges of the injury.\n",
            "6. Support groups: Joining a support group can provide a sense of community and understanding, as well as practical information and resources.\n",
            "7. Alternative therapies: Some people may find relief from alternative therapies such as acupuncture, massage, or meditation.\n",
            "\n",
            "It's important to note that every person with a brain injury is unique, and the most effective treatment plan will be tailored to their individual needs and circumstances. It's essential to work closely with a healthcare team to develop a comprehensive treatment plan and monitor progress over time.\n",
            "\n",
            "In summary, the goal of treatment for a person with a brain injury is to improve function, manage symptoms, and enhance quality of life. With the right combination of medical interventions, rehabilitation therapy, lifestyle changes, and support, many people are able to recover significant function and lead fulfilling lives.\n"
          ]
        }
      ]
    },
    {
      "cell_type": "markdown",
      "source": [
        "Observation\n",
        "- max_token is set to 1024\n",
        "- temperature is 0.01"
      ],
      "metadata": {
        "id": "FyG8IXa7LiYV"
      }
    },
    {
      "cell_type": "markdown",
      "metadata": {
        "id": "TYXxiSuBOefg"
      },
      "source": [
        "### Query 5: What are the necessary precautions and treatment steps for a person who has fractured their leg during a hiking trip, and what should be considered for their care and recovery?"
      ]
    },
    {
      "cell_type": "code",
      "source": [
        "user_prompt = ''' As a nurse looking for information about What are the necessary precautions and treatment steps for a person who has fractured their leg ?\n",
        "Include details on potential treatment modalities, rehabilitation strategies, and important aspects of recovery for someone who has experienced this type of injury.\"\n",
        "'''\n",
        "resp = response(user_prompt, 1024, top_k=25)\n",
        "print(resp)"
      ],
      "metadata": {
        "id": "mE2GMQk8RQ_p",
        "colab": {
          "base_uri": "https://localhost:8080/"
        },
        "outputId": "f4bae029-63ac-4182-bce0-4072d8c5453a"
      },
      "execution_count": null,
      "outputs": [
        {
          "output_type": "stream",
          "name": "stderr",
          "text": [
            "Llama.generate: prefix-match hit\n"
          ]
        },
        {
          "output_type": "stream",
          "name": "stdout",
          "text": [
            "\n",
            "A fracture of the leg can be a serious and painful injury that requires prompt medical attention. As a nurse, it is essential to understand the necessary precautions and treatment steps to ensure proper healing and minimize potential complications. This article will provide an overview of the common types of leg fractures, potential treatment modalities, rehabilitation strategies, and important aspects of recovery for someone who has experienced this type of injury.\n",
            "\n",
            "Types of Leg Fractures\n",
            "-------------------------\n",
            "\n",
            "There are several types of leg fractures that can occur, depending on the location and severity of the injury. Some common types of leg fractures include:\n",
            "\n",
            "* Femur fracture: A break in the thigh bone (femur) is a serious injury that requires prompt medical attention.\n",
            "* Tibia fracture: A break in the shin bone (tibia) is another common type of leg fracture that can be caused by trauma or sports injuries.\n",
            "* Fibula fracture: A break in the smaller bone of the lower leg (fibula) can also occur, often as a result of a twisting injury.\n",
            "\n",
            "Precautions and Treatment Steps\n",
            "-------------------------------\n",
            "\n",
            "The treatment for a leg fracture will depend on the severity and location of the injury, as well as the individual's overall health. Some common precautions and treatment steps include:\n",
            "\n",
            "* Immobilization: The affected limb may be immobilized using a cast, splint, or brace to promote healing and prevent further damage.\n",
            "* Pain management: Pain medication may be prescribed to manage discomfort and inflammation.\n",
            "* Reduction: In some cases, the bone may need to be realigned (reduced) to its proper position before being immobilized.\n",
            "* Surgery: In more severe cases, surgery may be necessary to repair the fracture and ensure proper healing.\n",
            "\n",
            "Rehabilitation Strategies\n",
            "-------------------------\n",
            "\n",
            "After the initial treatment, a rehabilitation program can help the individual regain strength, mobility, and function in their affected limb. Some common rehabilitation strategies include:\n",
            "\n",
            "* Physical therapy: A physical therapist can provide exercises and stretches to help improve range of motion, strength, and flexibility.\n",
            "* Weight-bearing exercises: Gradually increasing weight-bearing activities can help the individual regain their normal function and mobility.\n",
            "* Cast or brace removal: As the fracture heals, the cast or brace may need to be removed to allow for proper movement and function.\n",
            "\n",
            "Important Aspects of Recovery\n",
            "-------------------------------\n",
            "\n",
            "Recovery from a leg fracture can take time, patience, and dedication. Some important aspects of recovery include:\n",
            "\n",
            "* Follow-up appointments: Regular follow-up appointments with the healthcare provider are essential to monitor healing and address any potential complications.\n",
            "* Proper wound care: Keeping the wound clean and dry can help prevent infection and promote healing.\n",
            "* Rest: Adequate rest and avoiding strenuous activities can help the individual recover from the injury.\n",
            "\n",
            "Conclusion\n",
            "----------\n",
            "\n",
            "A fracture of the leg can be a serious and painful injury that requires prompt medical attention. As a nurse, understanding the necessary precautions and treatment steps is essential to ensure proper healing and minimize potential complications. Rehabilitation strategies and important aspects of recovery can also help the individual regain strength, mobility, and function in their affected limb. With proper care and attention, most individuals with a leg fracture can make a full recovery and return to their normal activities.\n"
          ]
        }
      ]
    },
    {
      "cell_type": "markdown",
      "source": [
        "Obseravation\n",
        "- top_k is 25\n"
      ],
      "metadata": {
        "id": "ATTvE-fpMDTb"
      }
    },
    {
      "cell_type": "markdown",
      "source": [
        "Observation\n",
        "- From the execution of Quesiton Answering using LLM with and without Prompt Engineering clearly proves that Prompt makes the LLM engine to perform better with various configurations on **temperature, max_tokens, top_p, top_k**\n",
        "- I have input the Prompt question within each section of execution and we could see the response in much clearer form and with fine-tuning"
      ],
      "metadata": {
        "id": "Hx-GG0XZhSGM"
      }
    },
    {
      "cell_type": "markdown",
      "source": [
        "## Data Preparation for RAG"
      ],
      "metadata": {
        "id": "t_O1PGdNO2M9"
      }
    },
    {
      "cell_type": "markdown",
      "metadata": {
        "id": "uTpWESc53dL9"
      },
      "source": [
        "### Loading the Data"
      ]
    },
    {
      "cell_type": "code",
      "source": [
        "from google.colab import drive\n",
        "drive.mount('/content/drive')"
      ],
      "metadata": {
        "id": "ybj2cEnzRSXq",
        "colab": {
          "base_uri": "https://localhost:8080/"
        },
        "outputId": "affbf1bf-1301-4354-daab-2171626fc6aa"
      },
      "execution_count": null,
      "outputs": [
        {
          "output_type": "stream",
          "name": "stdout",
          "text": [
            "Drive already mounted at /content/drive; to attempt to forcibly remount, call drive.mount(\"/content/drive\", force_remount=True).\n"
          ]
        }
      ]
    },
    {
      "cell_type": "code",
      "source": [
        "from langchain_community.document_loaders import PyMuPDFLoader\n",
        "pdf_loader = PyMuPDFLoader('/content/drive/MyDrive/AIML_UT/Colab_Files/Pi5_NLP/Pi5_Proj/medical_diagnosis_manual.pdf')"
      ],
      "metadata": {
        "id": "7l7DbsBr57PX"
      },
      "execution_count": null,
      "outputs": []
    },
    {
      "cell_type": "code",
      "source": [
        "manual = pdf_loader.load()"
      ],
      "metadata": {
        "id": "uyjhhMTH59vQ"
      },
      "execution_count": null,
      "outputs": []
    },
    {
      "cell_type": "code",
      "source": [
        "model_name_or_path = \"TheBloke/Mistral-7B-Instruct-v0.2-GGUF\"\n",
        "model_basename = \"mistral-7b-instruct-v0.2.Q6_K.gguf\"\n"
      ],
      "metadata": {
        "id": "HposMLUcgdfd"
      },
      "execution_count": null,
      "outputs": []
    },
    {
      "cell_type": "code",
      "source": [
        "model_path = hf_hub_download(\n",
        "    repo_id=model_name_or_path,\n",
        "    filename=model_basename\n",
        ")"
      ],
      "metadata": {
        "id": "gdTrGlXNggG3",
        "colab": {
          "base_uri": "https://localhost:8080/"
        },
        "outputId": "c55525da-0de9-4fc9-8da5-3617c084b13d"
      },
      "execution_count": null,
      "outputs": [
        {
          "output_type": "stream",
          "name": "stderr",
          "text": [
            "/usr/local/lib/python3.11/dist-packages/huggingface_hub/utils/_auth.py:94: UserWarning: \n",
            "The secret `HF_TOKEN` does not exist in your Colab secrets.\n",
            "To authenticate with the Hugging Face Hub, create a token in your settings tab (https://huggingface.co/settings/tokens), set it as secret in your Google Colab and restart your session.\n",
            "You will be able to reuse this secret in all of your notebooks.\n",
            "Please note that authentication is recommended but still optional to access public models or datasets.\n",
            "  warnings.warn(\n"
          ]
        }
      ]
    },
    {
      "cell_type": "code",
      "source": [
        "llm = Llama(\n",
        "    model_path=model_path,\n",
        "    n_ctx=2500,\n",
        "    n_gpu_layers=23,\n",
        "    n_batch=512\n",
        ")"
      ],
      "metadata": {
        "colab": {
          "base_uri": "https://localhost:8080/"
        },
        "id": "H8YqIKPdgiUu",
        "outputId": "11e6b32f-d510-4d2b-e80a-d60122dcd690"
      },
      "execution_count": null,
      "outputs": [
        {
          "output_type": "stream",
          "name": "stderr",
          "text": [
            "AVX = 1 | AVX2 = 1 | AVX512 = 0 | AVX512_VBMI = 0 | AVX512_VNNI = 0 | FMA = 1 | NEON = 0 | ARM_FMA = 0 | F16C = 1 | FP16_VA = 0 | WASM_SIMD = 0 | BLAS = 1 | SSE3 = 1 | SSSE3 = 1 | VSX = 0 | \n"
          ]
        }
      ]
    },
    {
      "cell_type": "markdown",
      "source": [
        "Observation\n",
        "- Downloading model --> Mistral 7B\n",
        "- n_ctx is 2024 for input prompting variables"
      ],
      "metadata": {
        "id": "q5UYXjmGM7vt"
      }
    },
    {
      "cell_type": "markdown",
      "metadata": {
        "id": "ffj0ca3eZT4u"
      },
      "source": [
        "### Data Overview"
      ]
    },
    {
      "cell_type": "markdown",
      "metadata": {
        "id": "f9weTDzMxRRS"
      },
      "source": [
        "#### Checking the first 5 pages"
      ]
    },
    {
      "cell_type": "code",
      "source": [
        "for page in manual[:5]:\n",
        "    print(page.page_content)\n"
      ],
      "metadata": {
        "id": "MSEiL--bRTZT",
        "colab": {
          "base_uri": "https://localhost:8080/"
        },
        "outputId": "4aa03c79-ad93-46f8-d8f7-638499b56891"
      },
      "execution_count": null,
      "outputs": [
        {
          "output_type": "stream",
          "name": "stdout",
          "text": [
            "rajesh.g86@yahoo.com\n",
            "3LS890G5KA\n",
            "eant for personal use by rajesh.g86@yah\n",
            "shing the contents in part or full is liable\n",
            "rajesh.g86@yahoo.com\n",
            "3LS890G5KA\n",
            "This file is meant for personal use by rajesh.g86@yahoo.com only.\n",
            "Sharing or publishing the contents in part or full is liable for legal action.\n",
            "Table of Contents\n",
            "1\n",
            "Front    ................................................................................................................................................................................................................\n",
            "1\n",
            "Cover    .......................................................................................................................................................................................................\n",
            "2\n",
            "Front Matter    ...........................................................................................................................................................................................\n",
            "53\n",
            "1 - Nutritional Disorders    ...............................................................................................................................................................\n",
            "53\n",
            "Chapter 1. Nutrition: General Considerations    .....................................................................................................................\n",
            "59\n",
            "Chapter 2. Undernutrition    .............................................................................................................................................................\n",
            "69\n",
            "Chapter 3. Nutritional Support    ...................................................................................................................................................\n",
            "76\n",
            "Chapter 4. Vitamin Deficiency, Dependency & Toxicity    ..................................................................................................\n",
            "99\n",
            "Chapter 5. Mineral Deficiency & Toxicity    ..............................................................................................................................\n",
            "108\n",
            "Chapter 6. Obesity & the Metabolic Syndrome    ...............................................................................................................\n",
            "120\n",
            "2 - Gastrointestinal Disorders    ..............................................................................................................................................\n",
            "120\n",
            "Chapter 7. Approach to the Patient With Upper GI Complaints    ...............................................................................\n",
            "132\n",
            "Chapter 8. Approach to the Patient With Lower GI Complaints    ...............................................................................\n",
            "143\n",
            "Chapter 9. Diagnostic & Therapeutic GI Procedures    ....................................................................................................\n",
            "150\n",
            "Chapter 10. GI Bleeding    ............................................................................................................................................................\n",
            "158\n",
            "Chapter 11. Acute Abdomen & Surgical Gastroenterology    .........................................................................................\n",
            "172\n",
            "Chapter 12. Esophageal & Swallowing Disorders    ..........................................................................................................\n",
            "183\n",
            "Chapter 13. Gastritis & Peptic Ulcer Disease    ..................................................................................................................\n",
            "196\n",
            "Chapter 14. Bezoars & Foreign Bodies    ..............................................................................................................................\n",
            "199\n",
            "Chapter 15. Pancreatitis    ............................................................................................................................................................\n",
            "206\n",
            "Chapter 16. Gastroenteritis    ......................................................................................................................................................\n",
            "213\n",
            "Chapter 17. Malabsorption Syndromes    ..............................................................................................................................\n",
            "225\n",
            "Chapter 18. Irritable Bowel Syndrome    ................................................................................................................................\n",
            "229\n",
            "Chapter 19. Inflammatory Bowel Disease    .........................................................................................................................\n",
            "241\n",
            "Chapter 20. Diverticular Disease    ...........................................................................................................................................\n",
            "246\n",
            "Chapter 21. Anorectal Disorders    ............................................................................................................................................\n",
            "254\n",
            "Chapter 22. Tumors of the GI Tract    ......................................................................................................................................\n",
            "275\n",
            "3 - Hepatic & Biliary Disorders    ............................................................................................................................................\n",
            "275\n",
            "Chapter 23. Approach to the Patient With Liver Disease    ...........................................................................................\n",
            "294\n",
            "Chapter 24. Testing for Hepatic & Biliary Disorders    ......................................................................................................\n",
            "305\n",
            "Chapter 25. Drugs & the Liver    ................................................................................................................................................\n",
            "308\n",
            "Chapter 26. Alcoholic Liver Disease    ....................................................................................................................................\n",
            "314\n",
            "Chapter 27. Fibrosis & Cirrhosis    ............................................................................................................................................\n",
            "322\n",
            "Chapter 28. Hepatitis    ..................................................................................................................................................................\n",
            "333\n",
            "Chapter 29. Vascular Disorders of the Liver    .....................................................................................................................\n",
            "341\n",
            "Chapter 30. Liver Masses & Granulomas    ..........................................................................................................................\n",
            "348\n",
            "Chapter 31. Gallbladder & Bile Duct Disorders    ...............................................................................................................\n",
            "362\n",
            "4 - Musculoskeletal & Connective Tissue Disorders    .........................................................................................\n",
            "362\n",
            "Chapter 32. Approach to the Patient With Joint Disease    ............................................................................................\n",
            "373\n",
            "Chapter 33. Autoimmune Rheumatic Disorders    ..............................................................................................................\n",
            "391\n",
            "Chapter 34. Vasculitis    .................................................................................................................................................................\n",
            "416\n",
            "Chapter 35. Joint Disorders    .....................................................................................................................................................\n",
            "435\n",
            "Chapter 36. Crystal-Induced Arthritides    ..............................................................................................................................\n",
            "443\n",
            "Chapter 37. Osteoporosis    .........................................................................................................................................................\n",
            "448\n",
            "Chapter 38. Paget's Disease of Bone    ..................................................................................................................................\n",
            "451\n",
            "Chapter 39. Osteonecrosis    .......................................................................................................................................................\n",
            "455\n",
            "Chapter 40. Infections of Joints & Bones    ...........................................................................................................................\n",
            "463\n",
            "Chapter 41. Bursa, Muscle & Tendon Disorders    .............................................................................................................\n",
            "470\n",
            "Chapter 42. Neck & Back Pain    ...............................................................................................................................................\n",
            "481\n",
            "Chapter 43. Hand Disorders    ....................................................................................................................................................\n",
            "rajesh.g86@yahoo.com\n",
            "3LS890G5KA\n",
            "This file is meant for personal use by rajesh.g86@yahoo.com only.\n",
            "Sharing or publishing the contents in part or full is liable for legal action.\n",
            "491\n",
            "Chapter 44. Foot & Ankle Disorders    .....................................................................................................................................\n",
            "502\n",
            "Chapter 45. Tumors of Bones & Joints    ...............................................................................................................................\n",
            "510\n",
            "5 - Ear, Nose, Throat & Dental Disorders    ..................................................................................................................\n",
            "510\n",
            "Chapter 46. Approach to the Patient With Ear Problems    ...........................................................................................\n",
            "523\n",
            "Chapter 47. Hearing Loss    .........................................................................................................................................................\n",
            "535\n",
            "Chapter 48. Inner Ear Disorders    ............................................................................................................................................\n",
            "542\n",
            "Chapter 49. Middle Ear & Tympanic Membrane Disorders    ........................................................................................\n",
            "550\n",
            "Chapter 50. External Ear Disorders    .....................................................................................................................................\n",
            "554\n",
            "Chapter 51. Approach to the Patient With Nasal & Pharyngeal Symptoms    .......................................................\n",
            "567\n",
            "Chapter 52. Oral & Pharyngeal Disorders    .........................................................................................................................\n",
            "578\n",
            "Chapter 53. Nose & Paranasal Sinus Disorders    .............................................................................................................\n",
            "584\n",
            "Chapter 54. Laryngeal Disorders    ...........................................................................................................................................\n",
            "590\n",
            "Chapter 55. Tumors of the Head & Neck    ...........................................................................................................................\n",
            "600\n",
            "Chapter 56. Approach to Dental & Oral Symptoms    .......................................................................................................\n",
            "619\n",
            "Chapter 57. Common Dental Disorders    .............................................................................................................................\n",
            "629\n",
            "Chapter 58. Dental Emergencies    ..........................................................................................................................................\n",
            "635\n",
            "Chapter 59. Temporomandibular Disorders    ......................................................................................................................\n",
            "641\n",
            "6 - Eye Disorders    ............................................................................................................................................................................\n",
            "641\n",
            "Chapter 60. Approach to the Ophthalmologic Patient    ..................................................................................................\n",
            "669\n",
            "Chapter 61. Refractive Error    ...................................................................................................................................................\n",
            "674\n",
            "Chapter 62. Eyelid & Lacrimal Disorders    ...........................................................................................................................\n",
            "680\n",
            "Chapter 63. Conjunctival & Scleral Disorders    .................................................................................................................\n",
            "690\n",
            "Chapter 64. Corneal Disorders    ...............................................................................................................................................\n",
            "703\n",
            "Chapter 65. Glaucoma    ...............................................................................................................................................................\n",
            "710\n",
            "Chapter 66. Cataract    ...................................................................................................................................................................\n",
            "713\n",
            "Chapter 67. Uveitis    ......................................................................................................................................................................\n",
            "719\n",
            "Chapter 68. Retinal Disorders    .................................................................................................................................................\n",
            "731\n",
            "Chapter 69. Optic Nerve Disorders    ......................................................................................................................................\n",
            "737\n",
            "Chapter 70. Orbital Diseases    ..................................................................................................................................................\n",
            "742\n",
            "7 - Dermatologic Disorders    ....................................................................................................................................................\n",
            "742\n",
            "Chapter 71. Approach to the Dermatologic Patient    .......................................................................................................\n",
            "755\n",
            "Chapter 72. Principles of Topical Dermatologic Therapy    ............................................................................................\n",
            "760\n",
            "Chapter 73. Acne & Related Disorders    ...............................................................................................................................\n",
            "766\n",
            "Chapter 74. Bullous Diseases    .................................................................................................................................................\n",
            "771\n",
            "Chapter 75. Cornification Disorders    .....................................................................................................................................\n",
            "775\n",
            "Chapter 76. Dermatitis    ...............................................................................................................................................................\n",
            "786\n",
            "Chapter 77. Reactions to Sunlight    ........................................................................................................................................\n",
            "791\n",
            "Chapter 78. Psoriasis & Scaling Diseases    ........................................................................................................................\n",
            "799\n",
            "Chapter 79. Hypersensitivity & Inflammatory Disorders    .............................................................................................\n",
            "808\n",
            "Chapter 80. Sweating Disorders    ............................................................................................................................................\n",
            "811\n",
            "Chapter 81. Bacterial Skin Infections    ...................................................................................................................................\n",
            "822\n",
            "Chapter 82. Fungal Skin Infections    ......................................................................................................................................\n",
            "831\n",
            "Chapter 83. Parasitic Skin Infections    ...................................................................................................................................\n",
            "836\n",
            "Chapter 84. Viral Skin Diseases    ............................................................................................................................................\n",
            "841\n",
            "Chapter 85. Pigmentation Disorders    ....................................................................................................................................\n",
            "846\n",
            "Chapter 86. Hair Disorders    .......................................................................................................................................................\n",
            "855\n",
            "Chapter 87. Nail Disorders    .......................................................................................................................................................\n",
            "861\n",
            "Chapter 88. Pressure Ulcers    ...................................................................................................................................................\n",
            "867\n",
            "Chapter 89. Benign Tumors    .....................................................................................................................................................\n",
            "874\n",
            "Chapter 90. Cancers of the Skin    ............................................................................................................................................\n",
            "882\n",
            "8 - Endocrine & Metabolic Disorders    .............................................................................................................................\n",
            "882\n",
            "Chapter 91. Principles of Endocrinology    ............................................................................................................................\n",
            "887\n",
            "Chapter 92. Pituitary Disorders    ..............................................................................................................................................\n",
            "901\n",
            "Chapter 93. Thyroid Disorders    ................................................................................................................................................\n",
            "rajesh.g86@yahoo.com\n",
            "3LS890G5KA\n",
            "This file is meant for personal use by rajesh.g86@yahoo.com only.\n",
            "Sharing or publishing the contents in part or full is liable for legal action.\n",
            "921\n",
            "Chapter 94. Adrenal Disorders    ................................................................................................................................................\n",
            "936\n",
            "Chapter 95. Polyglandular Deficiency Syndromes    ........................................................................................................\n",
            "939\n",
            "Chapter 96. Porphyrias    ..............................................................................................................................................................\n",
            "949\n",
            "Chapter 97. Fluid & Electrolyte Metabolism    .....................................................................................................................\n",
            "987\n",
            "Chapter 98. Acid-Base Regulation & Disorders    ..............................................................................................................\n",
            "1001\n",
            "Chapter 99. Diabetes Mellitus & Disorders of Carbohydrate Metabolism    ........................................................\n",
            "1024\n",
            "Chapter 100. Lipid Disorders    ................................................................................................................................................\n",
            "1034\n",
            "Chapter 101. Amyloidosis    ......................................................................................................................................................\n",
            "1037\n",
            "Chapter 102. Carcinoid Tumors    ..........................................................................................................................................\n",
            "1040\n",
            "Chapter 103. Multiple Endocrine Neoplasia Syndromes    .........................................................................................\n",
            "1046\n",
            "9 - Hematology & Oncology    ...............................................................................................................................................\n",
            "1046\n",
            "Chapter 104. Approach to the Patient With Anemia    ..................................................................................................\n",
            "1050\n",
            "Chapter 105. Anemias Caused by Deficient Erythropoiesis    ...................................................................................\n",
            "1061\n",
            "Chapter 106. Anemias Caused by Hemolysis    ...............................................................................................................\n",
            "1078\n",
            "Chapter 107. Neutropenia & Lymphocytopenia    ...........................................................................................................\n",
            "1086\n",
            "Chapter 108. Thrombocytopenia & Platelet Dysfunction    .........................................................................................\n",
            "1097\n",
            "Chapter 109. Hemostasis    ......................................................................................................................................................\n",
            "1104\n",
            "Chapter 110. Thrombotic Disorders    ...................................................................................................................................\n",
            "1107\n",
            "Chapter 111. Coagulation Disorders    ..................................................................................................................................\n",
            "1113\n",
            "Chapter 112. Bleeding Due to Abnormal Blood Vessels    ...........................................................................................\n",
            "1116\n",
            "Chapter 113. Spleen Disorders    ............................................................................................................................................\n",
            "1120\n",
            "Chapter 114. Eosinophilic Disorders    .................................................................................................................................\n",
            "1126\n",
            "Chapter 115. Histiocytic Syndromes    .................................................................................................................................\n",
            "1131\n",
            "Chapter 116. Myeloproliferative Disorders    .....................................................................................................................\n",
            "1141\n",
            "Chapter 117. Leukemias    .........................................................................................................................................................\n",
            "1154\n",
            "Chapter 118. Lymphomas    ......................................................................................................................................................\n",
            "1164\n",
            "Chapter 119. Plasma Cell Disorders    .................................................................................................................................\n",
            "1172\n",
            "Chapter 120. Iron Overload    ...................................................................................................................................................\n",
            "1177\n",
            "Chapter 121. Transfusion Medicine    ...................................................................................................................................\n",
            "1186\n",
            "Chapter 122. Overview of Cancer    ......................................................................................................................................\n",
            "1198\n",
            "Chapter 123. Tumor Immunology    .......................................................................................................................................\n",
            "1204\n",
            "Chapter 124. Principles of Cancer Therapy    ...................................................................................................................\n",
            "1215\n",
            "10 - Immunology; Allergic Disorders    ...........................................................................................................................\n",
            "1215\n",
            "Chapter 125. Biology of the Immune System    ...............................................................................................................\n",
            "1227\n",
            "Chapter 126. Immunodeficiency Disorders    ....................................................................................................................\n",
            "1243\n",
            "Chapter 127. Allergic & Other Hypersensitivity Disorders    .......................................................................................\n",
            "1263\n",
            "Chapter 128. Transplantation    ...............................................................................................................................................\n",
            "1281\n",
            "11 - Infectious Diseases    ........................................................................................................................................................\n",
            "1281\n",
            "Chapter 129. Biology of Infectious Disease    ...................................................................................................................\n",
            "1300\n",
            "Chapter 130. Laboratory Diagnosis of Infectious Disease    ......................................................................................\n",
            "1306\n",
            "Chapter 131. Immunization    ...................................................................................................................................................\n",
            "1313\n",
            "Chapter 132. Bacteria & Antibacterial Drugs    .................................................................................................................\n",
            "1353\n",
            "Chapter 133. Gram-Positive Cocci    ....................................................................................................................................\n",
            "1366\n",
            "Chapter 134. Gram-Positive Bacilli    ...................................................................................................................................\n",
            "1376\n",
            "Chapter 135. Gram-Negative Bacilli    .................................................................................................................................\n",
            "1405\n",
            "Chapter 136. Spirochetes    ......................................................................................................................................................\n",
            "1413\n",
            "Chapter 137. Neisseriaceae    .................................................................................................................................................\n",
            "1419\n",
            "Chapter 138. Chlamydia & Mycoplasmas    ......................................................................................................................\n",
            "1421\n",
            "Chapter 139. Rickettsiae & Related Organisms    ..........................................................................................................\n",
            "1431\n",
            "Chapter 140. Anaerobic Bacteria    ........................................................................................................................................\n",
            "1450\n",
            "Chapter 141. Mycobacteria    ...................................................................................................................................................\n",
            "1470\n",
            "Chapter 142. Fungi    ...................................................................................................................................................................\n",
            "1493\n",
            "Chapter 143. Approach to Parasitic Infections    .............................................................................................................\n",
            "1496\n",
            "Chapter 144. Nematodes (Roundworms)    .......................................................................................................................\n",
            "rajesh.g86@yahoo.com\n",
            "3LS890G5KA\n",
            "This file is meant for personal use by rajesh.g86@yahoo.com only.\n",
            "Sharing or publishing the contents in part or full is liable for legal action.\n"
          ]
        }
      ]
    },
    {
      "cell_type": "markdown",
      "metadata": {
        "id": "7-wNNalNxPKT"
      },
      "source": [
        "#### Checking the number of pages"
      ]
    },
    {
      "cell_type": "code",
      "source": [
        "len(manual)"
      ],
      "metadata": {
        "id": "-NuC-6SNRT7K",
        "colab": {
          "base_uri": "https://localhost:8080/"
        },
        "outputId": "a870a80b-f363-496b-86d3-d6ca4c530f62"
      },
      "execution_count": null,
      "outputs": [
        {
          "output_type": "execute_result",
          "data": {
            "text/plain": [
              "4114"
            ]
          },
          "metadata": {},
          "execution_count": 6
        }
      ]
    },
    {
      "cell_type": "markdown",
      "metadata": {
        "id": "LECMxTH-zB-R"
      },
      "source": [
        "### Data Chunking"
      ]
    },
    {
      "cell_type": "code",
      "source": [
        "text_splitter = RecursiveCharacterTextSplitter.from_tiktoken_encoder(\n",
        "    encoding_name='cl100k_base',\n",
        "    chunk_size=512,\n",
        "    chunk_overlap= 50\n",
        ")"
      ],
      "metadata": {
        "id": "ir9Zi8rKRUmG"
      },
      "execution_count": null,
      "outputs": []
    },
    {
      "cell_type": "code",
      "source": [
        "document_chunks = pdf_loader.load_and_split(text_splitter)\n",
        "document_chunks[4]"
      ],
      "metadata": {
        "colab": {
          "base_uri": "https://localhost:8080/"
        },
        "id": "L07c9Cs96qOB",
        "outputId": "d3060f61-5515-4556-a71a-3151d244d371"
      },
      "execution_count": null,
      "outputs": [
        {
          "output_type": "execute_result",
          "data": {
            "text/plain": [
              "Document(metadata={'producer': 'pdf-lib (https://github.com/Hopding/pdf-lib)', 'creator': 'Atop CHM to PDF Converter', 'creationdate': '2012-06-15T05:44:40+00:00', 'source': '/content/drive/MyDrive/AIML_UT/Colab_Files/Pi5_NLP/Pi5_Proj/medical_diagnosis_manual.pdf', 'file_path': '/content/drive/MyDrive/AIML_UT/Colab_Files/Pi5_NLP/Pi5_Proj/medical_diagnosis_manual.pdf', 'total_pages': 4114, 'format': 'PDF 1.7', 'title': 'The Merck Manual of Diagnosis & Therapy, 19th Edition', 'author': '', 'subject': '', 'keywords': '', 'moddate': '2025-06-21T13:48:40+00:00', 'trapped': '', 'modDate': 'D:20250621134840Z', 'creationDate': 'D:20120615054440Z', 'page': 3}, page_content='491\\nChapter 44. Foot & Ankle Disorders    .....................................................................................................................................\\n502\\nChapter 45. Tumors of Bones & Joints    ...............................................................................................................................\\n510\\n5 - Ear, Nose, Throat & Dental Disorders    ..................................................................................................................\\n510\\nChapter 46. Approach to the Patient With Ear Problems    ...........................................................................................\\n523\\nChapter 47. Hearing Loss    .........................................................................................................................................................\\n535\\nChapter 48. Inner Ear Disorders    ............................................................................................................................................\\n542\\nChapter 49. Middle Ear & Tympanic Membrane Disorders    ........................................................................................\\n550\\nChapter 50. External Ear Disorders    .....................................................................................................................................\\n554\\nChapter 51. Approach to the Patient With Nasal & Pharyngeal Symptoms    .......................................................\\n567\\nChapter 52. Oral & Pharyngeal Disorders    .........................................................................................................................\\n578\\nChapter 53. Nose & Paranasal Sinus Disorders    .............................................................................................................\\n584\\nChapter 54. Laryngeal Disorders    ...........................................................................................................................................\\n590\\nChapter 55. Tumors of the Head & Neck    ...........................................................................................................................\\n600\\nChapter 56. Approach to Dental & Oral Symptoms    .......................................................................................................\\n619\\nChapter 57. Common Dental Disorders    .............................................................................................................................\\n629\\nChapter 58. Dental Emergencies    ..........................................................................................................................................\\n635\\nChapter 59. Temporomandibular Disorders    ......................................................................................................................\\n641\\n6 - Eye Disorders    ............................................................................................................................................................................\\n641\\nChapter 60. Approach to the Ophthalmologic Patient    ..................................................................................................\\n669\\nChapter 61. Refractive Error    ...................................................................................................................................................\\n674\\nChapter 62. Eyelid & Lacrimal Disorders    ...........................................................................................................................\\n680\\nChapter 63. Conjunctival & Scleral Disorders    .................................................................................................................\\n690\\nChapter 64. Corneal Disorders    ...............................................................................................................................................\\n703\\nChapter 65. Glaucoma    ...............................................................................................................................................................\\n710\\nChapter 66. Cataract    ...................................................................................................................................................................\\n713\\nChapter 67. Uveitis    ......................................................................................................................................................................\\n719\\nChapter 68. Retinal Disorders    .................................................................................................................................................\\n731\\nChapter 69. Optic Nerve Disorders    ......................................................................................................................................\\n737\\nChapter 70. Orbital Diseases    ..................................................................................................................................................\\n742\\n7 - Dermatologic Disorders    ....................................................................................................................................................\\n742')"
            ]
          },
          "metadata": {},
          "execution_count": 12
        }
      ]
    },
    {
      "cell_type": "code",
      "source": [
        "document_chunks[5]"
      ],
      "metadata": {
        "colab": {
          "base_uri": "https://localhost:8080/"
        },
        "id": "HnUIIm29JXFv",
        "outputId": "23fd0ff6-5276-43c5-876b-57aafbd17ffd"
      },
      "execution_count": null,
      "outputs": [
        {
          "output_type": "execute_result",
          "data": {
            "text/plain": [
              "Document(metadata={'producer': 'pdf-lib (https://github.com/Hopding/pdf-lib)', 'creator': 'Atop CHM to PDF Converter', 'creationdate': '2012-06-15T05:44:40+00:00', 'source': '/content/drive/MyDrive/AIML_UT/Colab_Files/Pi5_NLP/Pi5_Proj/medical_diagnosis_manual.pdf', 'file_path': '/content/drive/MyDrive/AIML_UT/Colab_Files/Pi5_NLP/Pi5_Proj/medical_diagnosis_manual.pdf', 'total_pages': 4114, 'format': 'PDF 1.7', 'title': 'The Merck Manual of Diagnosis & Therapy, 19th Edition', 'author': '', 'subject': '', 'keywords': '', 'moddate': '2025-06-21T13:48:40+00:00', 'trapped': '', 'modDate': 'D:20250621134840Z', 'creationDate': 'D:20120615054440Z', 'page': 3}, page_content='731\\nChapter 69. Optic Nerve Disorders    ......................................................................................................................................\\n737\\nChapter 70. Orbital Diseases    ..................................................................................................................................................\\n742\\n7 - Dermatologic Disorders    ....................................................................................................................................................\\n742\\nChapter 71. Approach to the Dermatologic Patient    .......................................................................................................\\n755\\nChapter 72. Principles of Topical Dermatologic Therapy    ............................................................................................\\n760\\nChapter 73. Acne & Related Disorders    ...............................................................................................................................\\n766\\nChapter 74. Bullous Diseases    .................................................................................................................................................\\n771\\nChapter 75. Cornification Disorders    .....................................................................................................................................\\n775\\nChapter 76. Dermatitis    ...............................................................................................................................................................\\n786\\nChapter 77. Reactions to Sunlight    ........................................................................................................................................\\n791\\nChapter 78. Psoriasis & Scaling Diseases    ........................................................................................................................\\n799\\nChapter 79. Hypersensitivity & Inflammatory Disorders    .............................................................................................\\n808\\nChapter 80. Sweating Disorders    ............................................................................................................................................\\n811\\nChapter 81. Bacterial Skin Infections    ...................................................................................................................................\\n822\\nChapter 82. Fungal Skin Infections    ......................................................................................................................................\\n831\\nChapter 83. Parasitic Skin Infections    ...................................................................................................................................\\n836\\nChapter 84. Viral Skin Diseases    ............................................................................................................................................\\n841\\nChapter 85. Pigmentation Disorders    ....................................................................................................................................\\n846\\nChapter 86. Hair Disorders    .......................................................................................................................................................\\n855\\nChapter 87. Nail Disorders    .......................................................................................................................................................\\n861\\nChapter 88. Pressure Ulcers    ...................................................................................................................................................\\n867\\nChapter 89. Benign Tumors    .....................................................................................................................................................\\n874\\nChapter 90. Cancers of the Skin    ............................................................................................................................................\\n882\\n8 - Endocrine & Metabolic Disorders    .............................................................................................................................\\n882\\nChapter 91. Principles of Endocrinology    ............................................................................................................................\\n887\\nChapter 92. Pituitary Disorders    ..............................................................................................................................................\\n901\\nChapter 93. Thyroid Disorders    ................................................................................................................................................\\nrajesh.g86@yahoo.com\\n3LS890G5KA\\nThis file is meant for personal use by rajesh.g86@yahoo.com only.\\nSharing or publishing the contents in part or full is liable for legal action.')"
            ]
          },
          "metadata": {},
          "execution_count": 11
        }
      ]
    },
    {
      "cell_type": "markdown",
      "source": [
        "Observation\n",
        "- from the above document_chunks [4] and [5] there is a overlap of chunks from the document"
      ],
      "metadata": {
        "id": "ArO0CmaWd895"
      }
    },
    {
      "cell_type": "code",
      "source": [
        "len(document_chunks)"
      ],
      "metadata": {
        "colab": {
          "base_uri": "https://localhost:8080/"
        },
        "id": "-54iAPmD6vNA",
        "outputId": "ce9de663-9a52-4554-974e-5924143a9815"
      },
      "execution_count": null,
      "outputs": [
        {
          "output_type": "execute_result",
          "data": {
            "text/plain": [
              "8659"
            ]
          },
          "metadata": {},
          "execution_count": 15
        }
      ]
    },
    {
      "cell_type": "code",
      "source": [
        "import pickle\n",
        "\n",
        "# Save to Google Drive or local directory\n",
        "with open(\"/content/drive/MyDrive/AIML_UT/Colab_Files/Pi5_NLP/Pi5_Proj/document_chunks1.pkl\", \"wb\") as f:\n",
        "    pickle.dump(document_chunks, f)\n"
      ],
      "metadata": {
        "id": "hH0VjI6IsT1K"
      },
      "execution_count": null,
      "outputs": []
    },
    {
      "cell_type": "code",
      "source": [
        "with open(\"/content/drive/MyDrive/AIML_UT/Colab_Files/Pi5_NLP/Pi5_Proj/document_chunks1.pkl\", \"rb\") as f:\n",
        "    document_chunks = pickle.load(f)\n",
        "\n",
        "print(f\"Loaded {len(document_chunks)} chunks.\")\n"
      ],
      "metadata": {
        "colab": {
          "base_uri": "https://localhost:8080/"
        },
        "id": "lcHoIBSQsdUh",
        "outputId": "db15bc75-3867-4860-b9c6-ed7d94083198"
      },
      "execution_count": null,
      "outputs": [
        {
          "output_type": "stream",
          "name": "stdout",
          "text": [
            "Loaded 8659 chunks.\n"
          ]
        }
      ]
    },
    {
      "cell_type": "markdown",
      "source": [
        "Observation\n",
        "- The above import for pickle is to save the document_chunks to local_drive\n",
        "- getting out of memory error and had use this technique to retrive document_chunks at time for relevant process\n",
        "- Also this has the exact number of chunks loaded 8659"
      ],
      "metadata": {
        "id": "2CuLIIIUdgmF"
      }
    },
    {
      "cell_type": "markdown",
      "source": [
        "Observation\n",
        "- chunk_size 512 - that creates chunks of 512 to store data into the vectors\n",
        "- chunk_overlap is the overlapping length of the sentence so that the model can connect between two chunks in sequence and it is set at 50"
      ],
      "metadata": {
        "id": "fzIT_IgfOPwv"
      }
    },
    {
      "cell_type": "markdown",
      "metadata": {
        "id": "BvHVejcWz0Bl"
      },
      "source": [
        "### Embedding"
      ]
    },
    {
      "cell_type": "code",
      "source": [
        "#! pip install sentence-transformers==2.7.0\n",
        "embedding_model = SentenceTransformerEmbeddings(model_name='thenlper/gte-large')"
      ],
      "metadata": {
        "id": "0BZbW8OOh7IE",
        "colab": {
          "base_uri": "https://localhost:8080/"
        },
        "outputId": "6b642122-6da0-429b-e66f-3883c0ef0066"
      },
      "execution_count": null,
      "outputs": [
        {
          "output_type": "stream",
          "name": "stderr",
          "text": [
            "/tmp/ipython-input-10-3105777098.py:2: LangChainDeprecationWarning: The class `HuggingFaceEmbeddings` was deprecated in LangChain 0.2.2 and will be removed in 1.0. An updated version of the class exists in the :class:`~langchain-huggingface package and should be used instead. To use it run `pip install -U :class:`~langchain-huggingface` and import as `from :class:`~langchain_huggingface import HuggingFaceEmbeddings``.\n",
            "  embedding_model = SentenceTransformerEmbeddings(model_name='thenlper/gte-large')\n"
          ]
        }
      ]
    },
    {
      "cell_type": "code",
      "source": [
        "embedding_1 = embedding_model.embed_query(document_chunks[0].page_content)\n",
        "embedding_2 = embedding_model.embed_query(document_chunks[1].page_content)"
      ],
      "metadata": {
        "id": "wOhZtQ7i64ai"
      },
      "execution_count": null,
      "outputs": []
    },
    {
      "cell_type": "code",
      "source": [
        "print(\"Dimension of the embedding vector \",len(embedding_1))\n",
        "len(embedding_1)==len(embedding_2)"
      ],
      "metadata": {
        "colab": {
          "base_uri": "https://localhost:8080/"
        },
        "id": "MHOIIxED69D3",
        "outputId": "63ead9d1-32fa-477d-87eb-53d48e7e2eef"
      },
      "execution_count": null,
      "outputs": [
        {
          "output_type": "stream",
          "name": "stdout",
          "text": [
            "Dimension of the embedding vector  1024\n"
          ]
        },
        {
          "output_type": "execute_result",
          "data": {
            "text/plain": [
              "True"
            ]
          },
          "metadata": {},
          "execution_count": 12
        }
      ]
    },
    {
      "cell_type": "markdown",
      "source": [
        "Observation\n",
        "- Embedding model provides fixed length vector for any number of chunks"
      ],
      "metadata": {
        "id": "uKVhZwPvOy4U"
      }
    },
    {
      "cell_type": "markdown",
      "metadata": {
        "id": "qiKCOv4X0d7B"
      },
      "source": [
        "### Vector Database"
      ]
    },
    {
      "cell_type": "code",
      "source": [
        "zip_file_path1 = \"/content/drive/MyDrive/AIML_UT/Colab_Files/Pi5_NLP/Pi5_Proj/manual_db1.zip\"\n",
        "persist_directory1 = \"/content/drive/MyDrive/AIML_UT/Colab_Files/Pi5_NLP/Pi5_Proj/chroma_db_extracted1\"\n",
        "os.makedirs(persist_directory1, exist_ok=True)"
      ],
      "metadata": {
        "id": "ZAnkd7AILc0v"
      },
      "execution_count": null,
      "outputs": []
    },
    {
      "cell_type": "code",
      "source": [
        "\n",
        "print(f\"Unzipping {zip_file_path1} to {persist_directory1}...\")\n",
        "!unzip \"{zip_file_path1}\" -d \"{persist_directory1}\"\n",
        "print(\"Unzipping complete!\")"
      ],
      "metadata": {
        "colab": {
          "base_uri": "https://localhost:8080/"
        },
        "id": "czPXdqbkXLD5",
        "outputId": "06f1f6dd-4d71-4df9-a4ff-d73943bd8eef"
      },
      "execution_count": null,
      "outputs": [
        {
          "output_type": "stream",
          "name": "stdout",
          "text": [
            "Unzipping /content/drive/MyDrive/AIML_UT/Colab_Files/Pi5_NLP/Pi5_Proj/manual_db1.zip to /content/drive/MyDrive/AIML_UT/Colab_Files/Pi5_NLP/Pi5_Proj/chroma_db_extracted1...\n",
            "Archive:  /content/drive/MyDrive/AIML_UT/Colab_Files/Pi5_NLP/Pi5_Proj/manual_db1.zip\n",
            "   creating: /content/drive/MyDrive/AIML_UT/Colab_Files/Pi5_NLP/Pi5_Proj/chroma_db_extracted1/content/manual_db1/\n",
            "   creating: /content/drive/MyDrive/AIML_UT/Colab_Files/Pi5_NLP/Pi5_Proj/chroma_db_extracted1/content/manual_db1/698233d7-e8e0-40a6-bdc9-d42bff959296/\n",
            "  inflating: /content/drive/MyDrive/AIML_UT/Colab_Files/Pi5_NLP/Pi5_Proj/chroma_db_extracted1/content/manual_db1/698233d7-e8e0-40a6-bdc9-d42bff959296/header.bin  \n",
            "  inflating: /content/drive/MyDrive/AIML_UT/Colab_Files/Pi5_NLP/Pi5_Proj/chroma_db_extracted1/content/manual_db1/698233d7-e8e0-40a6-bdc9-d42bff959296/link_lists.bin  \n",
            "  inflating: /content/drive/MyDrive/AIML_UT/Colab_Files/Pi5_NLP/Pi5_Proj/chroma_db_extracted1/content/manual_db1/698233d7-e8e0-40a6-bdc9-d42bff959296/length.bin  \n",
            "  inflating: /content/drive/MyDrive/AIML_UT/Colab_Files/Pi5_NLP/Pi5_Proj/chroma_db_extracted1/content/manual_db1/698233d7-e8e0-40a6-bdc9-d42bff959296/data_level0.bin  \n",
            "  inflating: /content/drive/MyDrive/AIML_UT/Colab_Files/Pi5_NLP/Pi5_Proj/chroma_db_extracted1/content/manual_db1/698233d7-e8e0-40a6-bdc9-d42bff959296/index_metadata.pickle  \n",
            "  inflating: /content/drive/MyDrive/AIML_UT/Colab_Files/Pi5_NLP/Pi5_Proj/chroma_db_extracted1/content/manual_db1/chroma.sqlite3  \n",
            "Unzipping complete!\n"
          ]
        }
      ]
    },
    {
      "cell_type": "code",
      "source": [
        "import os\n",
        "import shutil\n",
        "\n",
        "db_path = \"/content/drive/MyDrive/AIML_UT/Colab_Files/Pi5_NLP/Pi5_Proj/chroma_db_extracted1/content/manual_db1\"\n",
        "\n",
        "# Detect the actual UUID folder\n",
        "for name in os.listdir(db_path):\n",
        "    full_path = os.path.join(db_path, name)\n",
        "    if os.path.isdir(full_path) and name != \"index\":\n",
        "        print(f\"Renaming index folder: {name} → index\")\n",
        "        shutil.move(full_path, os.path.join(db_path, \"index\"))\n",
        "        break\n"
      ],
      "metadata": {
        "colab": {
          "base_uri": "https://localhost:8080/"
        },
        "id": "nIiQUXIpk0xW",
        "outputId": "0dd61c74-50d1-4d3e-9ceb-e4c120f0b44a"
      },
      "execution_count": null,
      "outputs": [
        {
          "output_type": "stream",
          "name": "stdout",
          "text": [
            "Renaming index folder: 698233d7-e8e0-40a6-bdc9-d42bff959296 → index\n"
          ]
        }
      ]
    },
    {
      "cell_type": "code",
      "source": [
        "vectorstore1 = Chroma(\n",
        "    persist_directory=db_path,  # or the unzipped path\n",
        "    embedding_function=embedding_model\n",
        ")"
      ],
      "metadata": {
        "colab": {
          "base_uri": "https://localhost:8080/"
        },
        "id": "_qjUTnGEg9Sq",
        "outputId": "b3519eea-ca64-4c43-8c07-4db3e5be8a32"
      },
      "execution_count": null,
      "outputs": [
        {
          "output_type": "stream",
          "name": "stderr",
          "text": [
            "ERROR:chromadb.telemetry.product.posthog:Failed to send telemetry event ClientStartEvent: capture() takes 1 positional argument but 3 were given\n",
            "ERROR:chromadb.telemetry.product.posthog:Failed to send telemetry event ClientCreateCollectionEvent: capture() takes 1 positional argument but 3 were given\n"
          ]
        }
      ]
    },
    {
      "cell_type": "code",
      "source": [
        "print(vectorstore1._collection.count())  # Hidden method but works"
      ],
      "metadata": {
        "colab": {
          "base_uri": "https://localhost:8080/"
        },
        "id": "F7MS-U_bhIzW",
        "outputId": "30dc194a-1c49-4cbf-f402-dfb243645cae"
      },
      "execution_count": null,
      "outputs": [
        {
          "output_type": "stream",
          "name": "stdout",
          "text": [
            "16892\n"
          ]
        }
      ]
    },
    {
      "cell_type": "code",
      "source": [
        "vectorstore1.similarity_search(\"The main symptom of cataract\",k=2)"
      ],
      "metadata": {
        "colab": {
          "base_uri": "https://localhost:8080/"
        },
        "id": "lVbeHF2rZsbq",
        "outputId": "faff5870-958b-4f61-95e9-496ac322c181"
      },
      "execution_count": null,
      "outputs": [
        {
          "output_type": "stream",
          "name": "stderr",
          "text": [
            "ERROR:chromadb.telemetry.product.posthog:Failed to send telemetry event CollectionQueryEvent: capture() takes 1 positional argument but 3 were given\n"
          ]
        },
        {
          "output_type": "execute_result",
          "data": {
            "text/plain": [
              "[Document(metadata={'creationDate': 'D:20120615054440Z', 'modDate': 'D:20250621134840Z', 'format': 'PDF 1.7', 'author': '', 'subject': '', 'creator': 'Atop CHM to PDF Converter', 'trapped': '', 'file_path': '/content/drive/MyDrive/AIML_UT/Colab_Files/Pi5_NLP/Pi5_Proj/medical_diagnosis_manual.pdf', 'creationdate': '2012-06-15T05:44:40+00:00', 'producer': 'pdf-lib (https://github.com/Hopding/pdf-lib)', 'page': 4113, 'total_pages': 4114, 'moddate': '2025-06-21T13:48:40+00:00', 'title': 'The Merck Manual of Diagnosis & Therapy, 19th Edition', 'source': '/content/drive/MyDrive/AIML_UT/Colab_Files/Pi5_NLP/Pi5_Proj/medical_diagnosis_manual.pdf', 'keywords': ''}, page_content=\"Z\\nZafirlukast 1879\\nZalcitabine 1451\\nin children 2854\\nZaleplon 1709\\nZanamivir 1407\\nin influenza 1407, 1929\\nZAP-70 (zeta-associated protein 70) deficiency 1092, 1108\\nZavanelli maneuver 2680\\nZellweger syndrome 2383, 3023\\nZenker's diverticulum 125\\nZidovudine 1451, 1453\\nin children 2854\\nZileuton 1881\\nin asthma 1880\\nZinc 49, 55, 3431-3432\\nin common cold 1405\\ndeficiency of 11, 49, 55\\nin dermatophytoses 705\\npoisoning with 3328, 3353\\nrecommended dietary allowances for 50\\nreference values for 3499\\ntoxicity of 49, 55\\ncopper deficiency and 49\\nin Wilson's disease 52\\nZinc oxide 2233\\ngelatin formulation of 646, 672\\nZinc pyrithione 647\\nZinc shakes 55\\nZipper injury 3239, 3240\\nZiprasidone\\nin agitation 1492\\nin bipolar disorder 3059\\npoisoning with 3347\\nin schizophrenia 1566\\nZoledronate 359, 361, 848\\nZollinger-Ellison syndrome 95, 199, 200-201, 910\\nmastocytosis vs 1125\\nMenetrier's disease vs 132\\npeptic ulcer disease vs 134\\nZolmitriptan 1721\\nZolpidem 1709, 3103\\nZonisamide 1701\\nZoonotic diseases, cutaneous 718\\nZoophobia 1498\\nZoster (see Herpes zoster virus infection)\\nZygomycosis 1332\\nThe Merck Manual of Diagnosis & Therapy, 19th Edition\\nZ\\n4104\\nrajesh.g86@yahoo.com\\n3LS890G5KA\\nThis file is meant for personal use by rajesh.g86@yahoo.com only.\\nSharing or publishing the contents in part or full is liable for legal action.\")]"
            ]
          },
          "metadata": {},
          "execution_count": 111
        }
      ]
    },
    {
      "cell_type": "markdown",
      "source": [
        "Observation\n",
        "- The above steps are downloading the vector database (Chroma) to google drive and retrieving them for future use\n",
        "- As mentioned this project is of tremendous challenges in terms of memory errors and so the above steps are followed and used at time\n",
        "- Though above steps are followed the project still relies on the actual vector store stored in the temporary directory\n",
        "- From the above we would see vectorestore1 is able to fetch the user input but only brings in only 1 similarity search and that is the reason why we would still use the actual vector store from the temporary stored Chroma DB"
      ],
      "metadata": {
        "id": "KZEpPZdyexKx"
      }
    },
    {
      "cell_type": "markdown",
      "source": [
        "####Actual implementation of Vector Store"
      ],
      "metadata": {
        "id": "ZVN9l0_kfqOc"
      }
    },
    {
      "cell_type": "code",
      "source": [
        "import json,os\n",
        "\n",
        "out_dir = 'manual_db3'\n",
        "\n",
        "if not os.path.exists(out_dir):\n",
        "  os.makedirs(out_dir)"
      ],
      "metadata": {
        "id": "vHHt1MQQRVzs"
      },
      "execution_count": null,
      "outputs": []
    },
    {
      "cell_type": "code",
      "source": [
        "vectorstore = Chroma.from_documents(\n",
        "    document_chunks,\n",
        "    embedding_model,\n",
        "    persist_directory=out_dir\n",
        ")\n",
        "vectorstore.persist()"
      ],
      "metadata": {
        "colab": {
          "base_uri": "https://localhost:8080/"
        },
        "id": "2MnznCpU7Byp",
        "outputId": "ab09dc36-bbc6-414b-faab-a014d49ce5a5"
      },
      "execution_count": null,
      "outputs": [
        {
          "output_type": "stream",
          "name": "stderr",
          "text": [
            "ERROR:chromadb.telemetry.product.posthog:Failed to send telemetry event ClientStartEvent: capture() takes 1 positional argument but 3 were given\n",
            "ERROR:chromadb.telemetry.product.posthog:Failed to send telemetry event ClientCreateCollectionEvent: capture() takes 1 positional argument but 3 were given\n",
            "/tmp/ipython-input-14-3138685046.py:6: LangChainDeprecationWarning: Since Chroma 0.4.x the manual persistence method is no longer supported as docs are automatically persisted.\n",
            "  vectorstore.persist()\n"
          ]
        }
      ]
    },
    {
      "cell_type": "code",
      "source": [
        "print(vectorstore._collection.count())  # Hidden method but works\n"
      ],
      "metadata": {
        "colab": {
          "base_uri": "https://localhost:8080/"
        },
        "id": "lCtKEOuWdLqD",
        "outputId": "a513a6f2-46f3-4946-c724-3bb50481efde"
      },
      "execution_count": null,
      "outputs": [
        {
          "output_type": "stream",
          "name": "stdout",
          "text": [
            "17318\n"
          ]
        }
      ]
    },
    {
      "cell_type": "markdown",
      "source": [
        "Observation\n",
        "- The vectorstore.persist() is used to persist the data into the ChormaDB - if not the when the session restarts the vectorstore deletes the temporary stored vectors\n",
        "- vectore Store collection count\n",
        "  - vectorestore --> 17318\n",
        "  - vectorestore1 --> 16892\n",
        "  - Almost same size for vector collections"
      ],
      "metadata": {
        "id": "ca6A3btSfz36"
      }
    },
    {
      "cell_type": "code",
      "source": [
        "## Downloaded the Vector Store for future use\n",
        "## This project is consuming more RAM\n",
        "!zip -r manual_db3.zip /content/manual_db3"
      ],
      "metadata": {
        "colab": {
          "base_uri": "https://localhost:8080/"
        },
        "id": "1tNLDnpGmH2T",
        "outputId": "99c43e69-f691-49ae-8849-0eac5095feaa"
      },
      "execution_count": null,
      "outputs": [
        {
          "output_type": "stream",
          "name": "stdout",
          "text": [
            "updating: content/manual_db3/ (stored 0%)\n",
            "updating: content/manual_db3/chroma.sqlite3 (deflated 52%)\n",
            "updating: content/manual_db3/846ad7b3-18cd-4500-b48d-8947e8f19a67/ (stored 0%)\n",
            "updating: content/manual_db3/846ad7b3-18cd-4500-b48d-8947e8f19a67/header.bin (deflated 55%)\n",
            "updating: content/manual_db3/846ad7b3-18cd-4500-b48d-8947e8f19a67/link_lists.bin (deflated 75%)\n",
            "updating: content/manual_db3/846ad7b3-18cd-4500-b48d-8947e8f19a67/length.bin (deflated 98%)\n",
            "updating: content/manual_db3/846ad7b3-18cd-4500-b48d-8947e8f19a67/data_level0.bin (deflated 8%)\n",
            "updating: content/manual_db3/846ad7b3-18cd-4500-b48d-8947e8f19a67/index_metadata.pickle (deflated 45%)\n"
          ]
        }
      ]
    },
    {
      "cell_type": "markdown",
      "source": [
        "Obseration\n",
        "- Once vectorstore.persists() is executed it persists data but then the above line of code is executed to zip it and store it in the google drive"
      ],
      "metadata": {
        "id": "hj8snT2QgXmD"
      }
    },
    {
      "cell_type": "code",
      "source": [
        "vectorstore = Chroma(persist_directory=out_dir,embedding_function=embedding_model)"
      ],
      "metadata": {
        "id": "06Hqos8L7Eh-",
        "colab": {
          "base_uri": "https://localhost:8080/"
        },
        "outputId": "61f363e6-7315-426a-a490-4460c95bfc7b"
      },
      "execution_count": null,
      "outputs": [
        {
          "output_type": "stream",
          "name": "stderr",
          "text": [
            "/tmp/ipython-input-15-2756559696.py:1: LangChainDeprecationWarning: The class `Chroma` was deprecated in LangChain 0.2.9 and will be removed in 1.0. An updated version of the class exists in the :class:`~langchain-chroma package and should be used instead. To use it run `pip install -U :class:`~langchain-chroma` and import as `from :class:`~langchain_chroma import Chroma``.\n",
            "  vectorstore = Chroma(persist_directory=out_dir,embedding_function=embedding_model)\n",
            "ERROR:chromadb.telemetry.product.posthog:Failed to send telemetry event ClientStartEvent: capture() takes 1 positional argument but 3 were given\n",
            "ERROR:chromadb.telemetry.product.posthog:Failed to send telemetry event ClientCreateCollectionEvent: capture() takes 1 positional argument but 3 were given\n"
          ]
        }
      ]
    },
    {
      "cell_type": "code",
      "source": [
        "vectorstore.embeddings"
      ],
      "metadata": {
        "colab": {
          "base_uri": "https://localhost:8080/"
        },
        "id": "p8ihRHWgN4aF",
        "outputId": "477f8eeb-77b2-47a5-e0b5-81a39a373b44"
      },
      "execution_count": null,
      "outputs": [
        {
          "output_type": "execute_result",
          "data": {
            "text/plain": [
              "HuggingFaceEmbeddings(client=SentenceTransformer(\n",
              "  (0): Transformer({'max_seq_length': 512, 'do_lower_case': False}) with Transformer model: BertModel \n",
              "  (1): Pooling({'word_embedding_dimension': 1024, 'pooling_mode_cls_token': False, 'pooling_mode_mean_tokens': True, 'pooling_mode_max_tokens': False, 'pooling_mode_mean_sqrt_len_tokens': False, 'pooling_mode_weightedmean_tokens': False, 'pooling_mode_lasttoken': False, 'include_prompt': True})\n",
              "  (2): Normalize()\n",
              "), model_name='thenlper/gte-large', cache_folder=None, model_kwargs={}, encode_kwargs={}, multi_process=False, show_progress=False)"
            ]
          },
          "metadata": {},
          "execution_count": 21
        }
      ]
    },
    {
      "cell_type": "code",
      "source": [
        "vectorstore.similarity_search(\"The main symptom of cataract\",k=2)"
      ],
      "metadata": {
        "colab": {
          "base_uri": "https://localhost:8080/"
        },
        "id": "HJ0ErPjuTvVl",
        "outputId": "a56943e8-f8af-495a-bb5e-e24775a78400"
      },
      "execution_count": null,
      "outputs": [
        {
          "output_type": "stream",
          "name": "stderr",
          "text": [
            "ERROR:chromadb.telemetry.product.posthog:Failed to send telemetry event CollectionQueryEvent: capture() takes 1 positional argument but 3 were given\n"
          ]
        },
        {
          "output_type": "execute_result",
          "data": {
            "text/plain": [
              "[Document(metadata={'producer': 'pdf-lib (https://github.com/Hopding/pdf-lib)', 'page': 719, 'trapped': '', 'creationdate': '2012-06-15T05:44:40+00:00', 'source': '/content/drive/MyDrive/AIML_UT/Colab_Files/Pi5_NLP/Pi5_Proj/medical_diagnosis_manual.pdf', 'file_path': '/content/drive/MyDrive/AIML_UT/Colab_Files/Pi5_NLP/Pi5_Proj/medical_diagnosis_manual.pdf', 'creationDate': 'D:20120615054440Z', 'keywords': '', 'subject': '', 'creator': 'Atop CHM to PDF Converter', 'modDate': 'D:20250621134840Z', 'moddate': '2025-06-21T13:48:40+00:00', 'author': '', 'format': 'PDF 1.7', 'total_pages': 4114, 'title': 'The Merck Manual of Diagnosis & Therapy, 19th Edition'}, page_content='Chapter 66. Cataract\\n(For developmental or congenital cataracts, see p. 2920.)\\nA cataract is a congenital or degenerative opacity of the lens. The main symptom is gradual,\\npainless vision blurring. Diagnosis is by ophthalmoscopy and slit-lamp examination. Treatment\\nis surgical removal and placement of an intraocular lens.\\nLens opacity can develop in several locations:\\n• Central lens nucleus (nuclear cataract)\\n• Beneath the posterior lens capsule (posterior subcapsular cataract)\\nEtiology\\nCataracts occur with aging. Other risk factors may include the following:\\n• Trauma (sometimes causing cataracts years later)\\n• Smoking\\n• Alcohol use\\n• Exposure to x-rays\\n• Heat from infrared exposure\\n• Systemic disease (eg, diabetes)\\n• Uveitis\\n• Systemic drugs (eg, corticosteroids)\\n• Undernutrition\\n• Dark eyes\\n• Possibly chronic ultraviolet exposure\\nMany people have no risk factors other than age. Some cataracts are congenital, associated with\\nnumerous syndromes and diseases.\\nSymptoms and Signs\\nCataracts generally develop slowly over years. Early symptoms may be loss of contrast, glare (halos and\\nstarbursts around lights), needing more light to see well, and problems distinguishing dark blue from\\nblack. Painless blurring eventually occurs. The degree of blurring depends on the location and extent of\\nthe opacity. Double vision occurs rarely.\\nWith a nuclear cataract (see\\nPlate 4), distance vision worsens. Near vision may improve in the early stages because of changes in the\\nrefractive index of the lens; presbyopic patients may be temporarily able to read without glasses (second\\nsight).\\nA posterior subcapsular cataract disproportionately affects vision because the opacity is located at the\\ncrossing point of incoming light rays. Such cataracts reduce visual acuity more when the pupil constricts\\n(eg, in bright light, during reading). They are also the type most likely to cause loss of contrast as well as\\nThe Merck Manual of Diagnosis & Therapy, 19th Edition\\nChapter 66. Cataract\\n710\\nrajesh.g86@yahoo.com\\n3LS890G5KA\\nThis file is meant for personal use by rajesh.g86@yahoo.com only.'),\n",
              " Document(metadata={'creationdate': '2012-06-15T05:44:40+00:00', 'author': '', 'creationDate': 'D:20120615054440Z', 'file_path': '/content/drive/MyDrive/AIML_UT/Colab_Files/Pi5_NLP/Pi5_Proj/medical_diagnosis_manual.pdf', 'trapped': '', 'title': 'The Merck Manual of Diagnosis & Therapy, 19th Edition', 'creator': 'Atop CHM to PDF Converter', 'producer': 'pdf-lib (https://github.com/Hopding/pdf-lib)', 'total_pages': 4114, 'moddate': '2025-06-21T13:48:40+00:00', 'source': '/content/drive/MyDrive/AIML_UT/Colab_Files/Pi5_NLP/Pi5_Proj/medical_diagnosis_manual.pdf', 'format': 'PDF 1.7', 'modDate': 'D:20250621134840Z', 'subject': '', 'page': 719, 'keywords': ''}, page_content='Chapter 66. Cataract\\n(For developmental or congenital cataracts, see p. 2920.)\\nA cataract is a congenital or degenerative opacity of the lens. The main symptom is gradual,\\npainless vision blurring. Diagnosis is by ophthalmoscopy and slit-lamp examination. Treatment\\nis surgical removal and placement of an intraocular lens.\\nLens opacity can develop in several locations:\\n• Central lens nucleus (nuclear cataract)\\n• Beneath the posterior lens capsule (posterior subcapsular cataract)\\nEtiology\\nCataracts occur with aging. Other risk factors may include the following:\\n• Trauma (sometimes causing cataracts years later)\\n• Smoking\\n• Alcohol use\\n• Exposure to x-rays\\n• Heat from infrared exposure\\n• Systemic disease (eg, diabetes)\\n• Uveitis\\n• Systemic drugs (eg, corticosteroids)\\n• Undernutrition\\n• Dark eyes\\n• Possibly chronic ultraviolet exposure\\nMany people have no risk factors other than age. Some cataracts are congenital, associated with\\nnumerous syndromes and diseases.\\nSymptoms and Signs\\nCataracts generally develop slowly over years. Early symptoms may be loss of contrast, glare (halos and\\nstarbursts around lights), needing more light to see well, and problems distinguishing dark blue from\\nblack. Painless blurring eventually occurs. The degree of blurring depends on the location and extent of\\nthe opacity. Double vision occurs rarely.\\nWith a nuclear cataract (see\\nPlate 4), distance vision worsens. Near vision may improve in the early stages because of changes in the\\nrefractive index of the lens; presbyopic patients may be temporarily able to read without glasses (second\\nsight).\\nA posterior subcapsular cataract disproportionately affects vision because the opacity is located at the\\ncrossing point of incoming light rays. Such cataracts reduce visual acuity more when the pupil constricts\\n(eg, in bright light, during reading). They are also the type most likely to cause loss of contrast as well as\\nThe Merck Manual of Diagnosis & Therapy, 19th Edition\\nChapter 66. Cataract\\n710\\nrajesh.g86@yahoo.com\\n3LS890G5KA\\nThis file is meant for personal use by rajesh.g86@yahoo.com only.')]"
            ]
          },
          "metadata": {},
          "execution_count": 16
        }
      ]
    },
    {
      "cell_type": "code",
      "source": [
        "vectorstore1.similarity_search(\"The main symptom of cataract\",k=2)"
      ],
      "metadata": {
        "colab": {
          "base_uri": "https://localhost:8080/"
        },
        "id": "MyUqyVjZlQn0",
        "outputId": "313b8c5a-1fc6-4bb7-d6a0-e335fe22f168"
      },
      "execution_count": null,
      "outputs": [
        {
          "output_type": "execute_result",
          "data": {
            "text/plain": [
              "[Document(metadata={'source': '/content/drive/MyDrive/AIML_UT/Colab_Files/Pi5_NLP/Pi5_Proj/medical_diagnosis_manual.pdf', 'keywords': '', 'total_pages': 4114, 'moddate': '2025-06-21T13:48:40+00:00', 'format': 'PDF 1.7', 'file_path': '/content/drive/MyDrive/AIML_UT/Colab_Files/Pi5_NLP/Pi5_Proj/medical_diagnosis_manual.pdf', 'page': 4113, 'author': '', 'creationDate': 'D:20120615054440Z', 'producer': 'pdf-lib (https://github.com/Hopding/pdf-lib)', 'trapped': '', 'title': 'The Merck Manual of Diagnosis & Therapy, 19th Edition', 'creationdate': '2012-06-15T05:44:40+00:00', 'modDate': 'D:20250621134840Z', 'creator': 'Atop CHM to PDF Converter', 'subject': ''}, page_content=\"Z\\nZafirlukast 1879\\nZalcitabine 1451\\nin children 2854\\nZaleplon 1709\\nZanamivir 1407\\nin influenza 1407, 1929\\nZAP-70 (zeta-associated protein 70) deficiency 1092, 1108\\nZavanelli maneuver 2680\\nZellweger syndrome 2383, 3023\\nZenker's diverticulum 125\\nZidovudine 1451, 1453\\nin children 2854\\nZileuton 1881\\nin asthma 1880\\nZinc 49, 55, 3431-3432\\nin common cold 1405\\ndeficiency of 11, 49, 55\\nin dermatophytoses 705\\npoisoning with 3328, 3353\\nrecommended dietary allowances for 50\\nreference values for 3499\\ntoxicity of 49, 55\\ncopper deficiency and 49\\nin Wilson's disease 52\\nZinc oxide 2233\\ngelatin formulation of 646, 672\\nZinc pyrithione 647\\nZinc shakes 55\\nZipper injury 3239, 3240\\nZiprasidone\\nin agitation 1492\\nin bipolar disorder 3059\\npoisoning with 3347\\nin schizophrenia 1566\\nZoledronate 359, 361, 848\\nZollinger-Ellison syndrome 95, 199, 200-201, 910\\nmastocytosis vs 1125\\nMenetrier's disease vs 132\\npeptic ulcer disease vs 134\\nZolmitriptan 1721\\nZolpidem 1709, 3103\\nZonisamide 1701\\nZoonotic diseases, cutaneous 718\\nZoophobia 1498\\nZoster (see Herpes zoster virus infection)\\nZygomycosis 1332\\nThe Merck Manual of Diagnosis & Therapy, 19th Edition\\nZ\\n4104\\nrajesh.g86@yahoo.com\\n3LS890G5KA\\nThis file is meant for personal use by rajesh.g86@yahoo.com only.\\nSharing or publishing the contents in part or full is liable for legal action.\")]"
            ]
          },
          "metadata": {},
          "execution_count": 42
        }
      ]
    },
    {
      "cell_type": "markdown",
      "source": [
        "Observation\n",
        "- Vector store is important to store the chunk embeddings to DB\n",
        "- its a high dimension database and it uses numerical representation for its dimension\n"
      ],
      "metadata": {
        "id": "jUtFaMXzPW8V"
      }
    },
    {
      "cell_type": "markdown",
      "metadata": {
        "id": "uEa5sKc41T1z"
      },
      "source": [
        "### Retriever"
      ]
    },
    {
      "cell_type": "code",
      "source": [
        "retriever = vectorstore.as_retriever(\n",
        "    search_type='similarity',\n",
        "    search_kwargs={'k': 2}\n",
        ")"
      ],
      "metadata": {
        "id": "wBlQUGx3RWUD"
      },
      "execution_count": null,
      "outputs": []
    },
    {
      "cell_type": "code",
      "source": [
        "retriever1 = vectorstore1.as_retriever(\n",
        "    search_type='similarity',\n",
        "    search_kwargs={'k': 2}\n",
        ")"
      ],
      "metadata": {
        "id": "gBca7VaMougB"
      },
      "execution_count": null,
      "outputs": []
    },
    {
      "cell_type": "code",
      "source": [
        "rel_docs = retriever.get_relevant_documents(\"What is the diagnosis and treatment for Cataract? \")\n",
        "rel_docs"
      ],
      "metadata": {
        "colab": {
          "base_uri": "https://localhost:8080/"
        },
        "id": "0Ma7KzECOUWs",
        "outputId": "0269b6c4-46e5-42bc-8027-b0dfc2f6446a"
      },
      "execution_count": null,
      "outputs": [
        {
          "output_type": "stream",
          "name": "stderr",
          "text": [
            "/tmp/ipython-input-20-47650566.py:1: LangChainDeprecationWarning: The method `BaseRetriever.get_relevant_documents` was deprecated in langchain-core 0.1.46 and will be removed in 1.0. Use :meth:`~invoke` instead.\n",
            "  rel_docs = retriever.get_relevant_documents(\"What is the diagnosis and treatment for Cataract? \")\n"
          ]
        },
        {
          "output_type": "execute_result",
          "data": {
            "text/plain": [
              "[Document(metadata={'producer': 'pdf-lib (https://github.com/Hopding/pdf-lib)', 'trapped': '', 'creationdate': '2012-06-15T05:44:40+00:00', 'creationDate': 'D:20120615054440Z', 'title': 'The Merck Manual of Diagnosis & Therapy, 19th Edition', 'moddate': '2025-06-21T13:48:40+00:00', 'source': '/content/drive/MyDrive/AIML_UT/Colab_Files/Pi5_NLP/Pi5_Proj/medical_diagnosis_manual.pdf', 'author': '', 'file_path': '/content/drive/MyDrive/AIML_UT/Colab_Files/Pi5_NLP/Pi5_Proj/medical_diagnosis_manual.pdf', 'creator': 'Atop CHM to PDF Converter', 'total_pages': 4114, 'subject': '', 'keywords': '', 'modDate': 'D:20250621134840Z', 'format': 'PDF 1.7', 'page': 719}, page_content='Chapter 66. Cataract\\n(For developmental or congenital cataracts, see p. 2920.)\\nA cataract is a congenital or degenerative opacity of the lens. The main symptom is gradual,\\npainless vision blurring. Diagnosis is by ophthalmoscopy and slit-lamp examination. Treatment\\nis surgical removal and placement of an intraocular lens.\\nLens opacity can develop in several locations:\\n• Central lens nucleus (nuclear cataract)\\n• Beneath the posterior lens capsule (posterior subcapsular cataract)\\nEtiology\\nCataracts occur with aging. Other risk factors may include the following:\\n• Trauma (sometimes causing cataracts years later)\\n• Smoking\\n• Alcohol use\\n• Exposure to x-rays\\n• Heat from infrared exposure\\n• Systemic disease (eg, diabetes)\\n• Uveitis\\n• Systemic drugs (eg, corticosteroids)\\n• Undernutrition\\n• Dark eyes\\n• Possibly chronic ultraviolet exposure\\nMany people have no risk factors other than age. Some cataracts are congenital, associated with\\nnumerous syndromes and diseases.\\nSymptoms and Signs\\nCataracts generally develop slowly over years. Early symptoms may be loss of contrast, glare (halos and\\nstarbursts around lights), needing more light to see well, and problems distinguishing dark blue from\\nblack. Painless blurring eventually occurs. The degree of blurring depends on the location and extent of\\nthe opacity. Double vision occurs rarely.\\nWith a nuclear cataract (see\\nPlate 4), distance vision worsens. Near vision may improve in the early stages because of changes in the\\nrefractive index of the lens; presbyopic patients may be temporarily able to read without glasses (second\\nsight).\\nA posterior subcapsular cataract disproportionately affects vision because the opacity is located at the\\ncrossing point of incoming light rays. Such cataracts reduce visual acuity more when the pupil constricts\\n(eg, in bright light, during reading). They are also the type most likely to cause loss of contrast as well as\\nThe Merck Manual of Diagnosis & Therapy, 19th Edition\\nChapter 66. Cataract\\n710\\nrajesh.g86@yahoo.com\\n3LS890G5KA\\nThis file is meant for personal use by rajesh.g86@yahoo.com only.'),\n",
              " Document(metadata={'producer': 'pdf-lib (https://github.com/Hopding/pdf-lib)', 'modDate': 'D:20250621134840Z', 'source': '/content/drive/MyDrive/AIML_UT/Colab_Files/Pi5_NLP/Pi5_Proj/medical_diagnosis_manual.pdf', 'trapped': '', 'title': 'The Merck Manual of Diagnosis & Therapy, 19th Edition', 'creationDate': 'D:20120615054440Z', 'subject': '', 'author': '', 'file_path': '/content/drive/MyDrive/AIML_UT/Colab_Files/Pi5_NLP/Pi5_Proj/medical_diagnosis_manual.pdf', 'keywords': '', 'total_pages': 4114, 'moddate': '2025-06-21T13:48:40+00:00', 'creator': 'Atop CHM to PDF Converter', 'format': 'PDF 1.7', 'creationdate': '2012-06-15T05:44:40+00:00', 'page': 719}, page_content='Chapter 66. Cataract\\n(For developmental or congenital cataracts, see p. 2920.)\\nA cataract is a congenital or degenerative opacity of the lens. The main symptom is gradual,\\npainless vision blurring. Diagnosis is by ophthalmoscopy and slit-lamp examination. Treatment\\nis surgical removal and placement of an intraocular lens.\\nLens opacity can develop in several locations:\\n• Central lens nucleus (nuclear cataract)\\n• Beneath the posterior lens capsule (posterior subcapsular cataract)\\nEtiology\\nCataracts occur with aging. Other risk factors may include the following:\\n• Trauma (sometimes causing cataracts years later)\\n• Smoking\\n• Alcohol use\\n• Exposure to x-rays\\n• Heat from infrared exposure\\n• Systemic disease (eg, diabetes)\\n• Uveitis\\n• Systemic drugs (eg, corticosteroids)\\n• Undernutrition\\n• Dark eyes\\n• Possibly chronic ultraviolet exposure\\nMany people have no risk factors other than age. Some cataracts are congenital, associated with\\nnumerous syndromes and diseases.\\nSymptoms and Signs\\nCataracts generally develop slowly over years. Early symptoms may be loss of contrast, glare (halos and\\nstarbursts around lights), needing more light to see well, and problems distinguishing dark blue from\\nblack. Painless blurring eventually occurs. The degree of blurring depends on the location and extent of\\nthe opacity. Double vision occurs rarely.\\nWith a nuclear cataract (see\\nPlate 4), distance vision worsens. Near vision may improve in the early stages because of changes in the\\nrefractive index of the lens; presbyopic patients may be temporarily able to read without glasses (second\\nsight).\\nA posterior subcapsular cataract disproportionately affects vision because the opacity is located at the\\ncrossing point of incoming light rays. Such cataracts reduce visual acuity more when the pupil constricts\\n(eg, in bright light, during reading). They are also the type most likely to cause loss of contrast as well as\\nThe Merck Manual of Diagnosis & Therapy, 19th Edition\\nChapter 66. Cataract\\n710\\nrajesh.g86@yahoo.com\\n3LS890G5KA\\nThis file is meant for personal use by rajesh.g86@yahoo.com only.')]"
            ]
          },
          "metadata": {},
          "execution_count": 20
        }
      ]
    },
    {
      "cell_type": "code",
      "source": [
        "rel_docs1 = retriever1.get_relevant_documents(\"What is the diagnosis and treatment for Cataract?\")\n",
        "rel_docs1"
      ],
      "metadata": {
        "colab": {
          "base_uri": "https://localhost:8080/"
        },
        "id": "FZuK-dLWmAGH",
        "outputId": "6cdee224-11ed-431a-854a-4b2cdcb7d63c"
      },
      "execution_count": null,
      "outputs": [
        {
          "output_type": "execute_result",
          "data": {
            "text/plain": [
              "[Document(metadata={'creator': 'Atop CHM to PDF Converter', 'creationDate': 'D:20120615054440Z', 'subject': '', 'producer': 'pdf-lib (https://github.com/Hopding/pdf-lib)', 'source': '/content/drive/MyDrive/AIML_UT/Colab_Files/Pi5_NLP/Pi5_Proj/medical_diagnosis_manual.pdf', 'page': 4113, 'format': 'PDF 1.7', 'trapped': '', 'keywords': '', 'modDate': 'D:20250621134840Z', 'total_pages': 4114, 'author': '', 'creationdate': '2012-06-15T05:44:40+00:00', 'moddate': '2025-06-21T13:48:40+00:00', 'file_path': '/content/drive/MyDrive/AIML_UT/Colab_Files/Pi5_NLP/Pi5_Proj/medical_diagnosis_manual.pdf', 'title': 'The Merck Manual of Diagnosis & Therapy, 19th Edition'}, page_content=\"Z\\nZafirlukast 1879\\nZalcitabine 1451\\nin children 2854\\nZaleplon 1709\\nZanamivir 1407\\nin influenza 1407, 1929\\nZAP-70 (zeta-associated protein 70) deficiency 1092, 1108\\nZavanelli maneuver 2680\\nZellweger syndrome 2383, 3023\\nZenker's diverticulum 125\\nZidovudine 1451, 1453\\nin children 2854\\nZileuton 1881\\nin asthma 1880\\nZinc 49, 55, 3431-3432\\nin common cold 1405\\ndeficiency of 11, 49, 55\\nin dermatophytoses 705\\npoisoning with 3328, 3353\\nrecommended dietary allowances for 50\\nreference values for 3499\\ntoxicity of 49, 55\\ncopper deficiency and 49\\nin Wilson's disease 52\\nZinc oxide 2233\\ngelatin formulation of 646, 672\\nZinc pyrithione 647\\nZinc shakes 55\\nZipper injury 3239, 3240\\nZiprasidone\\nin agitation 1492\\nin bipolar disorder 3059\\npoisoning with 3347\\nin schizophrenia 1566\\nZoledronate 359, 361, 848\\nZollinger-Ellison syndrome 95, 199, 200-201, 910\\nmastocytosis vs 1125\\nMenetrier's disease vs 132\\npeptic ulcer disease vs 134\\nZolmitriptan 1721\\nZolpidem 1709, 3103\\nZonisamide 1701\\nZoonotic diseases, cutaneous 718\\nZoophobia 1498\\nZoster (see Herpes zoster virus infection)\\nZygomycosis 1332\\nThe Merck Manual of Diagnosis & Therapy, 19th Edition\\nZ\\n4104\\nrajesh.g86@yahoo.com\\n3LS890G5KA\\nThis file is meant for personal use by rajesh.g86@yahoo.com only.\\nSharing or publishing the contents in part or full is liable for legal action.\")]"
            ]
          },
          "metadata": {},
          "execution_count": 48
        }
      ]
    },
    {
      "cell_type": "markdown",
      "source": [
        "Observation\n",
        "- This is the final step in the RAG Data setup\n",
        "- As the name suggests that it retrieves data from the vector store\n",
        "- as k=2 we could see that the retriever brings in two relevant document output from the chunks\n",
        "- As i have used two vector store for retrieving data at time when memoery error throws and we could see the retriver1 does not output the same as retriver\n",
        "- There is a clear mismatch on how the vector store and retriever works on execution of actual data from the temporary memory than from executing it from google drive or local drive"
      ],
      "metadata": {
        "id": "R2rqrDJqQvFg"
      }
    },
    {
      "cell_type": "markdown",
      "metadata": {
        "id": "vw8qcwq66B0C",
        "nteract": {
          "transient": {
            "deleting": false
          }
        }
      },
      "source": [
        "### System and User Prompt Template"
      ]
    },
    {
      "cell_type": "code",
      "source": [
        "qna_system_message = \"\"\"\n",
        "You are a medical assistant whose work is to review the report and provide the appropriate answers from the context.\n",
        "User input will have the context required by you to answer user questions.\n",
        "This context will begin with the token: ###Context.\n",
        "The context contains references to specific portions of a document relevant to the user query.\n",
        "\n",
        "User questions will begin with the token: ###Question.\n",
        "\n",
        "Please answer only using the context provided in the input. Do not mention anything about the context in your final answer.\n",
        "\n",
        "If the answer is not found in the context, respond \"I don't know\".\n",
        "\"\"\""
      ],
      "metadata": {
        "id": "GF_4399TRW5D"
      },
      "execution_count": null,
      "outputs": []
    },
    {
      "cell_type": "code",
      "source": [
        "\n",
        "qna_user_message_template = \"\"\"\n",
        "###Context\n",
        "Here are some documents that are relevant to the question mentioned below.\n",
        "{context}\n",
        "\n",
        "###Question\n",
        "{question}\n",
        "\"\"\"\n"
      ],
      "metadata": {
        "id": "hG4jLe2gO2W2"
      },
      "execution_count": null,
      "outputs": []
    },
    {
      "cell_type": "markdown",
      "metadata": {
        "id": "TkIteX4m6mny"
      },
      "source": [
        "### Response Function"
      ]
    },
    {
      "cell_type": "code",
      "source": [
        "def generate_rag_response(user_input,k=3,max_tokens=256,temperature=0,top_p=0.95,top_k=50):\n",
        "    global qna_system_message,qna_user_message_template\n",
        "    # Retrieve relevant document chunks\n",
        "    relevant_document_chunks = retriever.get_relevant_documents(query=user_input,k=k)\n",
        "    context_list = [d.page_content for d in relevant_document_chunks]\n",
        "\n",
        "    # Combine document chunks into a single context\n",
        "    context_for_query = \". \".join(context_list)\n",
        "\n",
        "    user_message = qna_user_message_template.replace('{context}', context_for_query)\n",
        "    user_message = user_message.replace('{question}', user_input)\n",
        "\n",
        "    prompt = qna_system_message + '\\n' + user_message\n",
        "\n",
        "    # Generate the response\n",
        "    try:\n",
        "        response = llm(\n",
        "                  prompt=prompt,\n",
        "                  max_tokens=max_tokens,\n",
        "                  temperature=temperature,\n",
        "                  top_p=top_p,\n",
        "                  top_k=top_k\n",
        "                  )\n",
        "\n",
        "        # Extract and print the model's response\n",
        "        response = response['choices'][0]['text'].strip()\n",
        "    except Exception as e:\n",
        "        response = f'Sorry, I encountered the following error: \\n {e}'\n",
        "\n",
        "    return response"
      ],
      "metadata": {
        "id": "5jFvGnOJRXZx"
      },
      "execution_count": null,
      "outputs": []
    },
    {
      "cell_type": "markdown",
      "source": [
        "## Question Answering using RAG"
      ],
      "metadata": {
        "id": "ffP1SRYbPQHN"
      }
    },
    {
      "cell_type": "markdown",
      "metadata": {
        "id": "JjajBEj06B0E"
      },
      "source": [
        "### Query 1: What is the protocol for managing sepsis in a critical care unit?"
      ]
    },
    {
      "cell_type": "code",
      "source": [
        "user_input = \"What is the protocol for managing sepsis in a critical care unit?\"\n",
        "print(generate_rag_response(user_input))"
      ],
      "metadata": {
        "id": "Nlo9sMpPRbTP",
        "colab": {
          "base_uri": "https://localhost:8080/"
        },
        "outputId": "cf8efce6-0a99-44f2-fdd5-fcf1fc616706"
      },
      "execution_count": null,
      "outputs": [
        {
          "output_type": "stream",
          "name": "stdout",
          "text": [
            "Based on the context, the protocol for managing sepsis in a critical care unit includes:\n",
            "1. Prompt empiric antibiotic therapy: Start immediately after suspecting sepsis.\n",
            "2. Antibiotic selection: Based on suspected source, clinical setting, knowledge or suspicion of causative organisms and sensitivity patterns common to that specific inpatient unit, and previous culture results.\n",
            "3. Regimen for septic shock of unknown cause: Gentamicin or tobramycin 5.1 mg/kg IV once/day plus a 3rd-generation cephalosporin\n"
          ]
        }
      ]
    },
    {
      "cell_type": "markdown",
      "metadata": {
        "id": "QDw8zXuq6B0F"
      },
      "source": [
        "### Query 2: What are the common symptoms for appendicitis, and can it be cured via medicine? If not, what surgical procedure should be followed to treat it?"
      ]
    },
    {
      "cell_type": "code",
      "source": [
        "user_input = \"What are the common symptoms for appendicitis, and can it be cured via medicine? If not, what surgical procedure should be followed to treat it?\"\n",
        "print(generate_rag_response(user_input))"
      ],
      "metadata": {
        "id": "PVReF4G8RbzR",
        "colab": {
          "base_uri": "https://localhost:8080/"
        },
        "outputId": "e45f42ea-f052-44aa-f75d-a3daac6b6097"
      },
      "execution_count": null,
      "outputs": [
        {
          "output_type": "stream",
          "name": "stderr",
          "text": [
            "Llama.generate: prefix-match hit\n"
          ]
        },
        {
          "output_type": "stream",
          "name": "stdout",
          "text": [
            "Based on the context provided, the answer would be: Appendicitis is characterized by abdominal pain, anorexia, and abdominal tenderness. It cannot be cured via medicine alone; instead, surgical removal of the appendix (appendectomy) is required for treatment.\n"
          ]
        }
      ]
    },
    {
      "cell_type": "markdown",
      "metadata": {
        "id": "TggYyQPL6B0G"
      },
      "source": [
        "### Query 3: What are the effective treatments or solutions for addressing sudden patchy hair loss, commonly seen as localized bald spots on the scalp, and what could be the possible causes behind it?"
      ]
    },
    {
      "cell_type": "code",
      "source": [
        "user_input = \"What are the effective treatments or solutions for addressing sudden patchy hair loss, commonly seen as localized bald spots on the scalp, and what could be the possible causes behind it?\"\n",
        "print(generate_rag_response(user_input, max_tokens=512))"
      ],
      "metadata": {
        "id": "0aRbadGtRcX0",
        "colab": {
          "base_uri": "https://localhost:8080/"
        },
        "outputId": "ffe7965f-6e09-43f1-a556-06f270f7a998"
      },
      "execution_count": null,
      "outputs": [
        {
          "output_type": "stream",
          "name": "stderr",
          "text": [
            "Llama.generate: prefix-match hit\n"
          ]
        },
        {
          "output_type": "stream",
          "name": "stdout",
          "text": [
            "Based on the context provided, the condition being described is alopecia areata. The effective treatments for this condition include topical, intralesional, or systemic corticosteroids, topical minoxidil, topical anthralin, topical immunotherapy (diphencyprone or squaric acid dibutylester), or psoralen plus ultraviolet A (PUVA). The possible causes behind this condition are thought to be an autoimmune disorder affecting genetically susceptible people exposed to unclear environmental triggers.\n"
          ]
        }
      ]
    },
    {
      "cell_type": "markdown",
      "metadata": {
        "id": "1TgxdI-_6B0G"
      },
      "source": [
        "### Query 4:  What treatments are recommended for a person who has sustained a physical injury to brain tissue, resulting in temporary or permanent impairment of brain function?"
      ]
    },
    {
      "cell_type": "code",
      "source": [
        "user_input = \"What treatments are recommended for a person who has sustained a physical injury to brain tissue, resulting in temporary or permanent impairment of brain function?\"\n",
        "print(generate_rag_response(user_input))"
      ],
      "metadata": {
        "id": "0vzRX1TcRc29",
        "colab": {
          "base_uri": "https://localhost:8080/"
        },
        "outputId": "99e50e99-6233-480b-ef75-1e24787c1a52"
      },
      "execution_count": null,
      "outputs": [
        {
          "output_type": "stream",
          "name": "stderr",
          "text": [
            "Llama.generate: prefix-match hit\n"
          ]
        },
        {
          "output_type": "stream",
          "name": "stdout",
          "text": [
            "Based on the context provided, the following treatments are recommended for a person who has sustained a physical injury to brain tissue, resulting in temporary or permanent impairment of brain function:\n",
            "\n",
            "1. Ensuring a reliable airway and maintaining adequate ventilation, oxygenation, and blood pressure.\n",
            "2. Surgery to place monitors to track and treat intracranial pressure, decompress the brain if intracranial pressure is increased, or remove intracranial hematomas.\n",
            "3. Maintaining adequate brain perfusion and oxygenation and preventing complications of altered sensorium in the first few\n"
          ]
        }
      ]
    },
    {
      "cell_type": "markdown",
      "metadata": {
        "id": "FlHXYCkm6B0H"
      },
      "source": [
        "### Query 5: What are the necessary precautions and treatment steps for a person who has fractured their leg during a hiking trip, and what should be considered for their care and recovery?"
      ]
    },
    {
      "cell_type": "code",
      "source": [
        "user_input = \"What are the necessary precautions and treatment steps for a person who has fractured their leg during a hiking trip, and what should be considered for their care and recovery?\"\n",
        "print(generate_rag_response(user_input))"
      ],
      "metadata": {
        "id": "sarpUibcRdhq",
        "colab": {
          "base_uri": "https://localhost:8080/"
        },
        "outputId": "979c0a22-ce02-41ae-d532-b1a5e77d62d9"
      },
      "execution_count": null,
      "outputs": [
        {
          "output_type": "stream",
          "name": "stderr",
          "text": [
            "Llama.generate: prefix-match hit\n"
          ]
        },
        {
          "output_type": "stream",
          "name": "stdout",
          "text": [
            "Based on the context provided, here's the answer:\n",
            "\n",
            "The person with a fractured leg should follow these steps:\n",
            "1. Elevate the injured limb above heart level for the first 2 days to minimize swelling.\n",
            "2. Apply ice after 48 hours to relieve pain and speed healing.\n",
            "3. Immobilize the joints proximal and distal to the injury using elastic bandages, a cast, or a splint.\n",
            "   - If a cast is used, keep it dry, never put anything inside it, inspect the edges and skin around it daily\n"
          ]
        }
      ]
    },
    {
      "cell_type": "markdown",
      "source": [
        "###Observation\n",
        "- Above execution of RAG response is without fine tuning and its just basically retrieving info from the Merck Manual"
      ],
      "metadata": {
        "id": "4rbLiCjciAt3"
      }
    },
    {
      "cell_type": "markdown",
      "source": [
        "### Fine-tuning"
      ],
      "metadata": {
        "id": "K7TYrqycEITB"
      }
    },
    {
      "cell_type": "code",
      "source": [
        "user_input = \"What is the protocol for managing sepsis in a critical care unit?\"\n",
        "print(generate_rag_response(user_input, temperature=0.001, max_tokens=1024))"
      ],
      "metadata": {
        "colab": {
          "base_uri": "https://localhost:8080/"
        },
        "id": "FetHt2vQq-sI",
        "outputId": "75e4d645-2e0c-4e96-b68d-d0513f86c7ed"
      },
      "execution_count": null,
      "outputs": [
        {
          "output_type": "stream",
          "name": "stderr",
          "text": [
            "/tmp/ipython-input-22-2300735481.py:4: LangChainDeprecationWarning: The method `BaseRetriever.get_relevant_documents` was deprecated in langchain-core 0.1.46 and will be removed in 1.0. Use :meth:`~invoke` instead.\n",
            "  relevant_document_chunks = retriever.get_relevant_documents(query=user_input,k=k)\n"
          ]
        },
        {
          "output_type": "stream",
          "name": "stdout",
          "text": [
            "Based on the context, the protocol for managing sepsis in a critical care unit includes:\n",
            "1. Monitoring systemic pressure, CVP or PAOP, pulse oximetry, ABGs, blood glucose, lactate and electrolyte levels, renal function, and possibly sublingual PCO2.\n",
            "2. Measuring urine output using an indwelling catheter.\n",
            "3. Administering fluid resuscitation with 0.9% saline until CVP reaches 8 mm Hg (10 cm H2O) or PAOP reaches 12 to 15 mm Hg.\n",
            "4. Monitoring for hypotension and oliguria, which is not a contraindication to vigorous fluid resuscitation.\n",
            "5. Using PAOP or echocardiography to identify limitations in left ventricular function and incipient pulmonary edema due to fluid overload.\n",
            "6. If the patient remains hypotensive after CVP or PAOP has been raised to target levels, dopamine may be given to increase mean BP to at least 60 mm Hg. If dopamine dose exceeds 20 μg/kg/min, another vasopressor like norepinephrine may be added.\n",
            "7. Giving oxygen by mask or nasal prongs and considering tracheal intubation and mechanical ventilation for respiratory failure.\n"
          ]
        }
      ]
    },
    {
      "cell_type": "markdown",
      "source": [
        "Observation\n",
        "- Generated RAG response with temperature=0.001 and max_toekns=1024"
      ],
      "metadata": {
        "id": "dbH1awRDif_H"
      }
    },
    {
      "cell_type": "code",
      "source": [
        "user_input = \"What are the common symptoms for appendicitis, and can it be cured via medicine? If not, what surgical procedure should be followed to treat it?\"\n",
        "print(generate_rag_response(user_input, max_tokens=1024))"
      ],
      "metadata": {
        "id": "7UYBR-hcReSo",
        "colab": {
          "base_uri": "https://localhost:8080/"
        },
        "outputId": "9e6cb492-85ab-467a-f4e3-3bd9d71f5f90"
      },
      "execution_count": null,
      "outputs": [
        {
          "output_type": "stream",
          "name": "stderr",
          "text": [
            "Llama.generate: prefix-match hit\n"
          ]
        },
        {
          "output_type": "stream",
          "name": "stdout",
          "text": [
            "Based on the context, the common symptoms for appendicitis include difficulty in locating the appendix, which is usually found behind the cecum or the ileum and mesentery of the right colon. Treatment for appendicitis is open or laparoscopic appendectomy because of the risk of mortality if treatment is delayed. Antibiotics are used to treat perforated appendicitis until the patient's temperature and WBC count have normalized, or continued for a fixed course according to the surgeon's preference. If surgery is impossible, antibiotics can improve the survival rate but are not curative. Therefore, appendicitis cannot be cured via medicine alone, and surgical removal of the appendix is necessary.\n"
          ]
        }
      ]
    },
    {
      "cell_type": "markdown",
      "source": [
        "Observation\n",
        "- Though max_token is 1024 but the response is smalled and temperature is 0 and could have found the right retriver chunk"
      ],
      "metadata": {
        "id": "FHN41aqiSoGC"
      }
    },
    {
      "cell_type": "code",
      "source": [
        "user_input = \"What are the necessary precautions and treatment steps for a person who has fractured their leg during a hiking trip, and what should be considered for their care and recovery?\"\n",
        "print(generate_rag_response(user_input, temperature=0.1, max_tokens=1024))"
      ],
      "metadata": {
        "colab": {
          "base_uri": "https://localhost:8080/"
        },
        "id": "RoLRHCjgWWBt",
        "outputId": "5ad2a969-e8f3-449f-aba4-1eee1dc3a595"
      },
      "execution_count": null,
      "outputs": [
        {
          "output_type": "stream",
          "name": "stderr",
          "text": [
            "Llama.generate: prefix-match hit\n"
          ]
        },
        {
          "output_type": "stream",
          "name": "stdout",
          "text": [
            "Based on the context provided, here's the answer:\n",
            "\n",
            "The person with a fractured leg should follow these steps:\n",
            "1. Elevate the injured limb above heart level for the first 2 days to minimize swelling.\n",
            "2. Apply ice after 48 hours to relieve pain and speed healing.\n",
            "3. Immobilize the joints proximal and distal to the injury using elastic bandages, a cast, or a splint.\n",
            "4. Keep the cast dry and never put an object inside it.\n",
            "5. Inspect the cast's edges and skin around it every day for redness or soreness and apply lotion if needed.\n",
            "6. Pad any rough edges with soft material to prevent discomfort from the cast's edges.\n",
            "7. Seek medical care immediately if there is an odor coming from within the cast, a fever develops, or signs of infection appear.\n",
            "8. If possible, resume active motion within the first few days or weeks for rapidly healing injuries to minimize contractures and muscle atrophy.\n",
            "9. In case of severe swelling under a cast, it may be cut open from end to end medially and laterally (bivalved).\n",
            "10. For fractures that require prolonged immobilization, there is a risk of complications such as stiffness, contractures, and muscle atrophy.\n",
            "\n",
            "Additionally, for frostbitten extremities, they should be rewarmed rapidly in water that is tolerably warm to the touch (around 40.5°C) and kept warm afterwards. In the field, avoid using uncontrolled dry heat sources like heating pads as they may cause burns. Once in a hospital, core temperature should be stabilized, and extremities should be rapidly rewarmed in large containers of circulating water at about 40.5°C for around 15 to 30 minutes. Pain during rewarming can be managed with parenteral analgesics if needed. Patients are encouraged to move the affected part after rewarming.\n"
          ]
        }
      ]
    },
    {
      "cell_type": "markdown",
      "source": [
        "Observation\n",
        "- RAG response with temperature=0.1 and max_tokens=1024"
      ],
      "metadata": {
        "id": "ZRahyXz6jAyv"
      }
    },
    {
      "cell_type": "code",
      "source": [
        "user_input = \"What treatments are recommended for a person who has sustained a physical injury to brain tissue, resulting in temporary or permanent impairment of brain function?\"\n",
        "print(generate_rag_response(user_input, temperature=0.01, max_tokens=512, top_k=20, top_p=0.96))"
      ],
      "metadata": {
        "colab": {
          "base_uri": "https://localhost:8080/"
        },
        "id": "y-VonG9aW7Ay",
        "outputId": "cd8c9a8f-ef1f-40ae-edb8-eec87dc09d36"
      },
      "execution_count": null,
      "outputs": [
        {
          "output_type": "stream",
          "name": "stderr",
          "text": [
            "Llama.generate: prefix-match hit\n"
          ]
        },
        {
          "output_type": "stream",
          "name": "stdout",
          "text": [
            "Based on the context provided, the following treatments are recommended for a person who has sustained a physical injury to brain tissue, resulting in temporary or permanent impairment of brain function:\n",
            "\n",
            "1. Ensuring a reliable airway and maintaining adequate ventilation, oxygenation, and blood pressure.\n",
            "2. Surgery to place monitors to track and treat intracranial pressure, decompress the brain if intracranial pressure is increased, or remove intracranial hematomas.\n",
            "3. Maintaining adequate brain perfusion and oxygenation and preventing complications of altered sensorium in the first few days after the injury.\n",
            "4. Rehabilitation for many patients subsequently.\n",
            "5. Preventing systemic complications due to immobilization, providing good nutrition, and preventing pressure ulcers.\n",
            "6. Supportive care with drugs given to prevent seizures if there is significant structural injury or a Glasgow Coma Scale score of less than 10. These drugs reduce the risk of seizures during the first week after injury but do not prevent permanent posttraumatic epilepsy months or years later. They should be stopped after one week unless seizures occur. If seizures begin more than one week after head injury, long-term treatment with drugs is required.\n",
            "7. Tailoring the dose of antiepileptic drugs to the patient's tolerance and increasing the dose if seizures continue. The appropriate dose is the lowest dose that stops all seizures and has the fewest adverse effects, regardless of blood drug level. Blood drug levels are only guidelines. Once drug response is known, following the clinical course is more useful than measuring blood levels.\n",
            "8. If toxicity develops before seizures are controlled, reducing the dose to the pretoxicity dose and adding another drug at a low dose, which is gradually increased until seizures are controlled. Patients should be referred to an epilepsy center if seizures are intractable (refractory to an adequate trial of at least two drugs).\n"
          ]
        }
      ]
    },
    {
      "cell_type": "markdown",
      "source": [
        "Observation\n",
        "- RAG response with temperature of 0.01 and max_tokens of 512 and top_k=20 and top_p=0.96"
      ],
      "metadata": {
        "id": "Dsx5d8k2i2ri"
      }
    },
    {
      "cell_type": "code",
      "source": [
        "user_input = \"What are the effective treatments or solutions for addressing sudden patchy hair loss, commonly seen as localized bald spots on the scalp, and what could be the possible causes behind it?\"\n",
        "print(generate_rag_response(user_input, max_tokens=100))"
      ],
      "metadata": {
        "colab": {
          "base_uri": "https://localhost:8080/"
        },
        "id": "jc6sp7cinU7G",
        "outputId": "fb926db6-4fba-4924-b1dd-a39d5c085f89"
      },
      "execution_count": null,
      "outputs": [
        {
          "output_type": "stream",
          "name": "stderr",
          "text": [
            "Llama.generate: prefix-match hit\n"
          ]
        },
        {
          "output_type": "stream",
          "name": "stdout",
          "text": [
            "Based on the context provided, the condition being described is alopecia areata. The effective treatments for this condition include topical, intralesional, or systemic corticosteroids, topical minoxidil, topical anthralin, topical immunotherapy (diphencyprone or squaric acid dibutylester), or psoralen plus ultraviolet A (PUVA). The possible causes behind this condition are thought to\n"
          ]
        }
      ]
    },
    {
      "cell_type": "markdown",
      "source": [
        "Observation\n",
        "- Even though the max_tokens is 100 and the response is less than 100 tokens and it could be the reason that temperature is 0 and retriever has the exact chunk"
      ],
      "metadata": {
        "id": "ubUFXi-ZSPe4"
      }
    },
    {
      "cell_type": "markdown",
      "source": [
        "Observation on the total fine tuning:\n",
        "- Most of the prompts used above for fine tunning has more tokens than the question the RAG section\n",
        "- Used different parameter for the llm - top_k, top_p, temperature etc...\n",
        "- Above proves that fine-runing provides better response based on the configurations for the RAG response method parameters"
      ],
      "metadata": {
        "id": "AwsMceDyRYTx"
      }
    },
    {
      "cell_type": "markdown",
      "metadata": {
        "id": "yyQrTipNfuBN"
      },
      "source": [
        "## Output Evaluation"
      ]
    },
    {
      "cell_type": "code",
      "source": [
        "groundedness_rater_system_message  = \"\"\"\n",
        "You are tasked with rating AI generated answers to questions posed by users.\n",
        "You will be presented a question, context used by the AI system to generate the answer and an AI generated answer to the question.\n",
        "In the input, the question will begin with ###Question, the context will begin with ###Context while the AI generated answer will begin with ###Answer.\n",
        "\n",
        "Evaluation criteria:\n",
        "The task is to judge the extent to which the metric is followed by the answer.\n",
        "1 - The metric is not followed at all\n",
        "2 - The metric is followed only to a limited extent\n",
        "3 - The metric is followed to a good extent\n",
        "4 - The metric is followed mostly\n",
        "5 - The metric is followed completely\n",
        "\n",
        "Metric:\n",
        "The answer should be derived only from the information presented in the context\n",
        "\n",
        "Instructions:\n",
        "1. First write down the steps that are needed to evaluate the answer as per the metric.\n",
        "2. Give a step-by-step explanation if the answer adheres to the metric considering the question and context as the input.\n",
        "3. Next, evaluate the extent to which the metric is followed.\n",
        "4. Use the previous information to rate the answer using the evaluaton criteria and assign a score.\n",
        "\"\"\""
      ],
      "metadata": {
        "id": "IHbfLAxAGdhW"
      },
      "execution_count": null,
      "outputs": []
    },
    {
      "cell_type": "code",
      "source": [
        "relevance_rater_system_message = \"\"\"\n",
        "You are tasked with rating AI generated answers to questions posed by users.\n",
        "You will be presented a question, context used by the AI system to generate the answer and an AI generated answer to the question.\n",
        "In the input, the question will begin with ###Question, the context will begin with ###Context while the AI generated answer will begin with ###Answer.\n",
        "\n",
        "Evaluation criteria:\n",
        "The task is to judge the extent to which the metric is followed by the answer.\n",
        "1 - The metric is not followed at all\n",
        "2 - The metric is followed only to a limited extent\n",
        "3 - The metric is followed to a good extent\n",
        "4 - The metric is followed mostly\n",
        "5 - The metric is followed completely\n",
        "\n",
        "Metric:\n",
        "Relevance measures how well the answer addresses the main aspects of the question, based on the context.\n",
        "Consider whether all and only the important aspects are contained in the answer when evaluating relevance.\n",
        "\n",
        "Instructions:\n",
        "1. First write down the steps that are needed to evaluate the context as per the metric.\n",
        "2. Give a step-by-step explanation if the context adheres to the metric considering the question as the input.\n",
        "3. Next, evaluate the extent to which the metric is followed.\n",
        "4. Use the previous information to rate the context using the evaluaton criteria and assign a score.\n",
        "\"\"\"\n"
      ],
      "metadata": {
        "id": "159OZZa0Rinv"
      },
      "execution_count": null,
      "outputs": []
    },
    {
      "cell_type": "code",
      "source": [
        "\n",
        "user_message_template = \"\"\"\n",
        "###Question\n",
        "{question}\n",
        "\n",
        "###Context\n",
        "{context}\n",
        "\n",
        "###Answer\n",
        "{answer}\n",
        "\"\"\""
      ],
      "metadata": {
        "id": "RLqiSn-iRwSl"
      },
      "execution_count": null,
      "outputs": []
    },
    {
      "cell_type": "code",
      "source": [
        "def generate_ground_relevance_response(user_input,k=3,max_tokens=512,temperature=0,top_p=0.95,top_k=50):\n",
        "    global qna_system_message,qna_user_message_template\n",
        "    # Retrieve relevant document chunks\n",
        "    relevant_document_chunks = retriever.get_relevant_documents(query=user_input,k=3)\n",
        "    context_list = [d.page_content for d in relevant_document_chunks]\n",
        "    context_for_query = \". \".join(context_list)\n",
        "    try:\n",
        "      # Combine user_prompt and system_message to create the prompt\n",
        "      prompt = f\"\"\"[INST]{qna_system_message}\\n\n",
        "                  {'user'}: {qna_user_message_template.format(context=context_for_query, question=user_input)}\n",
        "                  [/INST]\"\"\"\n",
        "\n",
        "      response = llm(\n",
        "              prompt=prompt,\n",
        "              max_tokens=max_tokens,\n",
        "              temperature=temperature,\n",
        "              top_p=top_p,\n",
        "              top_k=top_k,\n",
        "              stop=['INST'],\n",
        "              echo=False\n",
        "              )\n",
        "\n",
        "      answer =  response[\"choices\"][0][\"text\"]\n",
        "\n",
        "      # Combine user_prompt and system_message to create the prompt\n",
        "      groundedness_prompt = f\"\"\"[INST]{groundedness_rater_system_message}\\n\n",
        "                  {'user'}: {user_message_template.format(context=context_for_query, question=user_input, answer=answer)}\n",
        "                  [/INST]\"\"\"\n",
        "\n",
        "      # Combine user_prompt and system_message to create the prompt\n",
        "      relevance_prompt = f\"\"\"[INST]{relevance_rater_system_message}\\n\n",
        "                  {'user'}: {user_message_template.format(context=context_for_query, question=user_input, answer=answer)}\n",
        "                  [/INST]\"\"\"\n",
        "\n",
        "      response_1 = llm(\n",
        "              prompt=groundedness_prompt,\n",
        "              max_tokens=max_tokens,\n",
        "              temperature=temperature,\n",
        "              top_p=top_p,\n",
        "              top_k=top_k,\n",
        "              stop=['INST'],\n",
        "              echo=False\n",
        "              )\n",
        "\n",
        "      response_2 = llm(\n",
        "              prompt=relevance_prompt,\n",
        "              max_tokens=max_tokens,\n",
        "              temperature=temperature,\n",
        "              top_p=top_p,\n",
        "              top_k=top_k,\n",
        "              stop=['INST'],\n",
        "              echo=False\n",
        "              )\n",
        "    except Exception as e:\n",
        "      print(f\"An error occurred during LangChain LLM invocation: {e}\")\n",
        "      return f'Sorry, I encountered the following error: \\n {e}'\n",
        "\n",
        "    return response_1['choices'][0]['text'],response_2['choices'][0]['text']"
      ],
      "metadata": {
        "id": "XIbZybyuRi2p"
      },
      "execution_count": null,
      "outputs": []
    },
    {
      "cell_type": "code",
      "source": [
        "user_input = \"What is the protocol for managing sepsis in a critical care unit?\"\n",
        "ground,rel = generate_ground_relevance_response(user_input, max_tokens=1024)\n",
        "\n",
        "print(ground,end=\"\\n\\n\")\n",
        "print(rel)"
      ],
      "metadata": {
        "colab": {
          "base_uri": "https://localhost:8080/"
        },
        "id": "_1IXRCLzohpf",
        "outputId": "055b4569-419c-4c15-eefd-3b7b8d5e69ec"
      },
      "execution_count": null,
      "outputs": [
        {
          "output_type": "stream",
          "name": "stderr",
          "text": [
            "Llama.generate: prefix-match hit\n",
            "Llama.generate: prefix-match hit\n"
          ]
        },
        {
          "output_type": "stream",
          "name": "stdout",
          "text": [
            " To evaluate the answer as per the metric that the answer should be derived only from the information presented in the context, here are the steps:\n",
            "\n",
            "1. Read the question and understand its meaning: The question is asking about the protocol for managing sepsis in a critical care unit.\n",
            "2. Read and comprehend the context: The context provides details about how to manage septic shock patients in an ICU, including monitoring parameters, fluid resuscitation, medication use, and oxygen administration.\n",
            "3. Identify the key information from the context: The context mentions that patients with septic shock should be treated in an ICU, and several monitoring parameters (systemic pressure, CVP or PAOP, pulse oximetry, ABGs, blood glucose, lactate and electrolyte levels, renal function, sublingual PCO2, and urine output) should be monitored frequently. Fluid resuscitation with 0.9% saline is recommended until CVP reaches 8 mm Hg or PAOP reaches 12 to 15 mm Hg. If a patient remains hypotensive after target levels are met, dopamine may be used to increase mean BP to at least 60 mm Hg, and another vasopressor like norepinephrine can be added if necessary. Oxygen is given by mask or nasal prongs, and tracheal intubation and mechanical ventilation may be needed for respiratory failure.\n",
            "4. Check if the answer is\n",
            "\n",
            " To evaluate the context as per the relevance metric, the following steps are necessary:\n",
            "\n",
            "1. Identify the main aspects of the question: In this case, the question is asking about the protocol for managing sepsis in a critical care unit. The main aspects include recognizing that sepsis should be treated in a critical care unit and outlining the monitoring and treatment strategies.\n",
            "\n",
            "2. Extract relevant information from the context: The context provides detailed information on various aspects of sepsis management, including monitoring parameters (systemic pressure, CVP/PAOP, pulse oximetry, ABGs, blood glucose, lactate and electrolyte levels, renal function, sublingual PCO2, and urine output) and fluid resuscitation strategies (fluid resuscitation with 0.9% saline until CVP or PAOP reaches target levels, and the use of dopamine and norepinephrine as vasopressors).\n",
            "\n",
            "3. Assess how well the answer covers the main aspects: The AI-generated answer accurately addresses all the main aspects mentioned above, including monitoring strategies (systemic pressure, CVP/PAOP, pulse oximetry, ABGs, blood glucose, lactate and electrolyte levels, renal function, sublingual PCO2, and urine output) and treatment strategies (fluid\n"
          ]
        }
      ]
    },
    {
      "cell_type": "markdown",
      "source": [
        "Observation\n",
        "- Retrived RAG response based on the given prompt along with Metric"
      ],
      "metadata": {
        "id": "lUen6kZnj0f_"
      }
    },
    {
      "cell_type": "code",
      "source": [
        "user_input = \"What are the common symptoms for appendicitis, and can it be cured via medicine? If not, what surgical procedure should be followed to treat it?\"\n",
        "ground,rel = generate_ground_relevance_response(user_input,max_tokens=1024, temperature=0.1)\n",
        "\n",
        "print(ground,end=\"\\n\\n\")\n",
        "print(rel)"
      ],
      "metadata": {
        "colab": {
          "base_uri": "https://localhost:8080/"
        },
        "id": "U2rBDXX1pgj9",
        "outputId": "67885c6d-7f4a-4fbc-b4ba-480dfd1e9b69"
      },
      "execution_count": null,
      "outputs": [
        {
          "output_type": "stream",
          "name": "stderr",
          "text": [
            "Llama.generate: prefix-match hit\n",
            "Llama.generate: prefix-match hit\n",
            "Llama.generate: prefix-match hit\n"
          ]
        },
        {
          "output_type": "stream",
          "name": "stdout",
          "text": [
            " Steps to evaluate the answer:\n",
            "1. Identify the information in the context related to appendicitis and its symptoms.\n",
            "2. Determine if the AI generated answer includes only the information from the context.\n",
            "3. Evaluate the extent to which the metric is followed.\n",
            "\n",
            "The AI generated answer \"The common symptoms for appendicitis include abdominal pain, anorexia, and abdominal tenderness. Appendicitis cannot be cured via medicine alone; the standard treatment is surgical removal of the appendix through open or laparoscopic appendectomy.\" adheres to the metric as it only includes information derived from the context.\n",
            "\n",
            "Therefore, the extent to which the metric is followed is 5 - The metric is followed completely.\n",
            "\n",
            "Based on the evaluation criteria and the extent to which the metric is followed, I would rate the answer a 5.\n",
            "\n",
            " Steps to evaluate the context as per the relevance metric:\n",
            "1. Identify the main aspects of the question: common symptoms for appendicitis and whether it can be cured via medicine.\n",
            "2. Determine if all important aspects are contained in the context: The context mentions the common symptoms for appendicitis (abdominal pain, anorexia, and abdominal tenderness) and states that appendicitis cannot be cured via medicine alone. It also provides information about the standard treatment for appendicitis, which is surgical removal of the appendix through open or laparoscopic appendectomy.\n",
            "3. Evaluate if only irrelevant aspects are missing: The context does not mention any irrelevant aspects that detract from answering the question.\n",
            "\n",
            "The context adheres to the relevance metric as it addresses all important aspects of the question and does not contain any irrelevant information.\n",
            "\n",
            "Evaluation of the extent to which the metric is followed:\n",
            "The context follows the relevance metric mostly as it contains all essential information related to the common symptoms for appendicitis and the inability to cure it via medicine, along with the standard treatment.\n",
            "\n",
            "Rating the context using the evaluation criteria:\n",
            "Based on the above analysis, I would rate the context a 4 (The metric is followed mostly).\n"
          ]
        }
      ]
    },
    {
      "cell_type": "markdown",
      "source": [
        "Observation\n",
        "- Got a perfect score on groundedness but 4 on a relevance score\n",
        "- Both retrievel and augmentation are good"
      ],
      "metadata": {
        "id": "eX0XQN9cj9qZ"
      }
    },
    {
      "cell_type": "code",
      "source": [
        "user_input = \"What are the effective treatments or solutions for addressing sudden patchy hair loss, commonly seen as localized bald spots on the scalp, and what could be the possible causes behind it?\"\n",
        "ground,rel = generate_ground_relevance_response(user_input,max_tokens=512, temperature=0.01, top_k=20)\n",
        "\n",
        "print(ground,end=\"\\n\\n\")\n",
        "print(rel)"
      ],
      "metadata": {
        "colab": {
          "base_uri": "https://localhost:8080/"
        },
        "id": "LUZ6LLOXp9hX",
        "outputId": "36fe396e-ab81-4e03-b578-1252f93770e4"
      },
      "execution_count": null,
      "outputs": [
        {
          "output_type": "stream",
          "name": "stderr",
          "text": [
            "Llama.generate: prefix-match hit\n",
            "Llama.generate: prefix-match hit\n",
            "Llama.generate: prefix-match hit\n"
          ]
        },
        {
          "output_type": "stream",
          "name": "stdout",
          "text": [
            " Steps to evaluate the answer:\n",
            "1. Identify the information in the context related to effective treatments or solutions for sudden patchy hair loss.\n",
            "2. Check if the AI generated answer includes only the information from the context and not any additional or incorrect information.\n",
            "3. Verify that the possible causes mentioned in the answer are also present in the context.\n",
            "\n",
            "Explanation:\n",
            "The AI generated answer adheres to the metric as it is derived solely from the information presented in the context. The answer includes all the effective treatments for sudden patchy hair loss mentioned in the context, and also mentions the possible causes of this condition which are also stated in the context.\n",
            "\n",
            "Evaluation:\n",
            "The metric is followed completely.\n",
            "\n",
            "Rating:\n",
            "Based on the evaluation criteria, I would rate the answer as a 5. The metric was followed completely as all the information in the answer was derived directly from the context and no additional or incorrect information was included.\n",
            "\n",
            " Steps to evaluate the context as per the relevance metric:\n",
            "1. Identify the main aspects of the question: effective treatments or solutions for addressing sudden patchy hair loss and possible causes behind it.\n",
            "2. Determine if the context provides information on the mentioned aspects.\n",
            "3. Check if all important aspects are contained in the context and if any irrelevant information is present.\n",
            "\n",
            "The context adheres to the metric considering the question as the input because:\n",
            "1. The context mentions various treatments for sudden patchy hair loss, including topical, intralesional, or systemic corticosteroids, topical minoxidil, topical anthralin, topical immunotherapy (diphencyprone or squaric acid dibutylester), and psoralen plus ultraviolet A (PUVA).\n",
            "2. The context also mentions possible causes of sudden patchy hair loss, such as alopecia areata, fungal infections, bacterial infections, trichotillomania, and scarring alopecia\n"
          ]
        }
      ]
    },
    {
      "cell_type": "markdown",
      "source": [
        "Observation\n",
        "- Got a perfect score of 5\n",
        "- RAG response with Prompt engineering is proving once again on the ask\n",
        "  - Steps\n",
        "  - Evaluvation\n",
        "  - Rating\n",
        "  - Groundedness\n",
        "  - Relevance\n",
        "- But the relevance response infers the reason for the point and no rating and it could be due to ambiguity due to contexts"
      ],
      "metadata": {
        "id": "UuWq7cUrkWMF"
      }
    },
    {
      "cell_type": "code",
      "source": [
        "user_input = \"What treatments are recommended for a person who has sustained a physical injury to brain tissue, resulting in temporary or permanent impairment of brain function?\"\n",
        "ground,rel = generate_ground_relevance_response(user_input,max_tokens=350, top_k=70)\n",
        "\n",
        "print(ground,end=\"\\n\\n\")\n",
        "print(rel)"
      ],
      "metadata": {
        "colab": {
          "base_uri": "https://localhost:8080/"
        },
        "id": "mLL6FljDqvZi",
        "outputId": "67fdc1fd-cbae-4609-94b0-bba9428c6592"
      },
      "execution_count": null,
      "outputs": [
        {
          "output_type": "stream",
          "name": "stderr",
          "text": [
            "Llama.generate: prefix-match hit\n",
            "Llama.generate: prefix-match hit\n",
            "Llama.generate: prefix-match hit\n"
          ]
        },
        {
          "output_type": "stream",
          "name": "stdout",
          "text": [
            " Steps to evaluate the answer:\n",
            "1. Identify the information in the context related to treatments for traumatic brain injury (TBI).\n",
            "2. Compare the AI generated answer with the identified information from the context.\n",
            "3. Determine if the answer is derived only from the information presented in the context.\n",
            "\n",
            "Explanation:\n",
            "The AI generated answer mentions several treatments for TBI, including ensuring a reliable airway and maintaining adequate ventilation, oxygenation, and blood pressure, surgery for patients with more severe injuries, rehabilitation, preventing systemic complications due to immobilization, providing good nutrition, preventing pressure ulcers, and drugs to prevent seizures for those with significant structural injury or a Glasgow Coma Scale score of less than 10.\n",
            "\n",
            "The context provides information on the initial treatment for TBI, which includes ensuring a reliable airway and maintaining adequate ventilation, oxygenation, and blood pressure. It also mentions surgery for patients with more severe injuries to place monitors or decompress the brain if intracranial pressure is increased. In the first few days after the injury, maintaining adequate brain perfusion and oxygenation and preventing complications are important. Subsequently, many patients require rehabilitation. The context does not mention specific drugs for preventing seizures or providing nutrition and preventing pressure ulcers.\n",
            "\n",
            "The AI generated answer goes beyond the information presented in the context by including details on long-term treatment with drugs to prevent seizures and providing good nutrition and preventing pressure ulcers. However, the answer is still derived from\n",
            "\n",
            " Steps to evaluate context as per relevance metric:\n",
            "1. Identify the main aspects of the question: treatments for a person with brain injury.\n",
            "2. Determine if the context discusses these aspects in detail.\n",
            "3. Check if all important aspects are covered and only relevant information is included.\n",
            "\n",
            "The context adheres to the relevance metric considering the question as follows:\n",
            "1. The context mentions treatments for a person with brain injury, specifically discussing supportive care, surgery, and rehabilitation.\n",
            "2. It provides detailed information about each treatment, including why they are necessary and what they involve.\n",
            "3. The context does not include irrelevant information, focusing solely on the aspects related to treating brain injuries.\n",
            "\n",
            "The metric is followed mostly as the context covers all important aspects of the question in detail and only includes relevant information.\n",
            "\n",
            "Rating: 4 (The metric is followed mostly)\n"
          ]
        }
      ]
    },
    {
      "cell_type": "markdown",
      "source": [
        "Observation\n",
        "- Relevance score at 4 but some details are missing from groundedness response and it is unclear and could be due to max-tokens size that determines the response\n",
        "- Need to be careful in fine tuning the configurations for the llm RAG response"
      ],
      "metadata": {
        "id": "Fd0U-PawlSdw"
      }
    },
    {
      "cell_type": "code",
      "source": [
        "user_input = \"What are the necessary precautions and treatment steps for a person who has fractured their leg during a hiking trip, and what should be considered for their care and recovery?\"\n",
        "ground,rel = generate_ground_relevance_response(user_input,max_tokens=512)\n",
        "\n",
        "print(ground,end=\"\\n\\n\")\n",
        "print(rel)"
      ],
      "metadata": {
        "colab": {
          "base_uri": "https://localhost:8080/"
        },
        "id": "PUAe3oGmrOz5",
        "outputId": "045fb67f-69f5-4ce7-8e61-6a20e7780414"
      },
      "execution_count": null,
      "outputs": [
        {
          "output_type": "stream",
          "name": "stderr",
          "text": [
            "Llama.generate: prefix-match hit\n",
            "Llama.generate: prefix-match hit\n",
            "Llama.generate: prefix-match hit\n"
          ]
        },
        {
          "output_type": "stream",
          "name": "stdout",
          "text": [
            " To evaluate the answer as per the metric, the following steps are needed:\n",
            "1. Identify the information related to necessary precautions and treatment steps for a person who has fractured their leg from both the question and context.\n",
            "2. Determine if the answer is derived only from the information presented in the context.\n",
            "\n",
            "The answer adheres to the metric as it mentions the necessary precautions and treatment steps (sterile wound dressings, tetanus prophylaxis, and broad-spectrum antibiotics) directly from the context. Therefore, the answer is derived only from the information presented in the context.\n",
            "\n",
            "Based on the evaluation criteria:\n",
            "1 - The metric is not followed at all: 1\n",
            "2 - The metric is followed only to a limited extent: 2\n",
            "3 - The metric is followed to a good extent: 3\n",
            "4 - The metric is followed mostly: 4\n",
            "5 - The metric is followed completely: 5\n",
            "\n",
            "Since the answer follows the metric completely, it would receive a score of 5.\n",
            "\n",
            " To evaluate the context as per the relevance metric, the following steps are needed:\n",
            "\n",
            "1. Identify the key aspects of the question: In this case, the question asks about the necessary precautions and treatment steps for a person who has fractured their leg during a hiking trip, and what should be considered for their care and recovery.\n",
            "2. Determine if the context addresses these aspects: The context mentions sterile wound dressings, tetanus prophylaxis, and broad-spectrum antibiotics as necessary precautions and treatment steps for a suspected open fracture of a leg. These are directly related to the question, making the context relevant.\n",
            "3. Evaluate the extent to which the metric is followed: The context follows the metric to a good extent by providing specific details about the necessary precautions and treatment steps for a suspected open fracture of a leg, addressing all important aspects mentioned in the question.\n",
            "\n",
            "Based on this evaluation, I would rate the context as following the metric mostly (4). This answer is relevant because it directly addresses the main aspects of the question from the context provided.\n"
          ]
        }
      ]
    },
    {
      "cell_type": "markdown",
      "source": [
        "Observation\n",
        "- Again the Groundedness reveives a score of 5\n",
        "- Relevance is at r as the response predicts the relevance is directly addresses the main aspect of the question"
      ],
      "metadata": {
        "id": "buIcepFnjsaP"
      }
    },
    {
      "cell_type": "markdown",
      "source": [
        "###Additional LLM Engineering\n",
        "- This is mostly done for comparision of differnt prompt engineering models and its rating system\n",
        "- Used a different prompting solution\n",
        "- This below additional prompt engineering also answers the groundedness and relevance to the same set of 5 questions asked in the previous section"
      ],
      "metadata": {
        "id": "68jAX40-rrsn"
      }
    },
    {
      "cell_type": "code",
      "source": [
        "mod_groundedness_relevance_rater_system_message  = \"\"\"\n",
        "Review the provided AI generated answer to the user's question based on the provided context from the medical manual.\n",
        "In the input, the question will begin with ###Question, the context will begin with ###Context while the AI generated answer will begin with ###Answer.\n",
        "\n",
        "Groundedness evaluaton:\n",
        "5 - Perfectly Grounded: The information is explicitly stated and verifiable within the provided source text.\n",
        "4 - Well Grounded: The information is strongly supported by the provided source text, although not explicitly stated word-for-word.\n",
        "3 - Partially Grounded: Some claims within the information are grounded in the source, but others are not verifiable or lack sufficient support.\n",
        "2 - Weakly Grounded: The information has weak support from the source, and the connection is difficult to verify.\n",
        "1 - Ungrounded: The information is not supported or verifiable by the provided source text.\n",
        "\n",
        "Groundedness:\n",
        "The answer should be derived only from the information presented in the context\n",
        "\n",
        "Instructions:\n",
        "1. Answer/Claim: The specific piece of information being evaluated.\n",
        "2. Groundedness Rating: The assigned groundedness score (1-5).\n",
        "3. Page(s) Found: The page number(s) within the medical manual where the information is located or supported.\n",
        "\"\"\""
      ],
      "metadata": {
        "id": "P4x6xbZ_GhIS"
      },
      "execution_count": null,
      "outputs": []
    },
    {
      "cell_type": "code",
      "source": [
        "mod_relevance_rater_system_message = \"\"\"\n",
        "You are tasked with rating AI generated answers to questions posed by users.\n",
        "You will be presented a question, context used by the AI system to generate the answer and an AI generated answer to the question.\n",
        "In the input, the question will begin with ###Question, the context will begin with ###Context while the AI generated answer will begin with ###Answer.\n",
        "\n",
        "Relevance evaluaton:\n",
        "5 - Highly Relevant: The information is directly related to the main topic and essential for understanding the context.\n",
        "4 - Relevant: The information is related to the topic and adds valuable detail or insight.\n",
        "3 - Moderately Relevant: The information is loosely related to the topic, but not essential for understanding.\n",
        "2 - Minimally Relevant: The information is barely related and could potentially distract from the main topic.\n",
        "1 - Irrelevant: The information is not related to the main topic.\n",
        "\n",
        "Relevance:\n",
        "Relevance measures how well the answer addresses the main aspects of the question, based on the context.\n",
        "Consider whether all and only the important aspects are contained in the answer when evaluating relevance.\n",
        "\n",
        "Instructions:\n",
        "1. Answer/Claim: The specific piece of information being evaluated for Relevance.\n",
        "2. Relevance Rating: The assigned relevance score (1-5).\n",
        "3. Page(s) Found: The page number(s) within the medical manual where the information is located or supported.\n",
        "\"\"\"\n"
      ],
      "metadata": {
        "id": "9ztuwfgjPq4t"
      },
      "execution_count": null,
      "outputs": []
    },
    {
      "cell_type": "code",
      "source": [
        "\n",
        "user_message_template = \"\"\"\n",
        "###Question\n",
        "{question}\n",
        "\n",
        "###Context\n",
        "{context}\n",
        "\n",
        "###Answer\n",
        "{answer}\n",
        "\"\"\""
      ],
      "metadata": {
        "id": "FsomS2PSGp2c"
      },
      "execution_count": null,
      "outputs": []
    },
    {
      "cell_type": "code",
      "source": [
        "import re\n",
        "\n",
        "def generate_prompt_rating_response(user_input,k=3,max_tokens=512,temperature=0,top_p=0.95,top_k=50):\n",
        "    global qna_system_message,qna_user_message_template, mod_groundedness_relevance_rater_system_message, user_message_template, mod_relevance_rater_system_message\n",
        "    # Retrieve relevant document chunks\n",
        "    relevant_document_chunks = retriever.get_relevant_documents(query=user_input,k=3)\n",
        "    context_list = [d.page_content for d in relevant_document_chunks]\n",
        "    context_for_query = \". \".join(context_list)\n",
        "\n",
        "    answer = \"\"\n",
        "    evaluation_output = \"\"\n",
        "\n",
        "    try:\n",
        "      # First, generate the RAG response\n",
        "      prompt = f\"\"\"[INST]{qna_system_message}\\n\n",
        "                  {'user'}: {qna_user_message_template.format(context=context_for_query, question=user_input)}\n",
        "                  [/INST]\"\"\"\n",
        "\n",
        "      response = llm(\n",
        "              prompt=prompt,\n",
        "              max_tokens=max_tokens,\n",
        "              temperature=temperature,\n",
        "              top_p=top_p,\n",
        "              top_k=top_k,\n",
        "              stop=['INST'],\n",
        "              echo=False\n",
        "              )\n",
        "\n",
        "      answer =  response[\"choices\"][0][\"text\"].strip()\n",
        "\n",
        "      # Combine user_prompt and system_message to create the prompt\n",
        "      groundedness_prompt = f\"\"\"[INST]{mod_groundedness_relevance_rater_system_message}\\n\n",
        "                  {'user'}: {user_message_template.format(context=context_for_query, question=user_input, answer=answer)}\n",
        "                  [/INST]\"\"\"\n",
        "\n",
        "      # Combine user_prompt and system_message to create the prompt\n",
        "      relevance_prompt = f\"\"\"[INST]{mod_relevance_rater_system_message}\\n\n",
        "                  {'user'}: {user_message_template.format(context=context_for_query, question=user_input, answer=answer)}\n",
        "                  [/INST]\"\"\"\n",
        "\n",
        "      response_1 = llm(\n",
        "              prompt=groundedness_prompt,\n",
        "              max_tokens=max_tokens,\n",
        "              temperature=temperature,\n",
        "              top_p=top_p,\n",
        "              top_k=top_k,\n",
        "              stop=['INST'],\n",
        "              echo=False\n",
        "              )\n",
        "\n",
        "      response_2 = llm(\n",
        "              prompt=relevance_prompt,\n",
        "              max_tokens=max_tokens,\n",
        "              temperature=temperature,\n",
        "              top_p=top_p,\n",
        "              top_k=top_k,\n",
        "              stop=['INST'],\n",
        "              echo=False\n",
        "              )\n",
        "\n",
        "    except Exception as e:\n",
        "      print(f\"An error occurred during LLM invocation or parsing: {e}\")\n",
        "      return f'Sorry, I encountered the following error: \\n {e}', '', -1, -1 # Return error message and default ratings\n",
        "\n",
        "    return response_1['choices'][0]['text'],response_2['choices'][0]['text']"
      ],
      "metadata": {
        "id": "_-K3p7AlGpzp"
      },
      "execution_count": null,
      "outputs": []
    },
    {
      "cell_type": "code",
      "source": [
        "user_input = \"What is the protocol for managing sepsis in a critical care unit?\"\n",
        "grounded_rate, relevance_rate = generate_prompt_rating_response(user_input, max_tokens=1024)\n",
        "\n",
        "print(grounded_rate,end=\"\\n\\n\")\n",
        "print(relevance_rate)"
      ],
      "metadata": {
        "colab": {
          "base_uri": "https://localhost:8080/"
        },
        "id": "-FZ-X4E5Gpw6",
        "outputId": "2a292ec8-c8eb-498e-b744-317f58bee4cd"
      },
      "execution_count": null,
      "outputs": [
        {
          "output_type": "stream",
          "name": "stderr",
          "text": [
            "Llama.generate: prefix-match hit\n",
            "Llama.generate: prefix-match hit\n",
            "Llama.generate: prefix-match hit\n"
          ]
        },
        {
          "output_type": "stream",
          "name": "stdout",
          "text": [
            " Answer/Claim: The protocol for managing sepsis in a critical care unit.\n",
            "\n",
            "Groundedness Rating: 5 - Perfectly Grounded: The information is explicitly stated and verifiable within the provided source text.\n",
            "\n",
            "Page(s) Found: The information can be found on pages 2446-2447 of \"The Merck Manual of Diagnosis & Therapy, 19th Edition.\"\n",
            "\n",
            " Relevance Rating: 5 - The AI generated answer directly addresses the main aspects of managing sepsis in a critical care unit as outlined in the context, including monitoring parameters, fluid resuscitation, use of vasopressors, and oxygen therapy. All important aspects are contained in the answer.\n",
            "Answer/Claim: Patients with septic shock should be treated in a critical care unit. Monitoring frequently includes systemic pressure, CVP or PAOP, pulse oximetry, ABGs, blood glucose, lactate and electrolyte levels, renal function, sublingual PCO2, and urine output. Fluid resuscitation with 0.9% saline is given until CVP reaches 8 mm Hg or PAOP reaches 12 to 15 mm Hg. Oliguria with hypotension does not contraindicate vigorous fluid resuscitation. If a patient remains hypotensive after target levels are reached, dopamine may be used to increase mean BP to at least 60 mm Hg. If dopamine dose exceed\n"
          ]
        }
      ]
    },
    {
      "cell_type": "markdown",
      "source": [
        "Observation\n",
        "- Grounded and Relevance are at 5\n",
        "- Though this prompt didn't add much Answer or step by step evaluvation to the questions\n",
        "- This includes the pages where to find the answers to the questions (cheatsheet for students)"
      ],
      "metadata": {
        "id": "IDnTtTOhmZng"
      }
    },
    {
      "cell_type": "code",
      "source": [
        "user_input = \"What are the common symptoms for appendicitis, and can it be cured via medicine? If not, what surgical procedure should be followed to treat it?\"\n",
        "grounded_rate, relevance_rate = generate_prompt_rating_response(user_input,max_tokens=1024, temperature=0.1)\n",
        "\n",
        "print(grounded_rate,end=\"\\n\\n\")\n",
        "print(relevance_rate)"
      ],
      "metadata": {
        "colab": {
          "base_uri": "https://localhost:8080/"
        },
        "id": "orZnpf-nSsYH",
        "outputId": "ffd99f94-5588-47c5-b0d9-b134f910eac2"
      },
      "execution_count": null,
      "outputs": [
        {
          "output_type": "stream",
          "name": "stderr",
          "text": [
            "Llama.generate: prefix-match hit\n",
            "Llama.generate: prefix-match hit\n",
            "Llama.generate: prefix-match hit\n"
          ]
        },
        {
          "output_type": "stream",
          "name": "stdout",
          "text": [
            " Answer/Claim: The symptoms of appendicitis include abdominal pain, loss of appetite, nausea, and vomiting, which are typically localized in the lower right quadrant of the abdomen. Appendicitis cannot be cured via medicine alone and requires surgical intervention for treatment.\n",
            "\n",
            "Groundedness Rating: 5 - Perfectly Grounded: The information is explicitly stated within the provided source text.\n",
            "\n",
            "Page(s) Found: Multiple pages throughout the context, including mentions of symptoms (e.g., \"The pain is typically localized in the lower right quadrant of the abdomen\") and treatment methods (e.g., \"Treatment of acute appendicitis is open or laparoscopic appendectomy\").\n",
            "\n",
            " ###Answer\n",
            "The common symptoms for appendicitis include abdominal pain, loss of appetite, nausea, and vomiting, with the pain typically localized in the lower right quadrant of the abdomen. Appendicitis cannot be cured via medicine alone and requires surgical intervention. The standard treatment is an appendectomy, which can be performed either through open surgery or laparoscopically to remove the inflamed appendix.\n",
            "\n",
            "###Relevance Rating:\n",
            "5 - Highly Relevant: The answer directly addresses the main aspects of the question by providing a clear explanation of the common symptoms for appendicitis and confirming that medicine alone cannot cure it, requiring surgical intervention through an appendectomy.\n"
          ]
        }
      ]
    },
    {
      "cell_type": "markdown",
      "source": [
        "Observation\n",
        "- Grounded and Relevance are at 5\n",
        "- Though this prompt didn't add much Answer/claim or step by step evaluvation to the questions\n",
        "- This includes the pages where to find the answers to the questions (cheatsheet for students)"
      ],
      "metadata": {
        "id": "VlqLCgEym8tG"
      }
    },
    {
      "cell_type": "code",
      "source": [
        "user_input = \"What are the effective treatments or solutions for addressing sudden patchy hair loss, commonly seen as localized bald spots on the scalp, and what could be the possible causes behind it?\"\n",
        "grounded_rate, relevance_rate  = generate_prompt_rating_response(user_input,max_tokens=512, temperature=0.01, top_k=20)\n",
        "print(grounded_rate,end=\"\\n\\n\")\n",
        "print(relevance_rate)"
      ],
      "metadata": {
        "colab": {
          "base_uri": "https://localhost:8080/"
        },
        "id": "PX8RzuqxGpuB",
        "outputId": "cdd87d58-ea2a-428d-d138-71a310f28c85"
      },
      "execution_count": null,
      "outputs": [
        {
          "output_type": "stream",
          "name": "stderr",
          "text": [
            "Llama.generate: prefix-match hit\n",
            "Llama.generate: prefix-match hit\n",
            "Llama.generate: prefix-match hit\n"
          ]
        },
        {
          "output_type": "stream",
          "name": "stdout",
          "text": [
            " Answer/Claim: The effective treatments or solutions for addressing sudden patchy hair loss, also known as alopecia areata, and the possible causes behind it.\n",
            "\n",
            "Groundedness Rating: 5 - Perfectly Grounded: The information is explicitly stated in the provided source text that topical corticosteroids, oral antimalarials, corticosteroids, retinoids, or immunosuppressants can be used to treat alopecia areata. The cause of alopecia areata is also mentioned as an autoimmune disorder affecting genetically susceptible people exposed to unclear environmental triggers.\n",
            "\n",
            "Page(s) Found: The information provided in the context is directly from the medical manual, specifically mentioning the treatments and causes of alopecia areata on pages 849-850.\n",
            "\n",
            " Relevance Rating: 5 - Highly Relevant\n",
            "\n",
            "Answer/Claim: The effective treatments or solutions for addressing sudden patchy hair loss, also known as alopecia areata, and possible causes.\n",
            "\n",
            "The answer directly addresses the main aspects of the question by providing information on both the causes and treatments for sudden patchy hair loss, specifically alopecia areata. It accurately summarizes the context provided, which mentions various treatment options such as topical corticosteroids, oral antimalarials, corticosteroids, retinoids, or immunosuppressants, and explains that it is an autoimmune disorder affecting genetically susceptible people exposed to unclear environmental triggers. The answer also correctly identifies alopecia areata as a condition that can affect any hairy area on the body and may progress to involve most or all of the scalp (alopecia universalis). Therefore, the relevance rating is 5 - Highly Relevant.\n",
            "\n",
            "There is no need for page(s) found information in this case since the answer is derived directly from the context provided.\n"
          ]
        }
      ]
    },
    {
      "cell_type": "markdown",
      "source": [
        "Observation\n",
        "- Again Grounded and Relevance are at 5\n",
        "- Though this prompt didn't add much Answer or step by step evaluvation to the questions\n",
        "- This includes the pages where to find the answers to the questions (cheatsheet for students)\n",
        "- This provies one point clear is that when the LLM response is asked for a straight forward answer, it is easy for to get high evaluvation metrics on Groundedness and Relevance scores"
      ],
      "metadata": {
        "id": "Our-RuJWnGhc"
      }
    },
    {
      "cell_type": "code",
      "source": [
        "user_input = \"What treatments are recommended for a person who has sustained a physical injury to brain tissue, resulting in temporary or permanent impairment of brain function?\"\n",
        "grounded_rate, relevance_rate = generate_prompt_rating_response(user_input,max_tokens=350, top_k=70)\n",
        "print(grounded_rate,end=\"\\n\\n\")\n",
        "print(relevance_rate)"
      ],
      "metadata": {
        "colab": {
          "base_uri": "https://localhost:8080/"
        },
        "id": "DI9LqguAGpra",
        "outputId": "a4256b02-dc35-4990-84dd-9343bc4d9eda"
      },
      "execution_count": null,
      "outputs": [
        {
          "output_type": "stream",
          "name": "stderr",
          "text": [
            "Llama.generate: prefix-match hit\n",
            "Llama.generate: prefix-match hit\n",
            "Llama.generate: prefix-match hit\n"
          ]
        },
        {
          "output_type": "stream",
          "name": "stdout",
          "text": [
            " Answer/Claim: The recommended treatments for a person with a physical injury to the brain resulting in temporary or permanent impairment of brain function.\n",
            "\n",
            "Groundedness Rating: 5 - Perfectly Grounded: The information is explicitly stated and verifiable within the provided source text.\n",
            "\n",
            "Page(s) Found: Throughout the context, specifically sections discussing initial treatment and subsequent care for traumatic brain injury.\n",
            "\n",
            " Relevance Rating: 5\n",
            "\n",
            "Answer/Claim: The recommended treatments for a person who has sustained a physical injury to brain tissue, resulting in temporary or permanent impairment of brain function, include initial treatment such as ensuring a reliable airway, maintaining adequate ventilation, oxygenation, and blood pressure, as well as potential surgery, and subsequent rehabilitation.\n",
            "\n",
            "Explanation: The answer directly addresses the main aspects of the question by summarizing the recommended treatments for traumatic brain injury (TBI) from the context. It includes the initial treatment measures such as maintaining a reliable airway, adequate ventilation, oxygenation, and blood pressure, potential surgery, and subsequent rehabilitation. This information is essential for understanding the context and directly relates to the main topic of the question.\n"
          ]
        }
      ]
    },
    {
      "cell_type": "markdown",
      "source": [
        "Observation\n",
        "- Again Grounded and Relevance are at 5\n",
        "- Though this prompt didn't add much Answer or step by step evaluvation to the questions\n",
        "- This provies one point clear is that when the LLM response is asked for a straight forward answer, it is easy for to get high evaluvation metrics on Groundedness and Relevance scores"
      ],
      "metadata": {
        "id": "m6aXjIshnWND"
      }
    },
    {
      "cell_type": "code",
      "source": [
        "user_input = \"What are the necessary precautions and treatment steps for a person who has fractured their leg during a hiking trip, and what should be considered for their care and recovery?\"\n",
        "grounded_rate, relevance_rate = generate_prompt_rating_response(user_input,max_tokens=512)\n",
        "\n",
        "print(grounded_rate,end=\"\\n\\n\")\n",
        "print(relevance_rate)"
      ],
      "metadata": {
        "colab": {
          "base_uri": "https://localhost:8080/"
        },
        "id": "kpDWCsaSGpn8",
        "outputId": "67dccca0-2e52-44f6-a8ab-846b03f027db"
      },
      "execution_count": null,
      "outputs": [
        {
          "output_type": "stream",
          "name": "stderr",
          "text": [
            "Llama.generate: prefix-match hit\n",
            "Llama.generate: prefix-match hit\n",
            "Llama.generate: prefix-match hit\n"
          ]
        },
        {
          "output_type": "stream",
          "name": "stdout",
          "text": [
            " Answer/Claim: The necessary precautions and treatment steps for a person with a suspected open leg fracture.\n",
            "\n",
            "Groundedness Rating: 5 - Perfectly Grounded: The information is explicitly stated in the provided context.\n",
            "\n",
            "Page(s) Found: The context itself does not provide specific page numbers, but the information can be found in Chapter 323. Fractures, Dislocations & Sprains of The Merck Manual of Diagnosis & Therapy, 19th Edition.\n",
            "\n",
            " Answer/Claim: The necessary precautions and treatment steps for a suspected open leg fracture include sterile wound dressings, tetanus prophylaxis, and broad-spectrum antibiotics (eg, a 2nd-generation cephalosporin plus an aminoglycoside).\n",
            "\n",
            "Relevance Rating: 5 - Highly Relevant: The answer directly addresses the main aspects of the question by providing specific treatment steps for a suspected open leg fracture.\n",
            "\n",
            "Page(s) Found: The information is from the context provided, specifically from the text mentioning \"sterile wound dressings, tetanus prophylaxis, and broad-spectrum antibiotics\" in relation to suspected open fractures.\n"
          ]
        }
      ]
    },
    {
      "cell_type": "markdown",
      "source": [
        "Observation\n",
        "- Again Grounded and Relevance are at 5\n",
        "- Though this prompt didn't add much Answer or step by step evaluvation to the questions\n",
        "- This provies one point clear is that when the LLM response is asked for a straight forward answer, it is easy for to get high evaluvation metrics on Groundedness and Relevance scores"
      ],
      "metadata": {
        "id": "7ITS4GmYnZ8c"
      }
    },
    {
      "cell_type": "markdown",
      "source": [
        "####Using Gemini LLM\n",
        "- This is a quick experiment with Gemini LLM to use it as an API to generate RAG responses"
      ],
      "metadata": {
        "id": "PDnDHgE3VjpZ"
      }
    },
    {
      "cell_type": "code",
      "source": [
        "!pip install -q langchain-google-genai\n",
        "from langchain.chains import RetrievalQA\n",
        "from langchain_google_genai import ChatGoogleGenerativeAI"
      ],
      "metadata": {
        "colab": {
          "base_uri": "https://localhost:8080/"
        },
        "id": "Up6-ECGXrxCz",
        "outputId": "b7ac751b-3b33-4834-f5f9-7363d7585155"
      },
      "execution_count": null,
      "outputs": [
        {
          "output_type": "stream",
          "name": "stdout",
          "text": [
            "\u001b[?25l   \u001b[90m━━━━━━━━━━━━━━━━━━━━━━━━━━━━━━━━━━━━━━━━\u001b[0m \u001b[32m0.0/44.8 kB\u001b[0m \u001b[31m?\u001b[0m eta \u001b[36m-:--:--\u001b[0m\r\u001b[2K   \u001b[90m━━━━━━━━━━━━━━━━━━━━━━━━━━━━━━━━━━━━━━━━\u001b[0m \u001b[32m44.8/44.8 kB\u001b[0m \u001b[31m3.4 MB/s\u001b[0m eta \u001b[36m0:00:00\u001b[0m\n",
            "\u001b[?25h\u001b[?25l   \u001b[90m━━━━━━━━━━━━━━━━━━━━━━━━━━━━━━━━━━━━━━━━\u001b[0m \u001b[32m0.0/1.4 MB\u001b[0m \u001b[31m?\u001b[0m eta \u001b[36m-:--:--\u001b[0m\r\u001b[2K   \u001b[91m━━━━━━━━━━━━━━━━━━━━━━━━━━━━━━\u001b[0m\u001b[90m╺\u001b[0m\u001b[90m━━━━━━━━━\u001b[0m \u001b[32m1.0/1.4 MB\u001b[0m \u001b[31m67.1 MB/s\u001b[0m eta \u001b[36m0:00:01\u001b[0m\r\u001b[2K   \u001b[91m━━━━━━━━━━━━━━━━━━━━━━━━━━━━━━\u001b[0m\u001b[90m╺\u001b[0m\u001b[90m━━━━━━━━━\u001b[0m \u001b[32m1.0/1.4 MB\u001b[0m \u001b[31m67.1 MB/s\u001b[0m eta \u001b[36m0:00:01\u001b[0m\r\u001b[2K   \u001b[90m━━━━━━━━━━━━━━━━━━━━━━━━━━━━━━━━━━━━━━━━\u001b[0m \u001b[32m1.4/1.4 MB\u001b[0m \u001b[31m16.2 MB/s\u001b[0m eta \u001b[36m0:00:00\u001b[0m\n",
            "\u001b[?25h\u001b[31mERROR: pip's dependency resolver does not currently take into account all the packages that are installed. This behaviour is the source of the following dependency conflicts.\n",
            "google-generativeai 0.8.5 requires google-ai-generativelanguage==0.6.15, but you have google-ai-generativelanguage 0.6.18 which is incompatible.\u001b[0m\u001b[31m\n",
            "\u001b[0m"
          ]
        }
      ]
    },
    {
      "cell_type": "code",
      "source": [
        "import google.generativeai as genai\n",
        "GOOGLE_API_KEY = \"XXXX\"\n",
        "genai.configure(api_key=GOOGLE_API_KEY)\n",
        "from langchain_google_genai import GoogleGenerativeAIEmbeddings, ChatGoogleGenerativeAI\n",
        "embeddings_model = GoogleGenerativeAIEmbeddings(model=\"models/embedding-001\")\n",
        "llm_chat_gemini = ChatGoogleGenerativeAI(model=\"gemini-1.5-flash\", temperature=0.2)"
      ],
      "metadata": {
        "id": "rHXLm2L52vkY"
      },
      "execution_count": null,
      "outputs": []
    },
    {
      "cell_type": "code",
      "source": [
        "model_0 = genai.GenerativeModel('gemini-1.5-flash')"
      ],
      "metadata": {
        "id": "8Stzj3jI3fKQ"
      },
      "execution_count": null,
      "outputs": []
    },
    {
      "cell_type": "markdown",
      "source": [
        "Observation\n",
        "- installing required imports for Gemini AI\n",
        "- Setting of GOOGLE API KEY\n",
        " - Though it is hardcoded here but in real-time scenario we should use Colab +Add new secret in the settings"
      ],
      "metadata": {
        "id": "CH8Ds6tanrjO"
      }
    },
    {
      "cell_type": "code",
      "source": [
        "def generate_GEMINI_1_5_rag_response(user_input,k=3,max_tokens=128,temperature=0,top_p=0.95,top_k=50):\n",
        "    global qna_system_message,qna_user_message_template\n",
        "    # Retrieve relevant document chunks\n",
        "    relevant_document_chunks = retriever.get_relevant_documents(query=user_input,k=k)\n",
        "    context_list = [d.page_content for d in relevant_document_chunks]\n",
        "\n",
        "    # Combine document chunks into a single context\n",
        "    context_for_query = \". \".join(context_list)\n",
        "\n",
        "    user_message = qna_user_message_template.replace('{context}', context_for_query)\n",
        "    user_message = user_message.replace('{question}', user_input)\n",
        "\n",
        "\n",
        "    prompt = qna_system_message + '\\n' + user_message\n",
        "\n",
        "\n",
        "\n",
        "    # Generate the response\n",
        "    try:\n",
        "        response_chat = model_0.generate_content(\n",
        "            prompt,\n",
        "            generation_config={\n",
        "                \"temperature\": temperature,\n",
        "                \"top_p\": top_p,\n",
        "                \"top_k\": top_k,\n",
        "                # 'max_output_tokens' is the parameter for the direct SDK\n",
        "                \"max_output_tokens\": 1024  # Example: You can set this explicitly\n",
        "            }\n",
        "        )\n",
        "\n",
        "        #print(response_chat)\n",
        "\n",
        "        # The response is an AIMessage object, access its content attribute\n",
        "        generated_text = response_chat.text\n",
        "        return generated_text\n",
        "\n",
        "    except Exception as e:\n",
        "        response = f'Sorry, I encountered the following error: \\n {e}'\n",
        "\n",
        "    return response"
      ],
      "metadata": {
        "id": "-sR01Ak6ynZl"
      },
      "execution_count": null,
      "outputs": []
    },
    {
      "cell_type": "code",
      "source": [
        "user_input = \"What is the protocol for managing sepsis in a critical care unit? For the answer provided please provide a groundedness and relevance rating!\"\n",
        "response = generate_GEMINI_1_5_rag_response(user_input, max_tokens=1024)\n",
        "print(response)"
      ],
      "metadata": {
        "colab": {
          "base_uri": "https://localhost:8080/",
          "height": 52
        },
        "id": "EmzxyP8dzRnl",
        "outputId": "f641dd30-a16c-41ad-a8ab-42d3e3c50ff0"
      },
      "execution_count": null,
      "outputs": [
        {
          "output_type": "stream",
          "name": "stdout",
          "text": [
            "I don't know\n",
            "\n"
          ]
        }
      ]
    },
    {
      "cell_type": "code",
      "source": [
        "user_input = \"What is the protocol for managing sepsis in a critical care unit?\"\n",
        "response = generate_GEMINI_1_5_rag_response(user_input, max_tokens=1024)\n",
        "print(response)"
      ],
      "metadata": {
        "colab": {
          "base_uri": "https://localhost:8080/",
          "height": 72
        },
        "id": "gQeslqgsZjPR",
        "outputId": "ecbd3ea9-f4bc-4707-abed-9b6c8fd593c2"
      },
      "execution_count": null,
      "outputs": [
        {
          "output_type": "stream",
          "name": "stdout",
          "text": [
            "Patients with septic shock should be treated in an ICU and have the following monitored frequently: systemic pressure; CVP, PAOP, or both; pulse oximetry; ABGs; blood glucose, lactate, and electrolyte levels; renal function; and possibly sublingual PCO2.  Urine output should be measured, usually with an indwelling catheter. Fluid resuscitation with 0.9% saline should be given until CVP reaches 8 mm Hg (10 cm H2O) or PAOP reaches 12 to 15 mm Hg.  If a patient remains hypotensive after CVP or PAOP has been raised to target levels, dopamine may be given to increase mean BP to at least 60 mm Hg. If the dopamine dose exceeds 20 μg/kg/min, norepinephrine may be added. O2 is given by mask or nasal prongs, and tracheal intubation and mechanical ventilation may be needed for respiratory failure.\n",
            "\n"
          ]
        }
      ]
    },
    {
      "cell_type": "markdown",
      "source": [
        "Observation\n",
        "- Above two console has the same question except the first one asking for extra relevance\n",
        "- Answer to the 1 item is simple **I don't know**\n",
        "- Second question is exact the same question asked in the RAG Question without any modification\n",
        " -  And we could see a direct response is generated with short, clean and concise answer\n",
        " - Need further development and fine tuning, but this is just experimenting and did not concentrate much to develope this a full fledged app"
      ],
      "metadata": {
        "id": "CmY3C2npoggb"
      }
    },
    {
      "cell_type": "code",
      "source": [
        "import google.generativeai as genai\n",
        "# Ensure your API key is configured here as per the above steps\n",
        "# genai.configure(api_key=\"...\")\n",
        "\n",
        "try:\n",
        "    model = genai.GenerativeModel('gemini-1.5-flash')\n",
        "    response = model.generate_content(\"Hello, Gemini!\")\n",
        "    print(response.text)\n",
        "    print(\"API key is working!\")\n",
        "except Exception as e:\n",
        "    print(f\"API key test failed: {e}\")"
      ],
      "metadata": {
        "colab": {
          "base_uri": "https://localhost:8080/",
          "height": 69
        },
        "id": "0Yx3t9oix5ex",
        "outputId": "3cf22a42-c251-4d2e-9764-73a4978d7b65"
      },
      "execution_count": null,
      "outputs": [
        {
          "output_type": "stream",
          "name": "stdout",
          "text": [
            "Hello there!  How can I help you today?\n",
            "\n",
            "API key is working!\n"
          ]
        }
      ]
    },
    {
      "cell_type": "markdown",
      "source": [
        "Observation\n",
        "- This a sample on contecting to Gemini API to generate content"
      ],
      "metadata": {
        "id": "dS-uxbDrpfX6"
      }
    },
    {
      "cell_type": "markdown",
      "metadata": {
        "id": "Y7QICRU-njdj"
      },
      "source": [
        "## Actionable Insights, Business Recommendations and Techinical Challenges"
      ]
    },
    {
      "cell_type": "markdown",
      "source": [
        "Insights and Business Recommendations\n",
        "- Vector Store creation time increases with increase in number of pages in the document\n",
        "- Configuration Parameters are so important for fine-tuning and prompt engineering\n",
        "- max_tokens depends on query complexity and needs higher value for details response\n",
        "- n_ctx is a critical parameter for llm to define exactly on number of tokens that llm can consider as context at any given time. This includes input token and any text generated and fine tuning this parameter to suit the RAG responses\n",
        "-  n_gpu_layers=23 this parameter again shifts most of the computing tasks to GPU and we will have fine tune this parameter to suit your GPU core and memory. Multiple fine tuning has been made from -1 to 43, -1 for CPU compute. And finally achieved GPU layer of 23 which did not make my session go crashing.\n",
        "- chunk_overlap another parameter which will overlap and provide context from one document to antoher and chunk_size is set 512 and this is a standard recommendation for Chroma/Pinecode. Rage is from 256-1000\n",
        "  - smaller chunks used for specific information\n",
        "  - larger the chunk value is for summerizing concepts and understanding relation between the information (512-1000)\n",
        "- Continuously adjust RAG parameters based on specific use cases for optimal performance.\n",
        "- Prioritize groundedness and relevance in evaluations to ensure reliable and contextually accurate outputs.\n",
        "\n",
        "\n",
        "Technical challenges\n",
        "-  This section is important for this application as the challenges faced during developing RAG responses took out of the box thinking to resolve\n",
        "- Got a $9.99 extra compute units for training and evaluvating the RAG Responses\n",
        "- Session was crashing and had to restart from the start everytime\n",
        "- Out of memory was continously thrown during vector_store implementation and also while running a RAG question and answer\n",
        " - This is made to buy additional compute units\n",
        " - This made me learn how to save the Chroma DB Vectors to Google Drive and retrieve it for later to use it\n",
        " - Lots of other learning when switching to Gemini API, but the only concern in using it is - cannot be fine tunned with LLM parameters\n",
        " - n_ctx and n_batch should be rightly choosen while development as both have their own stype in execution\n",
        "  - n_ctx takens the total tokens (input+output) and our RAG prompt question itself might take more tokens and the output expected may not match the entire criteria of the response format in the RAG response\n",
        "  - n_batch - have a higher value can potentially speed up the prompt processing phase and utilizing parallel processing capabilties for the very large batch sizes\n",
        "   - But with that comes loads of memory consumption\n",
        "  - These two parameters made the LLM to be fine tuned and made this app to run again without any memory errors or issues\n"
      ],
      "metadata": {
        "id": "bv7j8GFzpoM4"
      }
    },
    {
      "cell_type": "markdown",
      "metadata": {
        "id": "ybRlzaIhWaM9"
      },
      "source": [
        "<font size=6 color='blue'>Power Ahead</font>\n",
        "___"
      ]
    }
  ],
  "metadata": {
    "colab": {
      "collapsed_sections": [
        "3CNz35ia6Bz3",
        "CkRbhMJH6Bz3",
        "CARPKFwm6Bz4",
        "by9EvAnkSpZf",
        "EzzkvIXvFTS4",
        "K8YgK91SFjVY",
        "J6yxICeVFjVc",
        "oflaoOGiFjVd",
        "WUUqY4FbFjVe",
        "5laPFTHrFjVf",
        "g5myZ5dOOefc",
        "iYpyw4HjOeff",
        "dRp92JQZOeff",
        "AA45zwyUOefg",
        "TYXxiSuBOefg",
        "f9weTDzMxRRS",
        "7-wNNalNxPKT"
      ],
      "provenance": [],
      "include_colab_link": true
    },
    "kernel_info": {
      "name": "python310-sdkv2"
    },
    "kernelspec": {
      "display_name": "Python 3",
      "name": "python3"
    },
    "language_info": {
      "name": "python"
    },
    "microsoft": {
      "host": {
        "AzureML": {
          "notebookHasBeenCompleted": true
        }
      },
      "ms_spell_check": {
        "ms_spell_check_language": "en"
      }
    },
    "nteract": {
      "version": "nteract-front-end@1.0.0"
    }
  },
  "nbformat": 4,
  "nbformat_minor": 0
}